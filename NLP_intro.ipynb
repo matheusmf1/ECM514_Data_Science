{
  "nbformat": 4,
  "nbformat_minor": 0,
  "metadata": {
    "colab": {
      "name": "NLP-intro.ipynb",
      "provenance": [],
      "collapsed_sections": [],
      "authorship_tag": "ABX9TyMPpxRQGTjQlcmEDOshdBlu",
      "include_colab_link": true
    },
    "kernelspec": {
      "name": "python3",
      "display_name": "Python 3"
    }
  },
  "cells": [
    {
      "cell_type": "markdown",
      "metadata": {
        "id": "view-in-github",
        "colab_type": "text"
      },
      "source": [
        "<a href=\"https://colab.research.google.com/github/matheusmf1/ECM514_Data_Science/blob/master/NLP_intro.ipynb\" target=\"_parent\"><img src=\"https://colab.research.google.com/assets/colab-badge.svg\" alt=\"Open In Colab\"/></a>"
      ]
    },
    {
      "cell_type": "code",
      "metadata": {
        "id": "BYYJBtAcXuHo",
        "colab_type": "code",
        "colab": {}
      },
      "source": [
        "import nltk\n",
        "nltk.download('popular')\n",
        "import pandas as pd\n",
        "import numpy as np"
      ],
      "execution_count": null,
      "outputs": []
    },
    {
      "cell_type": "markdown",
      "metadata": {
        "id": "aaubiO-OZcS_",
        "colab_type": "text"
      },
      "source": [
        "# Tokenização"
      ]
    },
    {
      "cell_type": "code",
      "metadata": {
        "id": "SlABca5CYrVe",
        "colab_type": "code",
        "colab": {}
      },
      "source": [
        "# Samples of Text\n",
        "exemplo_0 = \"Gostaria de ter ido para Itália nas férias. Mas o meu primo queria ir para outro lugar.\"\n",
        "exemplo_1 = \"Eu gosto muito de jogar video game, porém só de plataforma. Mas meus amigos não gostam, eu não ligo. NÃO LIGO!\""
      ],
      "execution_count": 4,
      "outputs": []
    },
    {
      "cell_type": "code",
      "metadata": {
        "id": "rzdEnw9eaLEN",
        "colab_type": "code",
        "colab": {}
      },
      "source": [
        "from nltk.tokenize import word_tokenize\n",
        "\n",
        "w_token_0 = word_tokenize( exemplo_0 )\n",
        "w_token_1 = word_tokenize( exemplo_1 )"
      ],
      "execution_count": 5,
      "outputs": []
    },
    {
      "cell_type": "code",
      "metadata": {
        "id": "dbQhwG0yaXun",
        "colab_type": "code",
        "colab": {
          "base_uri": "https://localhost:8080/",
          "height": 71
        },
        "outputId": "1196e6da-d971-41fc-ef63-258cdcf623fb"
      },
      "source": [
        "print( w_token_0 )\n",
        "print( w_token_1 )"
      ],
      "execution_count": 6,
      "outputs": [
        {
          "output_type": "stream",
          "text": [
            "['Gostaria', 'de', 'ter', 'ido', 'para', 'Itália', 'nas', 'férias', '.', 'Mas', 'o', 'meu', 'primo', 'queria', 'ir', 'para', 'outro', 'lugar', '.']\n",
            "['Eu', 'gosto', 'muito', 'de', 'jogar', 'video', 'game', ',', 'porém', 'só', 'de', 'plataforma', '.', 'Mas', 'meus', 'amigos', 'não', 'gostam', ',', 'eu', 'não', 'ligo', '.', 'NÃO', 'LIGO', '!']\n"
          ],
          "name": "stdout"
        }
      ]
    },
    {
      "cell_type": "markdown",
      "metadata": {
        "id": "kg_JHG33ajL-",
        "colab_type": "text"
      },
      "source": [
        "# Sentenças"
      ]
    },
    {
      "cell_type": "code",
      "metadata": {
        "id": "Em2c7oyBabrx",
        "colab_type": "code",
        "colab": {}
      },
      "source": [
        "from nltk.tokenize import sent_tokenize\n",
        "\n",
        "s_token_0 = sent_tokenize( exemplo_0 )\n",
        "s_token_1 = sent_tokenize( exemplo_1 )"
      ],
      "execution_count": 7,
      "outputs": []
    },
    {
      "cell_type": "code",
      "metadata": {
        "id": "uoDU4yvtaylR",
        "colab_type": "code",
        "colab": {
          "base_uri": "https://localhost:8080/",
          "height": 51
        },
        "outputId": "5b1eace7-16e9-4611-fe25-e377a0932a57"
      },
      "source": [
        "print( s_token_0 )\n",
        "print( s_token_1 )"
      ],
      "execution_count": 9,
      "outputs": [
        {
          "output_type": "stream",
          "text": [
            "['Gostaria de ter ido para Itália nas férias.', 'Mas o meu primo queria ir para outro lugar.']\n",
            "['Eu gosto muito de jogar video game, porém só de plataforma.', 'Mas meus amigos não gostam, eu não ligo.', 'NÃO LIGO!']\n"
          ],
          "name": "stdout"
        }
      ]
    },
    {
      "cell_type": "markdown",
      "metadata": {
        "id": "_FlMp5pUbQkw",
        "colab_type": "text"
      },
      "source": [
        "# Remoção de Stop Words"
      ]
    },
    {
      "cell_type": "code",
      "metadata": {
        "id": "bkfpzOPCa1jo",
        "colab_type": "code",
        "colab": {}
      },
      "source": [
        "from nltk.corpus import stopwords\n",
        "from string import punctuation"
      ],
      "execution_count": 10,
      "outputs": []
    },
    {
      "cell_type": "code",
      "metadata": {
        "id": "-E-fY3oGcI55",
        "colab_type": "code",
        "colab": {
          "base_uri": "https://localhost:8080/",
          "height": 54
        },
        "outputId": "bc1bc226-d164-4164-dfa1-401004be0c98"
      },
      "source": [
        "stw = stopwords.words('portuguese')\n",
        "print( stw )"
      ],
      "execution_count": 11,
      "outputs": [
        {
          "output_type": "stream",
          "text": [
            "['de', 'a', 'o', 'que', 'e', 'é', 'do', 'da', 'em', 'um', 'para', 'com', 'não', 'uma', 'os', 'no', 'se', 'na', 'por', 'mais', 'as', 'dos', 'como', 'mas', 'ao', 'ele', 'das', 'à', 'seu', 'sua', 'ou', 'quando', 'muito', 'nos', 'já', 'eu', 'também', 'só', 'pelo', 'pela', 'até', 'isso', 'ela', 'entre', 'depois', 'sem', 'mesmo', 'aos', 'seus', 'quem', 'nas', 'me', 'esse', 'eles', 'você', 'essa', 'num', 'nem', 'suas', 'meu', 'às', 'minha', 'numa', 'pelos', 'elas', 'qual', 'nós', 'lhe', 'deles', 'essas', 'esses', 'pelas', 'este', 'dele', 'tu', 'te', 'vocês', 'vos', 'lhes', 'meus', 'minhas', 'teu', 'tua', 'teus', 'tuas', 'nosso', 'nossa', 'nossos', 'nossas', 'dela', 'delas', 'esta', 'estes', 'estas', 'aquele', 'aquela', 'aqueles', 'aquelas', 'isto', 'aquilo', 'estou', 'está', 'estamos', 'estão', 'estive', 'esteve', 'estivemos', 'estiveram', 'estava', 'estávamos', 'estavam', 'estivera', 'estivéramos', 'esteja', 'estejamos', 'estejam', 'estivesse', 'estivéssemos', 'estivessem', 'estiver', 'estivermos', 'estiverem', 'hei', 'há', 'havemos', 'hão', 'houve', 'houvemos', 'houveram', 'houvera', 'houvéramos', 'haja', 'hajamos', 'hajam', 'houvesse', 'houvéssemos', 'houvessem', 'houver', 'houvermos', 'houverem', 'houverei', 'houverá', 'houveremos', 'houverão', 'houveria', 'houveríamos', 'houveriam', 'sou', 'somos', 'são', 'era', 'éramos', 'eram', 'fui', 'foi', 'fomos', 'foram', 'fora', 'fôramos', 'seja', 'sejamos', 'sejam', 'fosse', 'fôssemos', 'fossem', 'for', 'formos', 'forem', 'serei', 'será', 'seremos', 'serão', 'seria', 'seríamos', 'seriam', 'tenho', 'tem', 'temos', 'tém', 'tinha', 'tínhamos', 'tinham', 'tive', 'teve', 'tivemos', 'tiveram', 'tivera', 'tivéramos', 'tenha', 'tenhamos', 'tenham', 'tivesse', 'tivéssemos', 'tivessem', 'tiver', 'tivermos', 'tiverem', 'terei', 'terá', 'teremos', 'terão', 'teria', 'teríamos', 'teriam']\n"
          ],
          "name": "stdout"
        }
      ]
    },
    {
      "cell_type": "code",
      "metadata": {
        "id": "7ayRa5X0cYkC",
        "colab_type": "code",
        "colab": {}
      },
      "source": [
        "stw.remove( 'não' )\n",
        "# o 'não' será mantido no corpus"
      ],
      "execution_count": 12,
      "outputs": []
    },
    {
      "cell_type": "code",
      "metadata": {
        "id": "OxJSp7ArclRE",
        "colab_type": "code",
        "colab": {
          "base_uri": "https://localhost:8080/",
          "height": 54
        },
        "outputId": "12440a6d-9e16-4279-ab2d-9a1684b0a8c4"
      },
      "source": [
        "print( stw )"
      ],
      "execution_count": 13,
      "outputs": [
        {
          "output_type": "stream",
          "text": [
            "['de', 'a', 'o', 'que', 'e', 'é', 'do', 'da', 'em', 'um', 'para', 'com', 'uma', 'os', 'no', 'se', 'na', 'por', 'mais', 'as', 'dos', 'como', 'mas', 'ao', 'ele', 'das', 'à', 'seu', 'sua', 'ou', 'quando', 'muito', 'nos', 'já', 'eu', 'também', 'só', 'pelo', 'pela', 'até', 'isso', 'ela', 'entre', 'depois', 'sem', 'mesmo', 'aos', 'seus', 'quem', 'nas', 'me', 'esse', 'eles', 'você', 'essa', 'num', 'nem', 'suas', 'meu', 'às', 'minha', 'numa', 'pelos', 'elas', 'qual', 'nós', 'lhe', 'deles', 'essas', 'esses', 'pelas', 'este', 'dele', 'tu', 'te', 'vocês', 'vos', 'lhes', 'meus', 'minhas', 'teu', 'tua', 'teus', 'tuas', 'nosso', 'nossa', 'nossos', 'nossas', 'dela', 'delas', 'esta', 'estes', 'estas', 'aquele', 'aquela', 'aqueles', 'aquelas', 'isto', 'aquilo', 'estou', 'está', 'estamos', 'estão', 'estive', 'esteve', 'estivemos', 'estiveram', 'estava', 'estávamos', 'estavam', 'estivera', 'estivéramos', 'esteja', 'estejamos', 'estejam', 'estivesse', 'estivéssemos', 'estivessem', 'estiver', 'estivermos', 'estiverem', 'hei', 'há', 'havemos', 'hão', 'houve', 'houvemos', 'houveram', 'houvera', 'houvéramos', 'haja', 'hajamos', 'hajam', 'houvesse', 'houvéssemos', 'houvessem', 'houver', 'houvermos', 'houverem', 'houverei', 'houverá', 'houveremos', 'houverão', 'houveria', 'houveríamos', 'houveriam', 'sou', 'somos', 'são', 'era', 'éramos', 'eram', 'fui', 'foi', 'fomos', 'foram', 'fora', 'fôramos', 'seja', 'sejamos', 'sejam', 'fosse', 'fôssemos', 'fossem', 'for', 'formos', 'forem', 'serei', 'será', 'seremos', 'serão', 'seria', 'seríamos', 'seriam', 'tenho', 'tem', 'temos', 'tém', 'tinha', 'tínhamos', 'tinham', 'tive', 'teve', 'tivemos', 'tiveram', 'tivera', 'tivéramos', 'tenha', 'tenhamos', 'tenham', 'tivesse', 'tivéssemos', 'tivessem', 'tiver', 'tivermos', 'tiverem', 'terei', 'terá', 'teremos', 'terão', 'teria', 'teríamos', 'teriam']\n"
          ],
          "name": "stdout"
        }
      ]
    },
    {
      "cell_type": "code",
      "metadata": {
        "id": "zkvcKqARcmtL",
        "colab_type": "code",
        "colab": {}
      },
      "source": [
        "stw.append( 'não' ) # adiciona a lista de stop words"
      ],
      "execution_count": 14,
      "outputs": []
    },
    {
      "cell_type": "code",
      "metadata": {
        "id": "P8v7mwnzc7gX",
        "colab_type": "code",
        "colab": {
          "base_uri": "https://localhost:8080/",
          "height": 54
        },
        "outputId": "bece12a3-50ff-4046-9d4e-bc27957836d2"
      },
      "source": [
        "print( stw )"
      ],
      "execution_count": 15,
      "outputs": [
        {
          "output_type": "stream",
          "text": [
            "['de', 'a', 'o', 'que', 'e', 'é', 'do', 'da', 'em', 'um', 'para', 'com', 'uma', 'os', 'no', 'se', 'na', 'por', 'mais', 'as', 'dos', 'como', 'mas', 'ao', 'ele', 'das', 'à', 'seu', 'sua', 'ou', 'quando', 'muito', 'nos', 'já', 'eu', 'também', 'só', 'pelo', 'pela', 'até', 'isso', 'ela', 'entre', 'depois', 'sem', 'mesmo', 'aos', 'seus', 'quem', 'nas', 'me', 'esse', 'eles', 'você', 'essa', 'num', 'nem', 'suas', 'meu', 'às', 'minha', 'numa', 'pelos', 'elas', 'qual', 'nós', 'lhe', 'deles', 'essas', 'esses', 'pelas', 'este', 'dele', 'tu', 'te', 'vocês', 'vos', 'lhes', 'meus', 'minhas', 'teu', 'tua', 'teus', 'tuas', 'nosso', 'nossa', 'nossos', 'nossas', 'dela', 'delas', 'esta', 'estes', 'estas', 'aquele', 'aquela', 'aqueles', 'aquelas', 'isto', 'aquilo', 'estou', 'está', 'estamos', 'estão', 'estive', 'esteve', 'estivemos', 'estiveram', 'estava', 'estávamos', 'estavam', 'estivera', 'estivéramos', 'esteja', 'estejamos', 'estejam', 'estivesse', 'estivéssemos', 'estivessem', 'estiver', 'estivermos', 'estiverem', 'hei', 'há', 'havemos', 'hão', 'houve', 'houvemos', 'houveram', 'houvera', 'houvéramos', 'haja', 'hajamos', 'hajam', 'houvesse', 'houvéssemos', 'houvessem', 'houver', 'houvermos', 'houverem', 'houverei', 'houverá', 'houveremos', 'houverão', 'houveria', 'houveríamos', 'houveriam', 'sou', 'somos', 'são', 'era', 'éramos', 'eram', 'fui', 'foi', 'fomos', 'foram', 'fora', 'fôramos', 'seja', 'sejamos', 'sejam', 'fosse', 'fôssemos', 'fossem', 'for', 'formos', 'forem', 'serei', 'será', 'seremos', 'serão', 'seria', 'seríamos', 'seriam', 'tenho', 'tem', 'temos', 'tém', 'tinha', 'tínhamos', 'tinham', 'tive', 'teve', 'tivemos', 'tiveram', 'tivera', 'tivéramos', 'tenha', 'tenhamos', 'tenham', 'tivesse', 'tivéssemos', 'tivessem', 'tiver', 'tivermos', 'tiverem', 'terei', 'terá', 'teremos', 'terão', 'teria', 'teríamos', 'teriam', 'não']\n"
          ],
          "name": "stdout"
        }
      ]
    },
    {
      "cell_type": "markdown",
      "metadata": {
        "id": "WNSYAgApdQD3",
        "colab_type": "text"
      },
      "source": [
        "# Pontuação"
      ]
    },
    {
      "cell_type": "code",
      "metadata": {
        "id": "lQitj__Fc_EJ",
        "colab_type": "code",
        "colab": {
          "base_uri": "https://localhost:8080/",
          "height": 37
        },
        "outputId": "7c582c99-bbba-4d1e-ab0d-e9e114cb9ac8"
      },
      "source": [
        "# lista de pontuação\n",
        "punctuation"
      ],
      "execution_count": 16,
      "outputs": [
        {
          "output_type": "execute_result",
          "data": {
            "application/vnd.google.colaboratory.intrinsic+json": {
              "type": "string"
            },
            "text/plain": [
              "'!\"#$%&\\'()*+,-./:;<=>?@[\\\\]^_`{|}~'"
            ]
          },
          "metadata": {
            "tags": []
          },
          "execution_count": 16
        }
      ]
    },
    {
      "cell_type": "code",
      "metadata": {
        "id": "mGdT7KZOdDlv",
        "colab_type": "code",
        "colab": {
          "base_uri": "https://localhost:8080/",
          "height": 34
        },
        "outputId": "f19b8382-4c2b-4f87-efb3-482f81cc6987"
      },
      "source": [
        "print( list( punctuation ) )"
      ],
      "execution_count": 18,
      "outputs": [
        {
          "output_type": "stream",
          "text": [
            "['!', '\"', '#', '$', '%', '&', \"'\", '(', ')', '*', '+', ',', '-', '.', '/', ':', ';', '<', '=', '>', '?', '@', '[', '\\\\', ']', '^', '_', '`', '{', '|', '}', '~']\n"
          ],
          "name": "stdout"
        }
      ]
    },
    {
      "cell_type": "markdown",
      "metadata": {
        "id": "rXg8eK-ZfCWX",
        "colab_type": "text"
      },
      "source": [
        "# Lista Stop Words Final, junção de listas"
      ]
    },
    {
      "cell_type": "code",
      "metadata": {
        "id": "UDc1Vo1KdVjJ",
        "colab_type": "code",
        "colab": {}
      },
      "source": [
        "# Conjunto que será removido do corpus\n",
        "stw_pt = set( stw + list( punctuation ) )"
      ],
      "execution_count": 19,
      "outputs": []
    },
    {
      "cell_type": "code",
      "metadata": {
        "id": "jv4wrjuGe5oW",
        "colab_type": "code",
        "colab": {
          "base_uri": "https://localhost:8080/",
          "height": 54
        },
        "outputId": "3e46cce3-60c2-4558-c09a-a16fce239e74"
      },
      "source": [
        "print( stw_pt )"
      ],
      "execution_count": 20,
      "outputs": [
        {
          "output_type": "stream",
          "text": [
            "{'as', 'essas', 'estejamos', 'mas', 'seus', 'aqueles', 'esteja', 'dos', 'numa', 'estivessem', 'seríamos', 'tivéssemos', 'depois', 'esteve', 'nossos', 'ou', 'hão', 'aquelas', 'tivera', 'sua', '%', ')', 'teus', '.', 'este', '\"', 'estas', 'estavam', '*', 'me', 'estão', 'hei', 'houveríamos', 'temos', '?', ',', 'mesmo', 'nem', 'das', 'sejam', 'para', 'aquilo', 'há', 'tem', 'tivermos', 'minha', '=', 'tiver', '&', '>', '<', 'fossem', 'terei', 'se', 'houvéramos', 'éramos', 'estivéramos', 'lhe', 'delas', 'tivemos', 'hajam', 'houverão', 'sou', 'tive', 'tivessem', '\\\\', 'nosso', 'havemos', 'hajamos', 'houveram', 'aquele', 'tu', 'somos', 'será', 'dela', 'até', 'pelas', 'vos', 'na', 'estávamos', 'houverá', 'sem', 'que', 'ele', 'com', 'estamos', 'tínhamos', 'fomos', '{', '$', 'de', 'uma', 'houvemos', 'nossa', 'estes', 'num', 'houvermos', 'a', 'nos', 'essa', 'também', 'aos', 'não', 'terá', 'houveremos', 'o', 'você', 'aquela', 'teria', 'tenha', '!', 'isso', 'estiver', '`', 'houver', 'tivesse', 'isto', 'seremos', 'houvessem', 'teríamos', 'foram', 'lhes', ':', 'seria', 'da', 'seu', '(', 'qual', 'serei', 'seriam', 'houve', 'por', '|', 'vocês', 'estiveram', 'terão', 'só', 'estiverem', 'sejamos', '[', 'meu', 'estivera', '~', 'haja', 'no', '+', '-', 'for', 'nas', 'estivéssemos', '#', \"'\", 'estivermos', 'ao', 'meus', 'serão', 'seja', 'muito', 'e', 'houvera', 'tuas', 'como', 'minhas', 'em', 'fôssemos', 'forem', 'nós', 'tinha', 'elas', 'tivéramos', 'tenhamos', 'deles', 'houverei', 'do', 'pelos', 'fosse', '@', 'pelo', 'fôramos', 'houvesse', 'tiveram', '_', 'houvéssemos', 'esses', 'te', 'teve', 'tenho', 'teriam', 'tenham', 'entre', 'tinham', 'houveria', 'já', 'esse', 'são', 'é', 'nossas', 'quem', 'tém', 'à', 'quando', 'eram', 'fui', 'pela', 'os', ']', '}', 'estava', 'houveriam', 'estivesse', 'estejam', 'tua', 'tiverem', 'está', 'mais', 'houverem', 'era', '/', ';', 'foi', 'teremos', 'às', 'ela', 'um', 'eles', 'estou', 'estive', 'fora', 'formos', 'esta', 'suas', 'teu', '^', 'dele', 'estivemos', 'eu'}\n"
          ],
          "name": "stdout"
        }
      ]
    },
    {
      "cell_type": "markdown",
      "metadata": {
        "id": "QWnEzyU3fWDE",
        "colab_type": "text"
      },
      "source": [
        "# Removendo do Corpus"
      ]
    },
    {
      "cell_type": "code",
      "metadata": {
        "id": "GqM0uAt_fxf7",
        "colab_type": "code",
        "colab": {
          "base_uri": "https://localhost:8080/",
          "height": 34
        },
        "outputId": "77681806-a27d-4add-928e-0ef1f027e35f"
      },
      "source": [
        "print( w_token_0 )"
      ],
      "execution_count": 23,
      "outputs": [
        {
          "output_type": "stream",
          "text": [
            "['Gostaria', 'de', 'ter', 'ido', 'para', 'Itália', 'nas', 'férias', '.', 'Mas', 'o', 'meu', 'primo', 'queria', 'ir', 'para', 'outro', 'lugar', '.']\n"
          ],
          "name": "stdout"
        }
      ]
    },
    {
      "cell_type": "code",
      "metadata": {
        "id": "e7rfjEkve_mH",
        "colab_type": "code",
        "colab": {}
      },
      "source": [
        "w_token_0_sem_stop = [  palavra for palavra in w_token_0 if palavra not in stw_pt  ]\n",
        "w_token_1_sem_stop = [  palavra for palavra in w_token_1 if palavra not in stw_pt  ]"
      ],
      "execution_count": 24,
      "outputs": []
    },
    {
      "cell_type": "code",
      "metadata": {
        "id": "ILMI6S64gAyh",
        "colab_type": "code",
        "colab": {
          "base_uri": "https://localhost:8080/",
          "height": 71
        },
        "outputId": "5e898f80-ecc2-4fa2-bb24-1745d5a15ca7"
      },
      "source": [
        "print( w_token_1 )\n",
        "print( w_token_1_sem_stop )"
      ],
      "execution_count": 25,
      "outputs": [
        {
          "output_type": "stream",
          "text": [
            "['Eu', 'gosto', 'muito', 'de', 'jogar', 'video', 'game', ',', 'porém', 'só', 'de', 'plataforma', '.', 'Mas', 'meus', 'amigos', 'não', 'gostam', ',', 'eu', 'não', 'ligo', '.', 'NÃO', 'LIGO', '!']\n",
            "['Eu', 'gosto', 'jogar', 'video', 'game', 'porém', 'plataforma', 'Mas', 'amigos', 'gostam', 'ligo', 'NÃO', 'LIGO']\n"
          ],
          "name": "stdout"
        }
      ]
    },
    {
      "cell_type": "markdown",
      "metadata": {
        "id": "2DsFBluVgTP-",
        "colab_type": "text"
      },
      "source": [
        "### OFF ( Minúsculo )"
      ]
    },
    {
      "cell_type": "code",
      "metadata": {
        "id": "95R1fvlNgIbL",
        "colab_type": "code",
        "colab": {
          "base_uri": "https://localhost:8080/",
          "height": 54
        },
        "outputId": "a6b73a2c-c930-4b2e-9cd3-1d9768bce609"
      },
      "source": [
        "w_token_1_lower = word_tokenize( exemplo_1.lower() )\n",
        "print( w_token_1_lower )"
      ],
      "execution_count": 27,
      "outputs": [
        {
          "output_type": "stream",
          "text": [
            "['eu', 'gosto', 'muito', 'de', 'jogar', 'video', 'game', ',', 'porém', 'só', 'de', 'plataforma', '.', 'mas', 'meus', 'amigos', 'não', 'gostam', ',', 'eu', 'não', 'ligo', '.', 'não', 'ligo', '!']\n"
          ],
          "name": "stdout"
        }
      ]
    },
    {
      "cell_type": "code",
      "metadata": {
        "id": "MVpwOqUEgnTe",
        "colab_type": "code",
        "colab": {
          "base_uri": "https://localhost:8080/",
          "height": 34
        },
        "outputId": "628c0c2a-6848-4107-b168-cdeca214a5ec"
      },
      "source": [
        "w_token_1_lower_sem_stop = [  palavra for palavra in w_token_1_lower if palavra not in stw_pt  ]\n",
        "print( w_token_1_lower_sem_stop )"
      ],
      "execution_count": 28,
      "outputs": [
        {
          "output_type": "stream",
          "text": [
            "['gosto', 'jogar', 'video', 'game', 'porém', 'plataforma', 'amigos', 'gostam', 'ligo', 'ligo']\n"
          ],
          "name": "stdout"
        }
      ]
    },
    {
      "cell_type": "markdown",
      "metadata": {
        "id": "UTcANKMxhiJK",
        "colab_type": "text"
      },
      "source": [
        "# Stemming - Trazendo a palavra para o seu radical\n",
        "\n",
        "Para testar diferentes pacotes de steam: https://text-processing.com/demo/stem/\n",
        "\n",
        "Bibliotecas que fazem Lemmização: https://lars76.github.io/nlp/lemmatize-portuguese/"
      ]
    },
    {
      "cell_type": "code",
      "metadata": {
        "id": "fCXRmaIWg5VY",
        "colab_type": "code",
        "colab": {
          "base_uri": "https://localhost:8080/",
          "height": 68
        },
        "outputId": "5f67387c-212a-4db4-df0e-36cf19f8c3ea"
      },
      "source": [
        "nltk.download('rslp')"
      ],
      "execution_count": 29,
      "outputs": [
        {
          "output_type": "stream",
          "text": [
            "[nltk_data] Downloading package rslp to /root/nltk_data...\n",
            "[nltk_data]   Unzipping stemmers/rslp.zip.\n"
          ],
          "name": "stdout"
        },
        {
          "output_type": "execute_result",
          "data": {
            "text/plain": [
              "True"
            ]
          },
          "metadata": {
            "tags": []
          },
          "execution_count": 29
        }
      ]
    },
    {
      "cell_type": "code",
      "metadata": {
        "id": "VtDJfMEBiT7k",
        "colab_type": "code",
        "colab": {}
      },
      "source": [
        "from nltk.stem import RSLPStemmer\n",
        "\n",
        "stemmer = RSLPStemmer()"
      ],
      "execution_count": 30,
      "outputs": []
    },
    {
      "cell_type": "code",
      "metadata": {
        "id": "KMaaUmd4if4N",
        "colab_type": "code",
        "colab": {
          "base_uri": "https://localhost:8080/",
          "height": 37
        },
        "outputId": "3d63ec4f-506d-4896-bf3f-c0444cc57b3b"
      },
      "source": [
        "stemmer.stem( 'Mastigando' )"
      ],
      "execution_count": 31,
      "outputs": [
        {
          "output_type": "execute_result",
          "data": {
            "application/vnd.google.colaboratory.intrinsic+json": {
              "type": "string"
            },
            "text/plain": [
              "'mastig'"
            ]
          },
          "metadata": {
            "tags": []
          },
          "execution_count": 31
        }
      ]
    },
    {
      "cell_type": "code",
      "metadata": {
        "id": "uj_Nj1MBil84",
        "colab_type": "code",
        "colab": {
          "base_uri": "https://localhost:8080/",
          "height": 37
        },
        "outputId": "f35a57bf-0b22-47b1-d610-e32d1ad7edbe"
      },
      "source": [
        "stemmer.stem( 'Mastigar' )"
      ],
      "execution_count": 32,
      "outputs": [
        {
          "output_type": "execute_result",
          "data": {
            "application/vnd.google.colaboratory.intrinsic+json": {
              "type": "string"
            },
            "text/plain": [
              "'mastig'"
            ]
          },
          "metadata": {
            "tags": []
          },
          "execution_count": 32
        }
      ]
    },
    {
      "cell_type": "code",
      "metadata": {
        "id": "wgm-Nkvciql_",
        "colab_type": "code",
        "colab": {
          "base_uri": "https://localhost:8080/",
          "height": 37
        },
        "outputId": "c261699e-0a29-45af-dbf3-ab54511fcba4"
      },
      "source": [
        "stemmer.stem( 'Mastiguei' )"
      ],
      "execution_count": 33,
      "outputs": [
        {
          "output_type": "execute_result",
          "data": {
            "application/vnd.google.colaboratory.intrinsic+json": {
              "type": "string"
            },
            "text/plain": [
              "'mastig'"
            ]
          },
          "metadata": {
            "tags": []
          },
          "execution_count": 33
        }
      ]
    },
    {
      "cell_type": "code",
      "metadata": {
        "id": "dTrHJT33i4cZ",
        "colab_type": "code",
        "colab": {
          "base_uri": "https://localhost:8080/",
          "height": 37
        },
        "outputId": "80eb640b-2f72-48d5-b422-04f47fa208bc"
      },
      "source": [
        "stemmer.stem( 'Mastigaremos' )"
      ],
      "execution_count": 34,
      "outputs": [
        {
          "output_type": "execute_result",
          "data": {
            "application/vnd.google.colaboratory.intrinsic+json": {
              "type": "string"
            },
            "text/plain": [
              "'mastig'"
            ]
          },
          "metadata": {
            "tags": []
          },
          "execution_count": 34
        }
      ]
    },
    {
      "cell_type": "code",
      "metadata": {
        "id": "qKcD0XqHi53I",
        "colab_type": "code",
        "colab": {
          "base_uri": "https://localhost:8080/",
          "height": 85
        },
        "outputId": "3526f910-2127-453c-bc57-82ac934e491d"
      },
      "source": [
        "print( stemmer.stem( 'Andar' ) )\n",
        "print( stemmer.stem( 'Andando' ) )\n",
        "print( stemmer.stem( 'Andaremos' ) )\n",
        "print( stemmer.stem( 'Andarilho' ) )"
      ],
      "execution_count": 36,
      "outputs": [
        {
          "output_type": "stream",
          "text": [
            "and\n",
            "and\n",
            "and\n",
            "andarilh\n"
          ],
          "name": "stdout"
        }
      ]
    },
    {
      "cell_type": "code",
      "metadata": {
        "id": "k3ShfsqyjF9h",
        "colab_type": "code",
        "colab": {}
      },
      "source": [
        ""
      ],
      "execution_count": null,
      "outputs": []
    }
  ]
}