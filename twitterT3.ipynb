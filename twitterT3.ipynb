{
  "nbformat": 4,
  "nbformat_minor": 0,
  "metadata": {
    "colab": {
      "name": "twitterT3.ipynb",
      "provenance": [],
      "collapsed_sections": [],
      "mount_file_id": "16gQbuVDI5Uch5aHP9nb5Itv3TPV5L8Gd",
      "authorship_tag": "ABX9TyNI4r0nijYjHpl3lmICm2cG",
      "include_colab_link": true
    },
    "kernelspec": {
      "name": "python3",
      "display_name": "Python 3"
    }
  },
  "cells": [
    {
      "cell_type": "markdown",
      "metadata": {
        "id": "view-in-github",
        "colab_type": "text"
      },
      "source": [
        "<a href=\"https://colab.research.google.com/github/matheusmf1/ECM514_Data_Science/blob/master/twitterT3.ipynb\" target=\"_parent\"><img src=\"https://colab.research.google.com/assets/colab-badge.svg\" alt=\"Open In Colab\"/></a>"
      ]
    },
    {
      "cell_type": "markdown",
      "metadata": {
        "id": "GziYid9CSuTe",
        "colab_type": "text"
      },
      "source": [
        "# Twitter - NLP Analysis - Matheus Mandotti Franco RA: 16.00177-0"
      ]
    },
    {
      "cell_type": "markdown",
      "metadata": {
        "id": "a4Ljzz2ITDSL",
        "colab_type": "text"
      },
      "source": [
        "## Imports"
      ]
    },
    {
      "cell_type": "code",
      "metadata": {
        "id": "1O7019NJStad",
        "colab_type": "code",
        "colab": {
          "base_uri": "https://localhost:8080/",
          "height": 833
        },
        "outputId": "6bca34d2-ad9c-4771-f045-f8d47635e618"
      },
      "source": [
        "import nltk\n",
        "nltk.download('popular')\n",
        "import pandas as pd\n",
        "import numpy as np"
      ],
      "execution_count": 1,
      "outputs": [
        {
          "output_type": "stream",
          "text": [
            "[nltk_data] Downloading collection 'popular'\n",
            "[nltk_data]    | \n",
            "[nltk_data]    | Downloading package cmudict to /root/nltk_data...\n",
            "[nltk_data]    |   Package cmudict is already up-to-date!\n",
            "[nltk_data]    | Downloading package gazetteers to /root/nltk_data...\n",
            "[nltk_data]    |   Package gazetteers is already up-to-date!\n",
            "[nltk_data]    | Downloading package genesis to /root/nltk_data...\n",
            "[nltk_data]    |   Package genesis is already up-to-date!\n",
            "[nltk_data]    | Downloading package gutenberg to /root/nltk_data...\n",
            "[nltk_data]    |   Package gutenberg is already up-to-date!\n",
            "[nltk_data]    | Downloading package inaugural to /root/nltk_data...\n",
            "[nltk_data]    |   Package inaugural is already up-to-date!\n",
            "[nltk_data]    | Downloading package movie_reviews to\n",
            "[nltk_data]    |     /root/nltk_data...\n",
            "[nltk_data]    |   Package movie_reviews is already up-to-date!\n",
            "[nltk_data]    | Downloading package names to /root/nltk_data...\n",
            "[nltk_data]    |   Package names is already up-to-date!\n",
            "[nltk_data]    | Downloading package shakespeare to /root/nltk_data...\n",
            "[nltk_data]    |   Package shakespeare is already up-to-date!\n",
            "[nltk_data]    | Downloading package stopwords to /root/nltk_data...\n",
            "[nltk_data]    |   Package stopwords is already up-to-date!\n",
            "[nltk_data]    | Downloading package treebank to /root/nltk_data...\n",
            "[nltk_data]    |   Package treebank is already up-to-date!\n",
            "[nltk_data]    | Downloading package twitter_samples to\n",
            "[nltk_data]    |     /root/nltk_data...\n",
            "[nltk_data]    |   Package twitter_samples is already up-to-date!\n",
            "[nltk_data]    | Downloading package omw to /root/nltk_data...\n",
            "[nltk_data]    |   Package omw is already up-to-date!\n",
            "[nltk_data]    | Downloading package wordnet to /root/nltk_data...\n",
            "[nltk_data]    |   Package wordnet is already up-to-date!\n",
            "[nltk_data]    | Downloading package wordnet_ic to /root/nltk_data...\n",
            "[nltk_data]    |   Package wordnet_ic is already up-to-date!\n",
            "[nltk_data]    | Downloading package words to /root/nltk_data...\n",
            "[nltk_data]    |   Package words is already up-to-date!\n",
            "[nltk_data]    | Downloading package maxent_ne_chunker to\n",
            "[nltk_data]    |     /root/nltk_data...\n",
            "[nltk_data]    |   Package maxent_ne_chunker is already up-to-date!\n",
            "[nltk_data]    | Downloading package punkt to /root/nltk_data...\n",
            "[nltk_data]    |   Package punkt is already up-to-date!\n",
            "[nltk_data]    | Downloading package snowball_data to\n",
            "[nltk_data]    |     /root/nltk_data...\n",
            "[nltk_data]    |   Package snowball_data is already up-to-date!\n",
            "[nltk_data]    | Downloading package averaged_perceptron_tagger to\n",
            "[nltk_data]    |     /root/nltk_data...\n",
            "[nltk_data]    |   Package averaged_perceptron_tagger is already up-\n",
            "[nltk_data]    |       to-date!\n",
            "[nltk_data]    | \n",
            "[nltk_data]  Done downloading collection popular\n"
          ],
          "name": "stdout"
        }
      ]
    },
    {
      "cell_type": "markdown",
      "metadata": {
        "id": "sW3BBneaTK6T",
        "colab_type": "text"
      },
      "source": [
        "## DataSet load"
      ]
    },
    {
      "cell_type": "code",
      "metadata": {
        "id": "cgQ0ZW4ZT81t",
        "colab_type": "code",
        "colab": {
          "base_uri": "https://localhost:8080/",
          "height": 581
        },
        "outputId": "1e92a6cf-e737-47d3-f118-7832974ee8da"
      },
      "source": [
        "df = pd.read_csv( '/content/drive/My Drive/Colab Notebooks/Data Science Class/DataSets/NLP-twitter/Tweets_PT-BR.csv')\n",
        "df.head()"
      ],
      "execution_count": 17,
      "outputs": [
        {
          "output_type": "execute_result",
          "data": {
            "text/html": [
              "<div>\n",
              "<style scoped>\n",
              "    .dataframe tbody tr th:only-of-type {\n",
              "        vertical-align: middle;\n",
              "    }\n",
              "\n",
              "    .dataframe tbody tr th {\n",
              "        vertical-align: top;\n",
              "    }\n",
              "\n",
              "    .dataframe thead th {\n",
              "        text-align: right;\n",
              "    }\n",
              "</style>\n",
              "<table border=\"1\" class=\"dataframe\">\n",
              "  <thead>\n",
              "    <tr style=\"text-align: right;\">\n",
              "      <th></th>\n",
              "      <th>Unnamed: 0</th>\n",
              "      <th>Created At</th>\n",
              "      <th>Text</th>\n",
              "      <th>Geo Coordinates.latitude</th>\n",
              "      <th>Geo Coordinates.longitude</th>\n",
              "      <th>User Location</th>\n",
              "      <th>Username</th>\n",
              "      <th>User Screen Name</th>\n",
              "      <th>Retweet Count</th>\n",
              "      <th>Classificacao</th>\n",
              "      <th>Observação</th>\n",
              "      <th>Unnamed: 10</th>\n",
              "      <th>Unnamed: 11</th>\n",
              "      <th>Unnamed: 12</th>\n",
              "      <th>Unnamed: 13</th>\n",
              "      <th>Unnamed: 14</th>\n",
              "      <th>Unnamed: 15</th>\n",
              "      <th>Unnamed: 16</th>\n",
              "      <th>Unnamed: 17</th>\n",
              "      <th>Unnamed: 18</th>\n",
              "      <th>Unnamed: 19</th>\n",
              "      <th>Unnamed: 20</th>\n",
              "      <th>Unnamed: 21</th>\n",
              "      <th>Unnamed: 22</th>\n",
              "      <th>Unnamed: 23</th>\n",
              "      <th>Unnamed: 24</th>\n",
              "    </tr>\n",
              "  </thead>\n",
              "  <tbody>\n",
              "    <tr>\n",
              "      <th>0</th>\n",
              "      <td>0</td>\n",
              "      <td>Sun Jan 08 01:22:05 +0000 2017</td>\n",
              "      <td>���⛪ @ Catedral de Santo Antônio - Governador ...</td>\n",
              "      <td>NaN</td>\n",
              "      <td>NaN</td>\n",
              "      <td>Brasil</td>\n",
              "      <td>Leonardo C Schneider</td>\n",
              "      <td>LeoCSchneider</td>\n",
              "      <td>0</td>\n",
              "      <td>Neutro</td>\n",
              "      <td>NaN</td>\n",
              "      <td>NaN</td>\n",
              "      <td>NaN</td>\n",
              "      <td>NaN</td>\n",
              "      <td>NaN</td>\n",
              "      <td>NaN</td>\n",
              "      <td>NaN</td>\n",
              "      <td>NaN</td>\n",
              "      <td>NaN</td>\n",
              "      <td>NaN</td>\n",
              "      <td>NaN</td>\n",
              "      <td>NaN</td>\n",
              "      <td>NaN</td>\n",
              "      <td>NaN</td>\n",
              "      <td>NaN</td>\n",
              "      <td>NaN</td>\n",
              "    </tr>\n",
              "    <tr>\n",
              "      <th>1</th>\n",
              "      <td>1</td>\n",
              "      <td>Sun Jan 08 01:49:01 +0000 2017</td>\n",
              "      <td>� @ Governador Valadares, Minas Gerais https:/...</td>\n",
              "      <td>-41.9333</td>\n",
              "      <td>-18.85</td>\n",
              "      <td>NaN</td>\n",
              "      <td>Wândell</td>\n",
              "      <td>klefnews</td>\n",
              "      <td>0</td>\n",
              "      <td>Neutro</td>\n",
              "      <td>NaN</td>\n",
              "      <td>NaN</td>\n",
              "      <td>NaN</td>\n",
              "      <td>NaN</td>\n",
              "      <td>NaN</td>\n",
              "      <td>NaN</td>\n",
              "      <td>NaN</td>\n",
              "      <td>NaN</td>\n",
              "      <td>NaN</td>\n",
              "      <td>NaN</td>\n",
              "      <td>NaN</td>\n",
              "      <td>NaN</td>\n",
              "      <td>NaN</td>\n",
              "      <td>NaN</td>\n",
              "      <td>NaN</td>\n",
              "      <td>NaN</td>\n",
              "    </tr>\n",
              "    <tr>\n",
              "      <th>2</th>\n",
              "      <td>2</td>\n",
              "      <td>Sun Jan 08 01:01:46 +0000 2017</td>\n",
              "      <td>�� @ Governador Valadares, Minas Gerais https:...</td>\n",
              "      <td>-41.9333</td>\n",
              "      <td>-18.85</td>\n",
              "      <td>NaN</td>\n",
              "      <td>Wândell</td>\n",
              "      <td>klefnews</td>\n",
              "      <td>0</td>\n",
              "      <td>Neutro</td>\n",
              "      <td>NaN</td>\n",
              "      <td>NaN</td>\n",
              "      <td>NaN</td>\n",
              "      <td>NaN</td>\n",
              "      <td>NaN</td>\n",
              "      <td>NaN</td>\n",
              "      <td>NaN</td>\n",
              "      <td>NaN</td>\n",
              "      <td>NaN</td>\n",
              "      <td>NaN</td>\n",
              "      <td>NaN</td>\n",
              "      <td>NaN</td>\n",
              "      <td>NaN</td>\n",
              "      <td>NaN</td>\n",
              "      <td>NaN</td>\n",
              "      <td>NaN</td>\n",
              "    </tr>\n",
              "    <tr>\n",
              "      <th>3</th>\n",
              "      <td>3</td>\n",
              "      <td>Wed Jan 04 21:43:51 +0000 2017</td>\n",
              "      <td>��� https://t.co/BnDsO34qK0</td>\n",
              "      <td>NaN</td>\n",
              "      <td>NaN</td>\n",
              "      <td>NaN</td>\n",
              "      <td>Ana estudando</td>\n",
              "      <td>estudandoconcur</td>\n",
              "      <td>0</td>\n",
              "      <td>Neutro</td>\n",
              "      <td>NaN</td>\n",
              "      <td>NaN</td>\n",
              "      <td>NaN</td>\n",
              "      <td>NaN</td>\n",
              "      <td>NaN</td>\n",
              "      <td>NaN</td>\n",
              "      <td>NaN</td>\n",
              "      <td>NaN</td>\n",
              "      <td>NaN</td>\n",
              "      <td>NaN</td>\n",
              "      <td>NaN</td>\n",
              "      <td>NaN</td>\n",
              "      <td>NaN</td>\n",
              "      <td>NaN</td>\n",
              "      <td>NaN</td>\n",
              "      <td>NaN</td>\n",
              "    </tr>\n",
              "    <tr>\n",
              "      <th>4</th>\n",
              "      <td>4</td>\n",
              "      <td>Mon Jan 09 15:08:21 +0000 2017</td>\n",
              "      <td>��� PSOL vai questionar aumento de vereadores ...</td>\n",
              "      <td>NaN</td>\n",
              "      <td>NaN</td>\n",
              "      <td>NaN</td>\n",
              "      <td>Emily</td>\n",
              "      <td>Milly777</td>\n",
              "      <td>0</td>\n",
              "      <td>Negativo</td>\n",
              "      <td>NaN</td>\n",
              "      <td>NaN</td>\n",
              "      <td>NaN</td>\n",
              "      <td>NaN</td>\n",
              "      <td>NaN</td>\n",
              "      <td>NaN</td>\n",
              "      <td>NaN</td>\n",
              "      <td>NaN</td>\n",
              "      <td>NaN</td>\n",
              "      <td>NaN</td>\n",
              "      <td>NaN</td>\n",
              "      <td>NaN</td>\n",
              "      <td>NaN</td>\n",
              "      <td>NaN</td>\n",
              "      <td>NaN</td>\n",
              "      <td>NaN</td>\n",
              "    </tr>\n",
              "  </tbody>\n",
              "</table>\n",
              "</div>"
            ],
            "text/plain": [
              "   Unnamed: 0                      Created At  ... Unnamed: 23  Unnamed: 24\n",
              "0           0  Sun Jan 08 01:22:05 +0000 2017  ...         NaN          NaN\n",
              "1           1  Sun Jan 08 01:49:01 +0000 2017  ...         NaN          NaN\n",
              "2           2  Sun Jan 08 01:01:46 +0000 2017  ...         NaN          NaN\n",
              "3           3  Wed Jan 04 21:43:51 +0000 2017  ...         NaN          NaN\n",
              "4           4  Mon Jan 09 15:08:21 +0000 2017  ...         NaN          NaN\n",
              "\n",
              "[5 rows x 26 columns]"
            ]
          },
          "metadata": {
            "tags": []
          },
          "execution_count": 17
        }
      ]
    },
    {
      "cell_type": "code",
      "metadata": {
        "id": "0i1ATLA37SP4",
        "colab_type": "code",
        "colab": {
          "base_uri": "https://localhost:8080/",
          "height": 153
        },
        "outputId": "0bfef94d-3f6c-4a4e-f6c8-b7d614df3075"
      },
      "source": [
        "df.columns"
      ],
      "execution_count": 18,
      "outputs": [
        {
          "output_type": "execute_result",
          "data": {
            "text/plain": [
              "Index(['Unnamed: 0', 'Created At', 'Text', 'Geo Coordinates.latitude',\n",
              "       'Geo Coordinates.longitude', 'User Location', 'Username',\n",
              "       'User Screen Name', 'Retweet Count', 'Classificacao', 'Observação',\n",
              "       'Unnamed: 10', 'Unnamed: 11', 'Unnamed: 12', 'Unnamed: 13',\n",
              "       'Unnamed: 14', 'Unnamed: 15', 'Unnamed: 16', 'Unnamed: 17',\n",
              "       'Unnamed: 18', 'Unnamed: 19', 'Unnamed: 20', 'Unnamed: 21',\n",
              "       'Unnamed: 22', 'Unnamed: 23', 'Unnamed: 24'],\n",
              "      dtype='object')"
            ]
          },
          "metadata": {
            "tags": []
          },
          "execution_count": 18
        }
      ]
    },
    {
      "cell_type": "code",
      "metadata": {
        "id": "Wtz0YdcPI3X0",
        "colab_type": "code",
        "colab": {
          "base_uri": "https://localhost:8080/",
          "height": 476
        },
        "outputId": "5e31fbe2-a229-4f6a-acfc-a893d0c4b2fb"
      },
      "source": [
        "df.isnull().sum()"
      ],
      "execution_count": 4,
      "outputs": [
        {
          "output_type": "execute_result",
          "data": {
            "text/plain": [
              "Unnamed: 0                      0\n",
              "Created At                      0\n",
              "Text                            0\n",
              "Geo Coordinates.latitude     8095\n",
              "Geo Coordinates.longitude    8095\n",
              "User Location                2710\n",
              "Username                        0\n",
              "User Screen Name                0\n",
              "Retweet Count                   0\n",
              "Classificacao                   0\n",
              "Observação                   8198\n",
              "Unnamed: 10                  8199\n",
              "Unnamed: 11                  8199\n",
              "Unnamed: 12                  8199\n",
              "Unnamed: 13                  8199\n",
              "Unnamed: 14                  8199\n",
              "Unnamed: 15                  8199\n",
              "Unnamed: 16                  8199\n",
              "Unnamed: 17                  8199\n",
              "Unnamed: 18                  8199\n",
              "Unnamed: 19                  8199\n",
              "Unnamed: 20                  8199\n",
              "Unnamed: 21                  8199\n",
              "Unnamed: 22                  8199\n",
              "Unnamed: 23                  8199\n",
              "Unnamed: 24                  8199\n",
              "dtype: int64"
            ]
          },
          "metadata": {
            "tags": []
          },
          "execution_count": 4
        }
      ]
    },
    {
      "cell_type": "markdown",
      "metadata": {
        "id": "F1Suey9mJHF3",
        "colab_type": "text"
      },
      "source": [
        "## Ajuste nos dados e Seleção das colunas"
      ]
    },
    {
      "cell_type": "code",
      "metadata": {
        "id": "Xrb84vhW9Iz1",
        "colab_type": "code",
        "colab": {}
      },
      "source": [
        "df.rename( columns = {'Text': 'Texto'}, inplace=True)"
      ],
      "execution_count": 19,
      "outputs": []
    },
    {
      "cell_type": "code",
      "metadata": {
        "id": "RqALufVFJAa-",
        "colab_type": "code",
        "colab": {}
      },
      "source": [
        "df.drop(labels = [ 'Unnamed: 10', 'Unnamed: 11', 'Unnamed: 12', 'Unnamed: 13',\n",
        "       'Unnamed: 14', 'Unnamed: 15', 'Unnamed: 16', 'Unnamed: 17',\n",
        "       'Unnamed: 18', 'Unnamed: 19', 'Unnamed: 20', 'Unnamed: 21',\n",
        "       'Unnamed: 22', 'Unnamed: 23', 'Unnamed: 24' ], axis = 1, inplace = True )"
      ],
      "execution_count": 20,
      "outputs": []
    },
    {
      "cell_type": "code",
      "metadata": {
        "id": "3mAUfBTd7cGa",
        "colab_type": "code",
        "colab": {
          "base_uri": "https://localhost:8080/",
          "height": 68
        },
        "outputId": "9bfd56f9-f0e5-47c8-87a2-e467511d3157"
      },
      "source": [
        "df['Observação'].unique()"
      ],
      "execution_count": 21,
      "outputs": [
        {
          "output_type": "execute_result",
          "data": {
            "text/plain": [
              "array([nan,\n",
              "       'Apesar do texto estar confuso, dá para entender que é uma crítica'],\n",
              "      dtype=object)"
            ]
          },
          "metadata": {
            "tags": []
          },
          "execution_count": 21
        }
      ]
    },
    {
      "cell_type": "code",
      "metadata": {
        "id": "GFQS7rnd7gAi",
        "colab_type": "code",
        "colab": {
          "base_uri": "https://localhost:8080/",
          "height": 204
        },
        "outputId": "9af9e7a6-7062-4823-fd24-72b3e9e5f6ab"
      },
      "source": [
        "df2 = df[ ['Texto', 'Classificacao'] ]\n",
        "df2.head()"
      ],
      "execution_count": 57,
      "outputs": [
        {
          "output_type": "execute_result",
          "data": {
            "text/html": [
              "<div>\n",
              "<style scoped>\n",
              "    .dataframe tbody tr th:only-of-type {\n",
              "        vertical-align: middle;\n",
              "    }\n",
              "\n",
              "    .dataframe tbody tr th {\n",
              "        vertical-align: top;\n",
              "    }\n",
              "\n",
              "    .dataframe thead th {\n",
              "        text-align: right;\n",
              "    }\n",
              "</style>\n",
              "<table border=\"1\" class=\"dataframe\">\n",
              "  <thead>\n",
              "    <tr style=\"text-align: right;\">\n",
              "      <th></th>\n",
              "      <th>Texto</th>\n",
              "      <th>Classificacao</th>\n",
              "    </tr>\n",
              "  </thead>\n",
              "  <tbody>\n",
              "    <tr>\n",
              "      <th>0</th>\n",
              "      <td>���⛪ @ Catedral de Santo Antônio - Governador ...</td>\n",
              "      <td>Neutro</td>\n",
              "    </tr>\n",
              "    <tr>\n",
              "      <th>1</th>\n",
              "      <td>� @ Governador Valadares, Minas Gerais https:/...</td>\n",
              "      <td>Neutro</td>\n",
              "    </tr>\n",
              "    <tr>\n",
              "      <th>2</th>\n",
              "      <td>�� @ Governador Valadares, Minas Gerais https:...</td>\n",
              "      <td>Neutro</td>\n",
              "    </tr>\n",
              "    <tr>\n",
              "      <th>3</th>\n",
              "      <td>��� https://t.co/BnDsO34qK0</td>\n",
              "      <td>Neutro</td>\n",
              "    </tr>\n",
              "    <tr>\n",
              "      <th>4</th>\n",
              "      <td>��� PSOL vai questionar aumento de vereadores ...</td>\n",
              "      <td>Negativo</td>\n",
              "    </tr>\n",
              "  </tbody>\n",
              "</table>\n",
              "</div>"
            ],
            "text/plain": [
              "                                               Texto Classificacao\n",
              "0  ���⛪ @ Catedral de Santo Antônio - Governador ...        Neutro\n",
              "1  � @ Governador Valadares, Minas Gerais https:/...        Neutro\n",
              "2  �� @ Governador Valadares, Minas Gerais https:...        Neutro\n",
              "3                        ��� https://t.co/BnDsO34qK0        Neutro\n",
              "4  ��� PSOL vai questionar aumento de vereadores ...      Negativo"
            ]
          },
          "metadata": {
            "tags": []
          },
          "execution_count": 57
        }
      ]
    },
    {
      "cell_type": "code",
      "metadata": {
        "id": "q8KR2E_58fVf",
        "colab_type": "code",
        "colab": {
          "base_uri": "https://localhost:8080/",
          "height": 68
        },
        "outputId": "598f0cb2-c190-4dba-8d77-dca91e5010b5"
      },
      "source": [
        "df2.isnull().sum()"
      ],
      "execution_count": 23,
      "outputs": [
        {
          "output_type": "execute_result",
          "data": {
            "text/plain": [
              "Texto            0\n",
              "Classificacao    0\n",
              "dtype: int64"
            ]
          },
          "metadata": {
            "tags": []
          },
          "execution_count": 23
        }
      ]
    },
    {
      "cell_type": "code",
      "metadata": {
        "id": "WttbT1Pk-xPS",
        "colab_type": "code",
        "colab": {
          "base_uri": "https://localhost:8080/",
          "height": 34
        },
        "outputId": "a2b0cc79-7dca-40ab-c4da-c58b6bcc0c2c"
      },
      "source": [
        "df2['Classificacao'].unique()"
      ],
      "execution_count": 28,
      "outputs": [
        {
          "output_type": "execute_result",
          "data": {
            "text/plain": [
              "array(['Neutro', 'Negativo', 'Positivo'], dtype=object)"
            ]
          },
          "metadata": {
            "tags": []
          },
          "execution_count": 28
        }
      ]
    },
    {
      "cell_type": "markdown",
      "metadata": {
        "id": "08y_uyRz-Fxs",
        "colab_type": "text"
      },
      "source": [
        "## Pré Processamento"
      ]
    },
    {
      "cell_type": "markdown",
      "metadata": {
        "id": "jGWtUzfg-NlC",
        "colab_type": "text"
      },
      "source": [
        "### Mapeando os sentimentos"
      ]
    },
    {
      "cell_type": "code",
      "metadata": {
        "id": "-34LRsia8oc4",
        "colab_type": "code",
        "colab": {
          "base_uri": "https://localhost:8080/",
          "height": 306
        },
        "outputId": "657423ab-6296-47e3-96ad-05d36b9897b4"
      },
      "source": [
        "df2['Classificacao'] = df2['Classificacao'].map( { 'Negativo' : -1, 'Neutro' : 0, 'Positivo' : 1 } )\n",
        "df2.head()"
      ],
      "execution_count": 58,
      "outputs": [
        {
          "output_type": "stream",
          "text": [
            "/usr/local/lib/python3.6/dist-packages/ipykernel_launcher.py:1: SettingWithCopyWarning: \n",
            "A value is trying to be set on a copy of a slice from a DataFrame.\n",
            "Try using .loc[row_indexer,col_indexer] = value instead\n",
            "\n",
            "See the caveats in the documentation: https://pandas.pydata.org/pandas-docs/stable/user_guide/indexing.html#returning-a-view-versus-a-copy\n",
            "  \"\"\"Entry point for launching an IPython kernel.\n"
          ],
          "name": "stderr"
        },
        {
          "output_type": "execute_result",
          "data": {
            "text/html": [
              "<div>\n",
              "<style scoped>\n",
              "    .dataframe tbody tr th:only-of-type {\n",
              "        vertical-align: middle;\n",
              "    }\n",
              "\n",
              "    .dataframe tbody tr th {\n",
              "        vertical-align: top;\n",
              "    }\n",
              "\n",
              "    .dataframe thead th {\n",
              "        text-align: right;\n",
              "    }\n",
              "</style>\n",
              "<table border=\"1\" class=\"dataframe\">\n",
              "  <thead>\n",
              "    <tr style=\"text-align: right;\">\n",
              "      <th></th>\n",
              "      <th>Texto</th>\n",
              "      <th>Classificacao</th>\n",
              "    </tr>\n",
              "  </thead>\n",
              "  <tbody>\n",
              "    <tr>\n",
              "      <th>0</th>\n",
              "      <td>���⛪ @ Catedral de Santo Antônio - Governador ...</td>\n",
              "      <td>0</td>\n",
              "    </tr>\n",
              "    <tr>\n",
              "      <th>1</th>\n",
              "      <td>� @ Governador Valadares, Minas Gerais https:/...</td>\n",
              "      <td>0</td>\n",
              "    </tr>\n",
              "    <tr>\n",
              "      <th>2</th>\n",
              "      <td>�� @ Governador Valadares, Minas Gerais https:...</td>\n",
              "      <td>0</td>\n",
              "    </tr>\n",
              "    <tr>\n",
              "      <th>3</th>\n",
              "      <td>��� https://t.co/BnDsO34qK0</td>\n",
              "      <td>0</td>\n",
              "    </tr>\n",
              "    <tr>\n",
              "      <th>4</th>\n",
              "      <td>��� PSOL vai questionar aumento de vereadores ...</td>\n",
              "      <td>-1</td>\n",
              "    </tr>\n",
              "  </tbody>\n",
              "</table>\n",
              "</div>"
            ],
            "text/plain": [
              "                                               Texto  Classificacao\n",
              "0  ���⛪ @ Catedral de Santo Antônio - Governador ...              0\n",
              "1  � @ Governador Valadares, Minas Gerais https:/...              0\n",
              "2  �� @ Governador Valadares, Minas Gerais https:...              0\n",
              "3                        ��� https://t.co/BnDsO34qK0              0\n",
              "4  ��� PSOL vai questionar aumento de vereadores ...             -1"
            ]
          },
          "metadata": {
            "tags": []
          },
          "execution_count": 58
        }
      ]
    },
    {
      "cell_type": "markdown",
      "metadata": {
        "id": "vt9oUsYe_JdT",
        "colab_type": "text"
      },
      "source": [
        "### Passando para minúsculo"
      ]
    },
    {
      "cell_type": "code",
      "metadata": {
        "id": "yiwdImAF-gwA",
        "colab_type": "code",
        "colab": {
          "base_uri": "https://localhost:8080/",
          "height": 306
        },
        "outputId": "f8d5f13b-676c-4763-ee65-b7a52bc438de"
      },
      "source": [
        "df2['Texto'] = df2['Texto'].apply( str.lower )\n",
        "df2.head()"
      ],
      "execution_count": 59,
      "outputs": [
        {
          "output_type": "stream",
          "text": [
            "/usr/local/lib/python3.6/dist-packages/ipykernel_launcher.py:1: SettingWithCopyWarning: \n",
            "A value is trying to be set on a copy of a slice from a DataFrame.\n",
            "Try using .loc[row_indexer,col_indexer] = value instead\n",
            "\n",
            "See the caveats in the documentation: https://pandas.pydata.org/pandas-docs/stable/user_guide/indexing.html#returning-a-view-versus-a-copy\n",
            "  \"\"\"Entry point for launching an IPython kernel.\n"
          ],
          "name": "stderr"
        },
        {
          "output_type": "execute_result",
          "data": {
            "text/html": [
              "<div>\n",
              "<style scoped>\n",
              "    .dataframe tbody tr th:only-of-type {\n",
              "        vertical-align: middle;\n",
              "    }\n",
              "\n",
              "    .dataframe tbody tr th {\n",
              "        vertical-align: top;\n",
              "    }\n",
              "\n",
              "    .dataframe thead th {\n",
              "        text-align: right;\n",
              "    }\n",
              "</style>\n",
              "<table border=\"1\" class=\"dataframe\">\n",
              "  <thead>\n",
              "    <tr style=\"text-align: right;\">\n",
              "      <th></th>\n",
              "      <th>Texto</th>\n",
              "      <th>Classificacao</th>\n",
              "    </tr>\n",
              "  </thead>\n",
              "  <tbody>\n",
              "    <tr>\n",
              "      <th>0</th>\n",
              "      <td>���⛪ @ catedral de santo antônio - governador ...</td>\n",
              "      <td>0</td>\n",
              "    </tr>\n",
              "    <tr>\n",
              "      <th>1</th>\n",
              "      <td>� @ governador valadares, minas gerais https:/...</td>\n",
              "      <td>0</td>\n",
              "    </tr>\n",
              "    <tr>\n",
              "      <th>2</th>\n",
              "      <td>�� @ governador valadares, minas gerais https:...</td>\n",
              "      <td>0</td>\n",
              "    </tr>\n",
              "    <tr>\n",
              "      <th>3</th>\n",
              "      <td>��� https://t.co/bndso34qk0</td>\n",
              "      <td>0</td>\n",
              "    </tr>\n",
              "    <tr>\n",
              "      <th>4</th>\n",
              "      <td>��� psol vai questionar aumento de vereadores ...</td>\n",
              "      <td>-1</td>\n",
              "    </tr>\n",
              "  </tbody>\n",
              "</table>\n",
              "</div>"
            ],
            "text/plain": [
              "                                               Texto  Classificacao\n",
              "0  ���⛪ @ catedral de santo antônio - governador ...              0\n",
              "1  � @ governador valadares, minas gerais https:/...              0\n",
              "2  �� @ governador valadares, minas gerais https:...              0\n",
              "3                        ��� https://t.co/bndso34qk0              0\n",
              "4  ��� psol vai questionar aumento de vereadores ...             -1"
            ]
          },
          "metadata": {
            "tags": []
          },
          "execution_count": 59
        }
      ]
    },
    {
      "cell_type": "markdown",
      "metadata": {
        "id": "qbicM4bI_lB7",
        "colab_type": "text"
      },
      "source": [
        "### Tokenização e normalização do texto"
      ]
    },
    {
      "cell_type": "code",
      "metadata": {
        "id": "9-eCoSm0_pjg",
        "colab_type": "code",
        "colab": {}
      },
      "source": [
        "# Funções auxiliares para normalização de texto\n",
        "import re\n",
        "import unicodedata\n",
        "def remove_emoji(string):\n",
        "    emoji_pattern = re.compile(\"[\"\n",
        "                           u\"\\U0001F600-\\U0001F64F\"  # emoticons\n",
        "                           u\"\\U0001F300-\\U0001F5FF\"  # symbols & pictographs\n",
        "                           u\"\\U0001F680-\\U0001F6FF\"  # transport & map symbols\n",
        "                           u\"\\U0001F1E0-\\U0001F1FF\"  # flags (iOS)\n",
        "                           u\"\\U00002702-\\U000027B0\"\n",
        "                           u\"\\U000024C2-\\U0001F251\"\n",
        "                           \"]+\", flags=re.UNICODE)\n",
        "    return emoji_pattern.sub(r'', string)\n",
        "def remove_acento( frase_tokenizada ):\n",
        "    frase = []\n",
        "    for palavra in frase_tokenizada:\n",
        "        palavra = palavra.replace('á','a')\n",
        "        palavra = palavra.replace('é','e')\n",
        "        palavra = palavra.replace('í','i')\n",
        "        palavra = palavra.replace('ó','o')\n",
        "        palavra = palavra.replace('ú','u')\n",
        "        palavra = palavra.replace('ã','a')\n",
        "        palavra = palavra.replace('õ','o')\n",
        "        palavra = palavra.replace('ç','c')\n",
        "        palavra = palavra.replace('â','a')\n",
        "        palavra = palavra.replace('ê','e')\n",
        "        palavra = palavra.replace('î','i')\n",
        "        palavra = palavra.replace('ô','o')\n",
        "        palavra = palavra.replace('û','u')\n",
        "        palavra = palavra.replace('à','a')\n",
        "        palavra = palavra.replace('è','e')\n",
        "        palavra = palavra.replace('ì','i')\n",
        "        palavra = palavra.replace('ò','o')\n",
        "        palavra = palavra.replace('ù','u')\n",
        "        palavra = palavra.replace('ü','u')\n",
        "        frase.append( palavra )\n",
        "    return frase\n",
        "\n",
        "def removerAcentosECaracteresEspeciais(palavra):\n",
        "        # Unicode normalize transforma um caracter em seu equivalente em latin.\n",
        "        nfkd = unicodedata.normalize('NFKD', palavra)\n",
        "        palavraSemAcento = u\"\".join([c for c in nfkd if not unicodedata.combining(c)])\n",
        "        # Usa expressão regular para retornar a palavra apenas com números, letras e espaço\n",
        "        return re.sub('[^a-zA-Z0-9 \\\\\\]', '', palavraSemAcento)\n",
        "\n",
        "def no_alphas( frase_tokenizada ):\n",
        "        return [palavra for palavra in frase_tokenizada if (palavra.isalpha())]"
      ],
      "execution_count": 60,
      "outputs": []
    },
    {
      "cell_type": "markdown",
      "metadata": {
        "id": "BqqyGPda_3lO",
        "colab_type": "text"
      },
      "source": [
        "#### Remove emoji"
      ]
    },
    {
      "cell_type": "code",
      "metadata": {
        "id": "J3ULJM2f_yK8",
        "colab_type": "code",
        "colab": {
          "base_uri": "https://localhost:8080/",
          "height": 119
        },
        "outputId": "7688b7fe-5d52-47cb-a108-0d1ac1fad45e"
      },
      "source": [
        "df2['Texto'] = df2['Texto'].apply( remove_emoji )"
      ],
      "execution_count": 61,
      "outputs": [
        {
          "output_type": "stream",
          "text": [
            "/usr/local/lib/python3.6/dist-packages/ipykernel_launcher.py:1: SettingWithCopyWarning: \n",
            "A value is trying to be set on a copy of a slice from a DataFrame.\n",
            "Try using .loc[row_indexer,col_indexer] = value instead\n",
            "\n",
            "See the caveats in the documentation: https://pandas.pydata.org/pandas-docs/stable/user_guide/indexing.html#returning-a-view-versus-a-copy\n",
            "  \"\"\"Entry point for launching an IPython kernel.\n"
          ],
          "name": "stderr"
        }
      ]
    },
    {
      "cell_type": "markdown",
      "metadata": {
        "id": "nkJXaxB8AdgC",
        "colab_type": "text"
      },
      "source": [
        "#### Remove Acentos e Carracteres Especiais"
      ]
    },
    {
      "cell_type": "code",
      "metadata": {
        "id": "Pt1Y44n8ACx8",
        "colab_type": "code",
        "colab": {
          "base_uri": "https://localhost:8080/",
          "height": 119
        },
        "outputId": "220411b5-d22c-456d-8d55-be11b2d2258e"
      },
      "source": [
        "df2['Texto'] = df2['Texto'].apply( removerAcentosECaracteresEspeciais )"
      ],
      "execution_count": 62,
      "outputs": [
        {
          "output_type": "stream",
          "text": [
            "/usr/local/lib/python3.6/dist-packages/ipykernel_launcher.py:1: SettingWithCopyWarning: \n",
            "A value is trying to be set on a copy of a slice from a DataFrame.\n",
            "Try using .loc[row_indexer,col_indexer] = value instead\n",
            "\n",
            "See the caveats in the documentation: https://pandas.pydata.org/pandas-docs/stable/user_guide/indexing.html#returning-a-view-versus-a-copy\n",
            "  \"\"\"Entry point for launching an IPython kernel.\n"
          ],
          "name": "stderr"
        }
      ]
    },
    {
      "cell_type": "markdown",
      "metadata": {
        "id": "x_bupkGOBkWs",
        "colab_type": "text"
      },
      "source": [
        "#### Word Tokenize"
      ]
    },
    {
      "cell_type": "code",
      "metadata": {
        "id": "sQXtV13DAExT",
        "colab_type": "code",
        "colab": {
          "base_uri": "https://localhost:8080/",
          "height": 119
        },
        "outputId": "5033216d-fcb4-4cc3-ce63-2294a797db29"
      },
      "source": [
        "from nltk.tokenize import word_tokenize\n",
        "\n",
        "df2['Texto'] = df2['Texto'].apply( word_tokenize )"
      ],
      "execution_count": 63,
      "outputs": [
        {
          "output_type": "stream",
          "text": [
            "/usr/local/lib/python3.6/dist-packages/ipykernel_launcher.py:3: SettingWithCopyWarning: \n",
            "A value is trying to be set on a copy of a slice from a DataFrame.\n",
            "Try using .loc[row_indexer,col_indexer] = value instead\n",
            "\n",
            "See the caveats in the documentation: https://pandas.pydata.org/pandas-docs/stable/user_guide/indexing.html#returning-a-view-versus-a-copy\n",
            "  This is separate from the ipykernel package so we can avoid doing imports until\n"
          ],
          "name": "stderr"
        }
      ]
    },
    {
      "cell_type": "markdown",
      "metadata": {
        "id": "feOtH5SJBoRd",
        "colab_type": "text"
      },
      "source": [
        "#### Remove alphas"
      ]
    },
    {
      "cell_type": "code",
      "metadata": {
        "id": "NghVC_3FBcdq",
        "colab_type": "code",
        "colab": {
          "base_uri": "https://localhost:8080/",
          "height": 119
        },
        "outputId": "b45c1b74-917e-409d-8cfd-08bb68f0167c"
      },
      "source": [
        "df2['Texto'] = df2['Texto'].apply( no_alphas )"
      ],
      "execution_count": 64,
      "outputs": [
        {
          "output_type": "stream",
          "text": [
            "/usr/local/lib/python3.6/dist-packages/ipykernel_launcher.py:1: SettingWithCopyWarning: \n",
            "A value is trying to be set on a copy of a slice from a DataFrame.\n",
            "Try using .loc[row_indexer,col_indexer] = value instead\n",
            "\n",
            "See the caveats in the documentation: https://pandas.pydata.org/pandas-docs/stable/user_guide/indexing.html#returning-a-view-versus-a-copy\n",
            "  \"\"\"Entry point for launching an IPython kernel.\n"
          ],
          "name": "stderr"
        }
      ]
    },
    {
      "cell_type": "code",
      "metadata": {
        "id": "qdFqP0H9A3Lc",
        "colab_type": "code",
        "colab": {
          "base_uri": "https://localhost:8080/",
          "height": 204
        },
        "outputId": "19ab57bd-2651-4949-d509-89c59f1f8ea6"
      },
      "source": [
        "df2.head()"
      ],
      "execution_count": 65,
      "outputs": [
        {
          "output_type": "execute_result",
          "data": {
            "text/html": [
              "<div>\n",
              "<style scoped>\n",
              "    .dataframe tbody tr th:only-of-type {\n",
              "        vertical-align: middle;\n",
              "    }\n",
              "\n",
              "    .dataframe tbody tr th {\n",
              "        vertical-align: top;\n",
              "    }\n",
              "\n",
              "    .dataframe thead th {\n",
              "        text-align: right;\n",
              "    }\n",
              "</style>\n",
              "<table border=\"1\" class=\"dataframe\">\n",
              "  <thead>\n",
              "    <tr style=\"text-align: right;\">\n",
              "      <th></th>\n",
              "      <th>Texto</th>\n",
              "      <th>Classificacao</th>\n",
              "    </tr>\n",
              "  </thead>\n",
              "  <tbody>\n",
              "    <tr>\n",
              "      <th>0</th>\n",
              "      <td>[catedral, de, santo, antonio, governador, val...</td>\n",
              "      <td>0</td>\n",
              "    </tr>\n",
              "    <tr>\n",
              "      <th>1</th>\n",
              "      <td>[governador, valadares, minas, gerais]</td>\n",
              "      <td>0</td>\n",
              "    </tr>\n",
              "    <tr>\n",
              "      <th>2</th>\n",
              "      <td>[governador, valadares, minas, gerais]</td>\n",
              "      <td>0</td>\n",
              "    </tr>\n",
              "    <tr>\n",
              "      <th>3</th>\n",
              "      <td>[]</td>\n",
              "      <td>0</td>\n",
              "    </tr>\n",
              "    <tr>\n",
              "      <th>4</th>\n",
              "      <td>[psol, vai, questionar, aumento, de, vereadore...</td>\n",
              "      <td>-1</td>\n",
              "    </tr>\n",
              "  </tbody>\n",
              "</table>\n",
              "</div>"
            ],
            "text/plain": [
              "                                               Texto  Classificacao\n",
              "0  [catedral, de, santo, antonio, governador, val...              0\n",
              "1             [governador, valadares, minas, gerais]              0\n",
              "2             [governador, valadares, minas, gerais]              0\n",
              "3                                                 []              0\n",
              "4  [psol, vai, questionar, aumento, de, vereadore...             -1"
            ]
          },
          "metadata": {
            "tags": []
          },
          "execution_count": 65
        }
      ]
    },
    {
      "cell_type": "markdown",
      "metadata": {
        "id": "hQbWMZP4CHqM",
        "colab_type": "text"
      },
      "source": [
        "## Stop Words"
      ]
    },
    {
      "cell_type": "code",
      "metadata": {
        "id": "LmY0Zi7XBEJn",
        "colab_type": "code",
        "colab": {
          "base_uri": "https://localhost:8080/",
          "height": 54
        },
        "outputId": "8d765a58-9827-4150-b2d0-72b7603be96d"
      },
      "source": [
        "from nltk.corpus import stopwords\n",
        "from string import punctuation\n",
        "\n",
        "stw = stopwords.words( 'portuguese' )\n",
        "punc = list(punctuation)\n",
        "\n",
        "spwd_pt = set( stw + punc )\n",
        "\n",
        "print( spwd_pt )"
      ],
      "execution_count": 66,
      "outputs": [
        {
          "output_type": "stream",
          "text": [
            "{']', 'esses', 'como', 'estivessem', 'teu', 'fui', 'temos', 'delas', 'o', '+', 'houverem', 'da', 'mais', 'nossos', 'estávamos', 'houveria', 'mas', 'isto', 'houvemos', 'tiver', 'qual', 'houvera', 'tivesse', '\"', 'houveram', 'ele', 'está', 'havemos', 'já', 'estiveram', 'seremos', '%', 'estiver', 'haja', 'quem', 'tinham', 'sem', 'hei', 'teve', 'houveriam', 'estivéramos', 'houvermos', 'terá', 'aos', 'fosse', 'mesmo', 'lhes', 'seríamos', 'pela', 'uma', 'pelas', 'deles', 'vos', 'estivesse', 'foram', '<', 'ao', 'nossa', 'esteja', '*', '>', \"'\", 'hão', 'se', 'nosso', 'aquela', '|', 'do', ',', 'teremos', 'serei', 'dele', 'fomos', 'fôssemos', '}', 'estas', 'das', 'estivemos', '.', 'meus', 'esta', 'aquele', 'sou', 'aqueles', 'tua', 'nós', 'elas', 'teríamos', '=', 'só', 'dela', 'por', 'tivéramos', 'seus', '-', '?', 'os', ')', 'eram', 'minhas', 'estou', 'esteve', 'tu', 'isso', 'de', 'fora', 'tiverem', 'tivermos', '&', 'num', 'nos', 'minha', 'hajam', 'tuas', '#', 'houve', '!', '\\\\', 'suas', 'serão', 'houver', '/', 'hajamos', 'sejamos', '[', 'numa', '~', ';', 'pelo', 'tenham', 'eles', 'meu', 'à', 'forem', 'houveremos', 'no', 'também', 'nossas', 'muito', 'tivéssemos', 'terão', 'estejamos', 'com', 'esse', 'houvéramos', 'quando', 'nem', 'tenho', 'formos', 'na', 'ela', 'este', 'que', 'ou', 'para', 'houverá', 'estejam', 'estivermos', 'dos', 'fôramos', 'tém', 'entre', 'você', 'seja', '$', 'terei', 'houverei', 'houveríamos', 'tivessem', '^', 'estive', '{', 'será', 'às', 'lhe', 'tive', 'teria', 'estava', 'tinha', 'seriam', '(', 'tiveram', 'um', 'era', 'pelos', 'estivera', 'eu', 'sua', 'estamos', 'tenha', 'não', 'depois', 'são', 'em', 'essa', 'aquelas', 'seria', 'teus', 'estão', 'me', 'fossem', 'te', 'tínhamos', 'houverão', 'somos', '@', 'tivemos', 'teriam', '`', 'nas', 'houvesse', 'estivéssemos', ':', 'foi', 'estes', 'tenhamos', 'vocês', 'e', 'houvéssemos', 'sejam', 'seu', 'tem', '_', 'for', 'éramos', 'essas', 'tivera', 'a', 'aquilo', 'estavam', 'até', 'há', 'houvessem', 'estiverem', 'as', 'é'}\n"
          ],
          "name": "stdout"
        }
      ]
    },
    {
      "cell_type": "code",
      "metadata": {
        "id": "3xbdsV-xCOsP",
        "colab_type": "code",
        "colab": {
          "base_uri": "https://localhost:8080/",
          "height": 204
        },
        "outputId": "fb98d8ca-59cf-464d-c21a-692c752c1716"
      },
      "source": [
        "def remove_stops(frase_tokenizada, stopwords_pt):\n",
        "  w_token_1_sem_stopwords = [palavra for palavra in frase_tokenizada if palavra not in stopwords_pt]\n",
        "  return w_token_1_sem_stopwords\n",
        "\n",
        "\n",
        "df2['Texto'].apply( remove_stops, stopwords_pt = spwd_pt )\n",
        "df2.head()"
      ],
      "execution_count": 67,
      "outputs": [
        {
          "output_type": "execute_result",
          "data": {
            "text/html": [
              "<div>\n",
              "<style scoped>\n",
              "    .dataframe tbody tr th:only-of-type {\n",
              "        vertical-align: middle;\n",
              "    }\n",
              "\n",
              "    .dataframe tbody tr th {\n",
              "        vertical-align: top;\n",
              "    }\n",
              "\n",
              "    .dataframe thead th {\n",
              "        text-align: right;\n",
              "    }\n",
              "</style>\n",
              "<table border=\"1\" class=\"dataframe\">\n",
              "  <thead>\n",
              "    <tr style=\"text-align: right;\">\n",
              "      <th></th>\n",
              "      <th>Texto</th>\n",
              "      <th>Classificacao</th>\n",
              "    </tr>\n",
              "  </thead>\n",
              "  <tbody>\n",
              "    <tr>\n",
              "      <th>0</th>\n",
              "      <td>[catedral, de, santo, antonio, governador, val...</td>\n",
              "      <td>0</td>\n",
              "    </tr>\n",
              "    <tr>\n",
              "      <th>1</th>\n",
              "      <td>[governador, valadares, minas, gerais]</td>\n",
              "      <td>0</td>\n",
              "    </tr>\n",
              "    <tr>\n",
              "      <th>2</th>\n",
              "      <td>[governador, valadares, minas, gerais]</td>\n",
              "      <td>0</td>\n",
              "    </tr>\n",
              "    <tr>\n",
              "      <th>3</th>\n",
              "      <td>[]</td>\n",
              "      <td>0</td>\n",
              "    </tr>\n",
              "    <tr>\n",
              "      <th>4</th>\n",
              "      <td>[psol, vai, questionar, aumento, de, vereadore...</td>\n",
              "      <td>-1</td>\n",
              "    </tr>\n",
              "  </tbody>\n",
              "</table>\n",
              "</div>"
            ],
            "text/plain": [
              "                                               Texto  Classificacao\n",
              "0  [catedral, de, santo, antonio, governador, val...              0\n",
              "1             [governador, valadares, minas, gerais]              0\n",
              "2             [governador, valadares, minas, gerais]              0\n",
              "3                                                 []              0\n",
              "4  [psol, vai, questionar, aumento, de, vereadore...             -1"
            ]
          },
          "metadata": {
            "tags": []
          },
          "execution_count": 67
        }
      ]
    },
    {
      "cell_type": "markdown",
      "metadata": {
        "id": "-eZg9-uAClMR",
        "colab_type": "text"
      },
      "source": [
        "## Stemming"
      ]
    },
    {
      "cell_type": "code",
      "metadata": {
        "id": "f3xGxN_TCiJD",
        "colab_type": "code",
        "colab": {}
      },
      "source": [
        "def stemming_pt( frase_tokenizada, stemmer ):\n",
        "  frase = []\n",
        "  for palavra in frase_tokenizada:\n",
        "    frase.append( stemmer.stem(palavra) )\n",
        "  return frase"
      ],
      "execution_count": 68,
      "outputs": []
    },
    {
      "cell_type": "code",
      "metadata": {
        "id": "DzIQFbO0CqRU",
        "colab_type": "code",
        "colab": {
          "base_uri": "https://localhost:8080/",
          "height": 51
        },
        "outputId": "aba38f91-6486-452c-e966-e2d136a7ae14"
      },
      "source": [
        "import nltk\n",
        "nltk.download('rslp')\n",
        "from nltk.stem import RSLPStemmer\n",
        "\n",
        "stem_local = RSLPStemmer()"
      ],
      "execution_count": 71,
      "outputs": [
        {
          "output_type": "stream",
          "text": [
            "[nltk_data] Downloading package rslp to /root/nltk_data...\n",
            "[nltk_data]   Package rslp is already up-to-date!\n"
          ],
          "name": "stdout"
        }
      ]
    },
    {
      "cell_type": "code",
      "metadata": {
        "id": "6x5ZqrfUC1Ss",
        "colab_type": "code",
        "colab": {
          "base_uri": "https://localhost:8080/",
          "height": 306
        },
        "outputId": "b8b048dc-c436-4352-908e-5b85d7200c56"
      },
      "source": [
        "df2['Texto'] = df2['Texto'].apply( stemming_pt, stemmer = stem_local )\n",
        "df2.head()"
      ],
      "execution_count": 70,
      "outputs": [
        {
          "output_type": "stream",
          "text": [
            "/usr/local/lib/python3.6/dist-packages/ipykernel_launcher.py:1: SettingWithCopyWarning: \n",
            "A value is trying to be set on a copy of a slice from a DataFrame.\n",
            "Try using .loc[row_indexer,col_indexer] = value instead\n",
            "\n",
            "See the caveats in the documentation: https://pandas.pydata.org/pandas-docs/stable/user_guide/indexing.html#returning-a-view-versus-a-copy\n",
            "  \"\"\"Entry point for launching an IPython kernel.\n"
          ],
          "name": "stderr"
        },
        {
          "output_type": "execute_result",
          "data": {
            "text/html": [
              "<div>\n",
              "<style scoped>\n",
              "    .dataframe tbody tr th:only-of-type {\n",
              "        vertical-align: middle;\n",
              "    }\n",
              "\n",
              "    .dataframe tbody tr th {\n",
              "        vertical-align: top;\n",
              "    }\n",
              "\n",
              "    .dataframe thead th {\n",
              "        text-align: right;\n",
              "    }\n",
              "</style>\n",
              "<table border=\"1\" class=\"dataframe\">\n",
              "  <thead>\n",
              "    <tr style=\"text-align: right;\">\n",
              "      <th></th>\n",
              "      <th>Texto</th>\n",
              "      <th>Classificacao</th>\n",
              "    </tr>\n",
              "  </thead>\n",
              "  <tbody>\n",
              "    <tr>\n",
              "      <th>0</th>\n",
              "      <td>[catedr, de, sant, antoni, govern, valadaresmg...</td>\n",
              "      <td>0</td>\n",
              "    </tr>\n",
              "    <tr>\n",
              "      <th>1</th>\n",
              "      <td>[govern, valad, min, geral]</td>\n",
              "      <td>0</td>\n",
              "    </tr>\n",
              "    <tr>\n",
              "      <th>2</th>\n",
              "      <td>[govern, valad, min, geral]</td>\n",
              "      <td>0</td>\n",
              "    </tr>\n",
              "    <tr>\n",
              "      <th>3</th>\n",
              "      <td>[]</td>\n",
              "      <td>0</td>\n",
              "    </tr>\n",
              "    <tr>\n",
              "      <th>4</th>\n",
              "      <td>[psol, vai, quest, aument, de, vere, e, prefei...</td>\n",
              "      <td>-1</td>\n",
              "    </tr>\n",
              "  </tbody>\n",
              "</table>\n",
              "</div>"
            ],
            "text/plain": [
              "                                               Texto  Classificacao\n",
              "0  [catedr, de, sant, antoni, govern, valadaresmg...              0\n",
              "1                        [govern, valad, min, geral]              0\n",
              "2                        [govern, valad, min, geral]              0\n",
              "3                                                 []              0\n",
              "4  [psol, vai, quest, aument, de, vere, e, prefei...             -1"
            ]
          },
          "metadata": {
            "tags": []
          },
          "execution_count": 70
        }
      ]
    },
    {
      "cell_type": "code",
      "metadata": {
        "id": "Mb4INLdaDCn4",
        "colab_type": "code",
        "colab": {
          "base_uri": "https://localhost:8080/",
          "height": 306
        },
        "outputId": "105189f6-2b31-445f-b1d9-f6eb374841f2"
      },
      "source": [
        "def reconstroi_frase( frase_tokenizada ):\n",
        "  return ' '.join( frase_tokenizada )\n",
        "\n",
        "df2['processado_pt'] = df2['Texto'].apply( reconstroi_frase )\n",
        "df2.head()"
      ],
      "execution_count": 72,
      "outputs": [
        {
          "output_type": "stream",
          "text": [
            "/usr/local/lib/python3.6/dist-packages/ipykernel_launcher.py:4: SettingWithCopyWarning: \n",
            "A value is trying to be set on a copy of a slice from a DataFrame.\n",
            "Try using .loc[row_indexer,col_indexer] = value instead\n",
            "\n",
            "See the caveats in the documentation: https://pandas.pydata.org/pandas-docs/stable/user_guide/indexing.html#returning-a-view-versus-a-copy\n",
            "  after removing the cwd from sys.path.\n"
          ],
          "name": "stderr"
        },
        {
          "output_type": "execute_result",
          "data": {
            "text/html": [
              "<div>\n",
              "<style scoped>\n",
              "    .dataframe tbody tr th:only-of-type {\n",
              "        vertical-align: middle;\n",
              "    }\n",
              "\n",
              "    .dataframe tbody tr th {\n",
              "        vertical-align: top;\n",
              "    }\n",
              "\n",
              "    .dataframe thead th {\n",
              "        text-align: right;\n",
              "    }\n",
              "</style>\n",
              "<table border=\"1\" class=\"dataframe\">\n",
              "  <thead>\n",
              "    <tr style=\"text-align: right;\">\n",
              "      <th></th>\n",
              "      <th>Texto</th>\n",
              "      <th>Classificacao</th>\n",
              "      <th>processado_pt</th>\n",
              "    </tr>\n",
              "  </thead>\n",
              "  <tbody>\n",
              "    <tr>\n",
              "      <th>0</th>\n",
              "      <td>[catedr, de, sant, antoni, govern, valadaresmg...</td>\n",
              "      <td>0</td>\n",
              "      <td>catedr de sant antoni govern valadaresmg https...</td>\n",
              "    </tr>\n",
              "    <tr>\n",
              "      <th>1</th>\n",
              "      <td>[govern, valad, min, geral]</td>\n",
              "      <td>0</td>\n",
              "      <td>govern valad min geral</td>\n",
              "    </tr>\n",
              "    <tr>\n",
              "      <th>2</th>\n",
              "      <td>[govern, valad, min, geral]</td>\n",
              "      <td>0</td>\n",
              "      <td>govern valad min geral</td>\n",
              "    </tr>\n",
              "    <tr>\n",
              "      <th>3</th>\n",
              "      <td>[]</td>\n",
              "      <td>0</td>\n",
              "      <td></td>\n",
              "    </tr>\n",
              "    <tr>\n",
              "      <th>4</th>\n",
              "      <td>[psol, vai, quest, aument, de, vere, e, prefei...</td>\n",
              "      <td>-1</td>\n",
              "      <td>psol vai quest aument de vere e prefeit de bh ...</td>\n",
              "    </tr>\n",
              "  </tbody>\n",
              "</table>\n",
              "</div>"
            ],
            "text/plain": [
              "                                               Texto  ...                                      processado_pt\n",
              "0  [catedr, de, sant, antoni, govern, valadaresmg...  ...  catedr de sant antoni govern valadaresmg https...\n",
              "1                        [govern, valad, min, geral]  ...                             govern valad min geral\n",
              "2                        [govern, valad, min, geral]  ...                             govern valad min geral\n",
              "3                                                 []  ...                                                   \n",
              "4  [psol, vai, quest, aument, de, vere, e, prefei...  ...  psol vai quest aument de vere e prefeit de bh ...\n",
              "\n",
              "[5 rows x 3 columns]"
            ]
          },
          "metadata": {
            "tags": []
          },
          "execution_count": 72
        }
      ]
    },
    {
      "cell_type": "markdown",
      "metadata": {
        "id": "vaYj4AMDET-7",
        "colab_type": "text"
      },
      "source": [
        "## Testes"
      ]
    },
    {
      "cell_type": "code",
      "metadata": {
        "id": "zyE8_QlIEKeI",
        "colab_type": "code",
        "colab": {}
      },
      "source": [
        "texto_teste = ['Perder faz parte do esporte, tentamos de tudo, lutamos até o final. Obrigado pelo apoio e carinho de cada um de vocês 🙏🏽 e PARABÉNS ao BAYER 👏🏽',\n",
        "               'Ai ai ai ai, tá chegando a hora...',\n",
        "               'Que Deus nos abençoe e nos proteja 🙏🏽⚽️ #ChampionsLeague',\n",
        "               '- Há pelo menos 10 anos o sistema Globo me persegue e nada conseguiram provar contra mim. - Agora aguardo explicações da família Marinho sobre a delação do \"doleiro dos doleiros\", onde valores superiores a R$ 1 bilhão teriam sido repassados a eles.',\n",
        "               '- Em julho 2020 o CAGED apresentou um saldo positivo de 131.010 novos postos de trabalho. - O grande destaque foi a indústria de transformação, em especial a fabricação de produtos alimentícios e a construção civil. - É o Brasil voltando à normalidade. @govbr @planalto',\n",
        "               '- Inauguração da Estação Radar de Corumbá (MS). Reforço no controle de tráfego na fronteira do Brasil com o Paraguai e Bolívia. Avanço no monitoramento e ações de combate ao tráfico e demais problemas em mais esta região de fronteira. @DefesaGovBr @fab_oficial @exercitooficial',\n",
        "               'Clubes de assinatura ganham mais adeptos durante a quarentena',\n",
        "               'Governo Bolsonaro desmonta ação de combate ao abuso de crianças',\n",
        "               'O presidente Jair Bolsonaro afirmou neste domingo (23) ter vontade de agredir um repórter do jornal O Globo após ser questionado sobre os depósitos feitos pelo ex-policial militar Fabrício Queiroz na conta da primeira-dama Michelle Bolsonaro.']"
      ],
      "execution_count": 73,
      "outputs": []
    },
    {
      "cell_type": "code",
      "metadata": {
        "id": "r8ZL5824En7W",
        "colab_type": "code",
        "colab": {
          "base_uri": "https://localhost:8080/",
          "height": 190
        },
        "outputId": "32d31073-c676-4168-9157-800288acb1c4"
      },
      "source": [
        "texto_teste = [ each_string.lower() for each_string in texto_teste ]\n",
        "texto_teste"
      ],
      "execution_count": 74,
      "outputs": [
        {
          "output_type": "execute_result",
          "data": {
            "text/plain": [
              "['perder faz parte do esporte, tentamos de tudo, lutamos até o final. obrigado pelo apoio e carinho de cada um de vocês 🙏🏽 e parabéns ao bayer 👏🏽',\n",
              " 'ai ai ai ai, tá chegando a hora...',\n",
              " 'que deus nos abençoe e nos proteja 🙏🏽⚽️ #championsleague',\n",
              " '- há pelo menos 10 anos o sistema globo me persegue e nada conseguiram provar contra mim. - agora aguardo explicações da família marinho sobre a delação do \"doleiro dos doleiros\", onde valores superiores a r$ 1 bilhão teriam sido repassados a eles.',\n",
              " '- em julho 2020 o caged apresentou um saldo positivo de 131.010 novos postos de trabalho. - o grande destaque foi a indústria de transformação, em especial a fabricação de produtos alimentícios e a construção civil. - é o brasil voltando à normalidade. @govbr @planalto',\n",
              " '- inauguração da estação radar de corumbá (ms). reforço no controle de tráfego na fronteira do brasil com o paraguai e bolívia. avanço no monitoramento e ações de combate ao tráfico e demais problemas em mais esta região de fronteira. @defesagovbr @fab_oficial @exercitooficial',\n",
              " 'clubes de assinatura ganham mais adeptos durante a quarentena',\n",
              " 'governo bolsonaro desmonta ação de combate ao abuso de crianças',\n",
              " 'o presidente jair bolsonaro afirmou neste domingo (23) ter vontade de agredir um repórter do jornal o globo após ser questionado sobre os depósitos feitos pelo ex-policial militar fabrício queiroz na conta da primeira-dama michelle bolsonaro.']"
            ]
          },
          "metadata": {
            "tags": []
          },
          "execution_count": 74
        }
      ]
    },
    {
      "cell_type": "markdown",
      "metadata": {
        "id": "ItkPzNMyExQj",
        "colab_type": "text"
      },
      "source": [
        "### Tokenização"
      ]
    },
    {
      "cell_type": "code",
      "metadata": {
        "id": "0ypp0fUfEsmw",
        "colab_type": "code",
        "colab": {
          "base_uri": "https://localhost:8080/",
          "height": 190
        },
        "outputId": "87167594-b7ed-4cb9-921d-40215a891e93"
      },
      "source": [
        "texto_teste = [ remove_emoji(each_string) for each_string in texto_teste ]\n",
        "texto_teste"
      ],
      "execution_count": 75,
      "outputs": [
        {
          "output_type": "execute_result",
          "data": {
            "text/plain": [
              "['perder faz parte do esporte, tentamos de tudo, lutamos até o final. obrigado pelo apoio e carinho de cada um de vocês  e parabéns ao bayer ',\n",
              " 'ai ai ai ai, tá chegando a hora...',\n",
              " 'que deus nos abençoe e nos proteja  #championsleague',\n",
              " '- há pelo menos 10 anos o sistema globo me persegue e nada conseguiram provar contra mim. - agora aguardo explicações da família marinho sobre a delação do \"doleiro dos doleiros\", onde valores superiores a r$ 1 bilhão teriam sido repassados a eles.',\n",
              " '- em julho 2020 o caged apresentou um saldo positivo de 131.010 novos postos de trabalho. - o grande destaque foi a indústria de transformação, em especial a fabricação de produtos alimentícios e a construção civil. - é o brasil voltando à normalidade. @govbr @planalto',\n",
              " '- inauguração da estação radar de corumbá (ms). reforço no controle de tráfego na fronteira do brasil com o paraguai e bolívia. avanço no monitoramento e ações de combate ao tráfico e demais problemas em mais esta região de fronteira. @defesagovbr @fab_oficial @exercitooficial',\n",
              " 'clubes de assinatura ganham mais adeptos durante a quarentena',\n",
              " 'governo bolsonaro desmonta ação de combate ao abuso de crianças',\n",
              " 'o presidente jair bolsonaro afirmou neste domingo (23) ter vontade de agredir um repórter do jornal o globo após ser questionado sobre os depósitos feitos pelo ex-policial militar fabrício queiroz na conta da primeira-dama michelle bolsonaro.']"
            ]
          },
          "metadata": {
            "tags": []
          },
          "execution_count": 75
        }
      ]
    },
    {
      "cell_type": "code",
      "metadata": {
        "id": "rofD8nCXE-Q6",
        "colab_type": "code",
        "colab": {
          "base_uri": "https://localhost:8080/",
          "height": 1000
        },
        "outputId": "48f1d181-ace2-4334-db7e-cb3dff667459"
      },
      "source": [
        "from nltk.tokenize import word_tokenize\n",
        "\n",
        "texto_teste = [ removerAcentosECaracteresEspeciais(each_string) for each_string in texto_teste ]\n",
        "texto_teste = [ word_tokenize(each_string) for each_string in texto_teste ]\n",
        "texto_teste"
      ],
      "execution_count": 76,
      "outputs": [
        {
          "output_type": "execute_result",
          "data": {
            "text/plain": [
              "[['perder',\n",
              "  'faz',\n",
              "  'parte',\n",
              "  'do',\n",
              "  'esporte',\n",
              "  'tentamos',\n",
              "  'de',\n",
              "  'tudo',\n",
              "  'lutamos',\n",
              "  'ate',\n",
              "  'o',\n",
              "  'final',\n",
              "  'obrigado',\n",
              "  'pelo',\n",
              "  'apoio',\n",
              "  'e',\n",
              "  'carinho',\n",
              "  'de',\n",
              "  'cada',\n",
              "  'um',\n",
              "  'de',\n",
              "  'voces',\n",
              "  'e',\n",
              "  'parabens',\n",
              "  'ao',\n",
              "  'bayer'],\n",
              " ['ai', 'ai', 'ai', 'ai', 'ta', 'chegando', 'a', 'hora'],\n",
              " ['que', 'deus', 'nos', 'abencoe', 'e', 'nos', 'proteja', 'championsleague'],\n",
              " ['ha',\n",
              "  'pelo',\n",
              "  'menos',\n",
              "  '10',\n",
              "  'anos',\n",
              "  'o',\n",
              "  'sistema',\n",
              "  'globo',\n",
              "  'me',\n",
              "  'persegue',\n",
              "  'e',\n",
              "  'nada',\n",
              "  'conseguiram',\n",
              "  'provar',\n",
              "  'contra',\n",
              "  'mim',\n",
              "  'agora',\n",
              "  'aguardo',\n",
              "  'explicacoes',\n",
              "  'da',\n",
              "  'familia',\n",
              "  'marinho',\n",
              "  'sobre',\n",
              "  'a',\n",
              "  'delacao',\n",
              "  'do',\n",
              "  'doleiro',\n",
              "  'dos',\n",
              "  'doleiros',\n",
              "  'onde',\n",
              "  'valores',\n",
              "  'superiores',\n",
              "  'a',\n",
              "  'r',\n",
              "  '1',\n",
              "  'bilhao',\n",
              "  'teriam',\n",
              "  'sido',\n",
              "  'repassados',\n",
              "  'a',\n",
              "  'eles'],\n",
              " ['em',\n",
              "  'julho',\n",
              "  '2020',\n",
              "  'o',\n",
              "  'caged',\n",
              "  'apresentou',\n",
              "  'um',\n",
              "  'saldo',\n",
              "  'positivo',\n",
              "  'de',\n",
              "  '131010',\n",
              "  'novos',\n",
              "  'postos',\n",
              "  'de',\n",
              "  'trabalho',\n",
              "  'o',\n",
              "  'grande',\n",
              "  'destaque',\n",
              "  'foi',\n",
              "  'a',\n",
              "  'industria',\n",
              "  'de',\n",
              "  'transformacao',\n",
              "  'em',\n",
              "  'especial',\n",
              "  'a',\n",
              "  'fabricacao',\n",
              "  'de',\n",
              "  'produtos',\n",
              "  'alimenticios',\n",
              "  'e',\n",
              "  'a',\n",
              "  'construcao',\n",
              "  'civil',\n",
              "  'e',\n",
              "  'o',\n",
              "  'brasil',\n",
              "  'voltando',\n",
              "  'a',\n",
              "  'normalidade',\n",
              "  'govbr',\n",
              "  'planalto'],\n",
              " ['inauguracao',\n",
              "  'da',\n",
              "  'estacao',\n",
              "  'radar',\n",
              "  'de',\n",
              "  'corumba',\n",
              "  'ms',\n",
              "  'reforco',\n",
              "  'no',\n",
              "  'controle',\n",
              "  'de',\n",
              "  'trafego',\n",
              "  'na',\n",
              "  'fronteira',\n",
              "  'do',\n",
              "  'brasil',\n",
              "  'com',\n",
              "  'o',\n",
              "  'paraguai',\n",
              "  'e',\n",
              "  'bolivia',\n",
              "  'avanco',\n",
              "  'no',\n",
              "  'monitoramento',\n",
              "  'e',\n",
              "  'acoes',\n",
              "  'de',\n",
              "  'combate',\n",
              "  'ao',\n",
              "  'trafico',\n",
              "  'e',\n",
              "  'demais',\n",
              "  'problemas',\n",
              "  'em',\n",
              "  'mais',\n",
              "  'esta',\n",
              "  'regiao',\n",
              "  'de',\n",
              "  'fronteira',\n",
              "  'defesagovbr',\n",
              "  'faboficial',\n",
              "  'exercitooficial'],\n",
              " ['clubes',\n",
              "  'de',\n",
              "  'assinatura',\n",
              "  'ganham',\n",
              "  'mais',\n",
              "  'adeptos',\n",
              "  'durante',\n",
              "  'a',\n",
              "  'quarentena'],\n",
              " ['governo',\n",
              "  'bolsonaro',\n",
              "  'desmonta',\n",
              "  'acao',\n",
              "  'de',\n",
              "  'combate',\n",
              "  'ao',\n",
              "  'abuso',\n",
              "  'de',\n",
              "  'criancas'],\n",
              " ['o',\n",
              "  'presidente',\n",
              "  'jair',\n",
              "  'bolsonaro',\n",
              "  'afirmou',\n",
              "  'neste',\n",
              "  'domingo',\n",
              "  '23',\n",
              "  'ter',\n",
              "  'vontade',\n",
              "  'de',\n",
              "  'agredir',\n",
              "  'um',\n",
              "  'reporter',\n",
              "  'do',\n",
              "  'jornal',\n",
              "  'o',\n",
              "  'globo',\n",
              "  'apos',\n",
              "  'ser',\n",
              "  'questionado',\n",
              "  'sobre',\n",
              "  'os',\n",
              "  'depositos',\n",
              "  'feitos',\n",
              "  'pelo',\n",
              "  'expolicial',\n",
              "  'militar',\n",
              "  'fabricio',\n",
              "  'queiroz',\n",
              "  'na',\n",
              "  'conta',\n",
              "  'da',\n",
              "  'primeiradama',\n",
              "  'michelle',\n",
              "  'bolsonaro']]"
            ]
          },
          "metadata": {
            "tags": []
          },
          "execution_count": 76
        }
      ]
    },
    {
      "cell_type": "code",
      "metadata": {
        "id": "tSsA1NpsFEN7",
        "colab_type": "code",
        "colab": {}
      },
      "source": [
        "texto_teste = [ no_alphas(each_string) for each_string in texto_teste ]"
      ],
      "execution_count": null,
      "outputs": []
    },
    {
      "cell_type": "markdown",
      "metadata": {
        "id": "EbFkZ-Q_FMCU",
        "colab_type": "text"
      },
      "source": [
        "## Stop Words"
      ]
    },
    {
      "cell_type": "code",
      "metadata": {
        "id": "0MtqDXPbFIoj",
        "colab_type": "code",
        "colab": {
          "base_uri": "https://localhost:8080/",
          "height": 1000
        },
        "outputId": "04345935-12ee-4323-c76c-42b4e6d320d8"
      },
      "source": [
        "texto_teste = [ remove_stops(each_string, spwd_pt) for each_string in texto_teste]\n",
        "texto_teste"
      ],
      "execution_count": 78,
      "outputs": [
        {
          "output_type": "execute_result",
          "data": {
            "text/plain": [
              "[['perder',\n",
              "  'faz',\n",
              "  'parte',\n",
              "  'esporte',\n",
              "  'tentamos',\n",
              "  'tudo',\n",
              "  'lutamos',\n",
              "  'ate',\n",
              "  'final',\n",
              "  'obrigado',\n",
              "  'apoio',\n",
              "  'carinho',\n",
              "  'cada',\n",
              "  'voces',\n",
              "  'parabens',\n",
              "  'bayer'],\n",
              " ['ai', 'ai', 'ai', 'ai', 'ta', 'chegando', 'hora'],\n",
              " ['deus', 'abencoe', 'proteja', 'championsleague'],\n",
              " ['ha',\n",
              "  'menos',\n",
              "  'anos',\n",
              "  'sistema',\n",
              "  'globo',\n",
              "  'persegue',\n",
              "  'nada',\n",
              "  'conseguiram',\n",
              "  'provar',\n",
              "  'contra',\n",
              "  'mim',\n",
              "  'agora',\n",
              "  'aguardo',\n",
              "  'explicacoes',\n",
              "  'familia',\n",
              "  'marinho',\n",
              "  'sobre',\n",
              "  'delacao',\n",
              "  'doleiro',\n",
              "  'doleiros',\n",
              "  'onde',\n",
              "  'valores',\n",
              "  'superiores',\n",
              "  'r',\n",
              "  'bilhao',\n",
              "  'sido',\n",
              "  'repassados'],\n",
              " ['julho',\n",
              "  'caged',\n",
              "  'apresentou',\n",
              "  'saldo',\n",
              "  'positivo',\n",
              "  'novos',\n",
              "  'postos',\n",
              "  'trabalho',\n",
              "  'grande',\n",
              "  'destaque',\n",
              "  'industria',\n",
              "  'transformacao',\n",
              "  'especial',\n",
              "  'fabricacao',\n",
              "  'produtos',\n",
              "  'alimenticios',\n",
              "  'construcao',\n",
              "  'civil',\n",
              "  'brasil',\n",
              "  'voltando',\n",
              "  'normalidade',\n",
              "  'govbr',\n",
              "  'planalto'],\n",
              " ['inauguracao',\n",
              "  'estacao',\n",
              "  'radar',\n",
              "  'corumba',\n",
              "  'ms',\n",
              "  'reforco',\n",
              "  'controle',\n",
              "  'trafego',\n",
              "  'fronteira',\n",
              "  'brasil',\n",
              "  'paraguai',\n",
              "  'bolivia',\n",
              "  'avanco',\n",
              "  'monitoramento',\n",
              "  'acoes',\n",
              "  'combate',\n",
              "  'trafico',\n",
              "  'demais',\n",
              "  'problemas',\n",
              "  'regiao',\n",
              "  'fronteira',\n",
              "  'defesagovbr',\n",
              "  'faboficial',\n",
              "  'exercitooficial'],\n",
              " ['clubes', 'assinatura', 'ganham', 'adeptos', 'durante', 'quarentena'],\n",
              " ['governo', 'bolsonaro', 'desmonta', 'acao', 'combate', 'abuso', 'criancas'],\n",
              " ['presidente',\n",
              "  'jair',\n",
              "  'bolsonaro',\n",
              "  'afirmou',\n",
              "  'neste',\n",
              "  'domingo',\n",
              "  'ter',\n",
              "  'vontade',\n",
              "  'agredir',\n",
              "  'reporter',\n",
              "  'jornal',\n",
              "  'globo',\n",
              "  'apos',\n",
              "  'ser',\n",
              "  'questionado',\n",
              "  'sobre',\n",
              "  'depositos',\n",
              "  'feitos',\n",
              "  'expolicial',\n",
              "  'militar',\n",
              "  'fabricio',\n",
              "  'queiroz',\n",
              "  'conta',\n",
              "  'primeiradama',\n",
              "  'michelle',\n",
              "  'bolsonaro']]"
            ]
          },
          "metadata": {
            "tags": []
          },
          "execution_count": 78
        }
      ]
    },
    {
      "cell_type": "markdown",
      "metadata": {
        "id": "BzDnW0JIFUAt",
        "colab_type": "text"
      },
      "source": [
        "## Stemming"
      ]
    },
    {
      "cell_type": "code",
      "metadata": {
        "id": "03REY3g_FRJE",
        "colab_type": "code",
        "colab": {}
      },
      "source": [
        "texto_teste = [ stemming_pt( each_string, stem_local ) for each_string in texto_teste ]"
      ],
      "execution_count": null,
      "outputs": []
    },
    {
      "cell_type": "code",
      "metadata": {
        "id": "UXp14HTUFYhE",
        "colab_type": "code",
        "colab": {
          "base_uri": "https://localhost:8080/",
          "height": 170
        },
        "outputId": "d97cfab0-e058-416b-847a-500e4bf2d5ab"
      },
      "source": [
        "texto_teste = [ reconstroi_frase(each_string) for each_string in texto_teste ]\n",
        "texto_teste"
      ],
      "execution_count": 80,
      "outputs": [
        {
          "output_type": "execute_result",
          "data": {
            "text/plain": [
              "['perd faz part esport tent tud lut ate final obrig apoi car cad voc parab bay',\n",
              " 'ai ai ai ai ta cheg hor',\n",
              " 'deu abenco protej championsleag',\n",
              " 'ha menos ano sistem glob perseg nad consegu prov contr mim agor aguard explicaco famil mar sobr delaca dol dol ond val superi r bilha sid repass',\n",
              " 'julh caged apresent sald posi nov post trabalh grand destaqu industr transformaca espec fabricaca produt alimentici construca civil brasil volt normal govbr planalt',\n",
              " 'inauguraca estaca rad corumb ms reforc control trafeg fronteir brasil paragu boliv avanc monitor aco combat traf demal problem regia fronteir defesagovbr fabofic exercitoofic',\n",
              " 'club assinat ganh adept dur quarenten',\n",
              " 'govern bolsonar desmont aca combat abus crianc',\n",
              " 'presid jair bolsonar afirm nest doming ter vontad agred report jorn glob apo ser question sobr deposit feit expolic milit fabrici queiroz cont primeiradam michell bolsonar']"
            ]
          },
          "metadata": {
            "tags": []
          },
          "execution_count": 80
        }
      ]
    },
    {
      "cell_type": "markdown",
      "metadata": {
        "id": "WvNK_ahTFoJU",
        "colab_type": "text"
      },
      "source": [
        "## Modelo e BoW"
      ]
    },
    {
      "cell_type": "code",
      "metadata": {
        "id": "_irHON2yFdt2",
        "colab_type": "code",
        "colab": {
          "base_uri": "https://localhost:8080/",
          "height": 119
        },
        "outputId": "832faaee-2d5b-4d14-bdfe-8738e68c947d"
      },
      "source": [
        "x = df2['processado_pt'].values\n",
        "y = df2['Classificacao'].values\n",
        "x"
      ],
      "execution_count": 81,
      "outputs": [
        {
          "output_type": "execute_result",
          "data": {
            "text/plain": [
              "array(['catedr de sant antoni govern valadaresmg httpstcojsbkamiquj',\n",
              "       'govern valad min geral', 'govern valad min geral', ...,\n",
              "       'tri e pres suspeit de roub traf e abus sex em uberland httpstcozaqbxrrjwc',\n",
              "       'tri e pres suspeit de roub traf e abus sex em uberland um do autor ter molest vit de',\n",
              "       'tri suspeit de roub de carg e pres em sant luz mg recordtvmin'],\n",
              "      dtype=object)"
            ]
          },
          "metadata": {
            "tags": []
          },
          "execution_count": 81
        }
      ]
    },
    {
      "cell_type": "code",
      "metadata": {
        "id": "vHYQgZ-MFvhZ",
        "colab_type": "code",
        "colab": {}
      },
      "source": [
        "from sklearn.model_selection import train_test_split\n",
        " \n",
        "x_treino, x_test, y_treino, y_test  = train_test_split(x, y, test_size = 0.25 )"
      ],
      "execution_count": 82,
      "outputs": []
    },
    {
      "cell_type": "code",
      "metadata": {
        "id": "5Re0Xb-QFyew",
        "colab_type": "code",
        "colab": {
          "base_uri": "https://localhost:8080/",
          "height": 119
        },
        "outputId": "dce121bf-b937-457f-dcc6-4448209a93f0"
      },
      "source": [
        "from sklearn.feature_extraction.text import CountVectorizer\n",
        "\n",
        "vect = CountVectorizer( analyzer = 'word', min_df = 0.01, max_df = 0.8 )\n",
        "vect.fit(x_treino)"
      ],
      "execution_count": 83,
      "outputs": [
        {
          "output_type": "execute_result",
          "data": {
            "text/plain": [
              "CountVectorizer(analyzer='word', binary=False, decode_error='strict',\n",
              "                dtype=<class 'numpy.int64'>, encoding='utf-8', input='content',\n",
              "                lowercase=True, max_df=0.8, max_features=None, min_df=0.01,\n",
              "                ngram_range=(1, 1), preprocessor=None, stop_words=None,\n",
              "                strip_accents=None, token_pattern='(?u)\\\\b\\\\w\\\\w+\\\\b',\n",
              "                tokenizer=None, vocabulary=None)"
            ]
          },
          "metadata": {
            "tags": []
          },
          "execution_count": 83
        }
      ]
    },
    {
      "cell_type": "code",
      "metadata": {
        "id": "0rBRqH4xF-2a",
        "colab_type": "code",
        "colab": {}
      },
      "source": [
        "bow_x_treino = vect.transform( x_treino )\n",
        "bow_x_test = vect.transform( x_test )"
      ],
      "execution_count": 84,
      "outputs": []
    },
    {
      "cell_type": "markdown",
      "metadata": {
        "id": "hGUvMMUwGRdP",
        "colab_type": "text"
      },
      "source": [
        "### Classificador"
      ]
    },
    {
      "cell_type": "code",
      "metadata": {
        "id": "QhfXPHmKGMhb",
        "colab_type": "code",
        "colab": {}
      },
      "source": [
        "from sklearn.naive_bayes import MultinomialNB\n",
        "model = MultinomialNB()"
      ],
      "execution_count": 85,
      "outputs": []
    },
    {
      "cell_type": "markdown",
      "metadata": {
        "id": "uZY0LlKKGid3",
        "colab_type": "text"
      },
      "source": [
        "### Classificação do modelo de teste"
      ]
    },
    {
      "cell_type": "code",
      "metadata": {
        "id": "mjgJopiRGgzY",
        "colab_type": "code",
        "colab": {
          "base_uri": "https://localhost:8080/",
          "height": 34
        },
        "outputId": "ba25c2ca-5ba4-42bf-aced-3950597a4df4"
      },
      "source": [
        "model.fit( bow_x_treino, y_treino )"
      ],
      "execution_count": 86,
      "outputs": [
        {
          "output_type": "execute_result",
          "data": {
            "text/plain": [
              "MultinomialNB(alpha=1.0, class_prior=None, fit_prior=True)"
            ]
          },
          "metadata": {
            "tags": []
          },
          "execution_count": 86
        }
      ]
    },
    {
      "cell_type": "code",
      "metadata": {
        "id": "cUZNgOIeGttX",
        "colab_type": "code",
        "colab": {}
      },
      "source": [
        "bow_texto_teste = vect.transform( texto_teste )"
      ],
      "execution_count": 87,
      "outputs": []
    },
    {
      "cell_type": "code",
      "metadata": {
        "id": "rYHFWEaPGwgw",
        "colab_type": "code",
        "colab": {
          "base_uri": "https://localhost:8080/",
          "height": 170
        },
        "outputId": "d768bc87-1635-4a32-83dd-c19e80296ddd"
      },
      "source": [
        "output_test = model.predict( bow_texto_teste )\n",
        "\n",
        "dict_resp = { -1: 'Negativo', 0: 'Neutro', 1: 'Positivo' }\n",
        "\n",
        "for i in output_test:\n",
        "  print( dict_resp[i] )"
      ],
      "execution_count": 89,
      "outputs": [
        {
          "output_type": "stream",
          "text": [
            "Negativo\n",
            "Positivo\n",
            "Positivo\n",
            "Neutro\n",
            "Positivo\n",
            "Positivo\n",
            "Positivo\n",
            "Negativo\n",
            "Neutro\n"
          ],
          "name": "stdout"
        }
      ]
    },
    {
      "cell_type": "markdown",
      "metadata": {
        "id": "x261A4x2HMVf",
        "colab_type": "text"
      },
      "source": [
        "## Validação do modelo"
      ]
    },
    {
      "cell_type": "markdown",
      "metadata": {
        "id": "5eDbL_WpHUPu",
        "colab_type": "text"
      },
      "source": [
        "### Acurácia"
      ]
    },
    {
      "cell_type": "code",
      "metadata": {
        "id": "KfuP-jQFHHNL",
        "colab_type": "code",
        "colab": {
          "base_uri": "https://localhost:8080/",
          "height": 51
        },
        "outputId": "4c2af5e5-2fd9-4475-af67-8f8f834e740c"
      },
      "source": [
        "from sklearn.metrics import plot_confusion_matrix\n",
        "import matplotlib.pyplot as plt\n",
        "\n",
        "print( model.score(bow_x_treino, y_treino) )\n",
        "print( model.score(bow_x_test, y_test) )"
      ],
      "execution_count": 90,
      "outputs": [
        {
          "output_type": "stream",
          "text": [
            "0.8708733127337779\n",
            "0.8697560975609756\n"
          ],
          "name": "stdout"
        }
      ]
    },
    {
      "cell_type": "markdown",
      "metadata": {
        "id": "jbPJLkFDHt7h",
        "colab_type": "text"
      },
      "source": [
        "### Treino"
      ]
    },
    {
      "cell_type": "code",
      "metadata": {
        "id": "LH-zXjH6HqDY",
        "colab_type": "code",
        "colab": {
          "base_uri": "https://localhost:8080/",
          "height": 296
        },
        "outputId": "6993e7c5-6b05-47e4-fe78-0967bd732ce7"
      },
      "source": [
        "plot_confusion_matrix( estimator = model, X = bow_x_treino, y_true = y_treino, normalize = 'true', cmap = plt.cm.Blues )"
      ],
      "execution_count": 91,
      "outputs": [
        {
          "output_type": "execute_result",
          "data": {
            "text/plain": [
              "<sklearn.metrics._plot.confusion_matrix.ConfusionMatrixDisplay at 0x7f6064510550>"
            ]
          },
          "metadata": {
            "tags": []
          },
          "execution_count": 91
        },
        {
          "output_type": "display_data",
          "data": {
            "image/png": "[encoded data removed]",
            "text/plain": [
              "<Figure size 432x288 with 2 Axes>"
            ]
          },
          "metadata": {
            "tags": [],
            "needs_background": "light"
          }
        }
      ]
    },
    {
      "cell_type": "markdown",
      "metadata": {
        "id": "NHpgDqA8H6Kn",
        "colab_type": "text"
      },
      "source": [
        "### Teste"
      ]
    },
    {
      "cell_type": "code",
      "metadata": {
        "id": "3LT066TgH3To",
        "colab_type": "code",
        "colab": {
          "base_uri": "https://localhost:8080/",
          "height": 296
        },
        "outputId": "5cc2b4ae-5cbb-4b6f-c5ff-d1351437eb8d"
      },
      "source": [
        "plot_confusion_matrix( estimator = model, X = bow_x_test, y_true = y_test, normalize = 'true', cmap = plt.cm.Blues )"
      ],
      "execution_count": 92,
      "outputs": [
        {
          "output_type": "execute_result",
          "data": {
            "text/plain": [
              "<sklearn.metrics._plot.confusion_matrix.ConfusionMatrixDisplay at 0x7f6064510860>"
            ]
          },
          "metadata": {
            "tags": []
          },
          "execution_count": 92
        },
        {
          "output_type": "display_data",
          "data": {
            "image/png": "[encoded data removed]",
            "text/plain": [
              "<Figure size 432x288 with 2 Axes>"
            ]
          },
          "metadata": {
            "tags": [],
            "needs_background": "light"
          }
        }
      ]
    },
    {
      "cell_type": "code",
      "metadata": {
        "id": "vPcTBQj6IBFC",
        "colab_type": "code",
        "colab": {}
      },
      "source": [
        ""
      ],
      "execution_count": null,
      "outputs": []
    }
  ]
}