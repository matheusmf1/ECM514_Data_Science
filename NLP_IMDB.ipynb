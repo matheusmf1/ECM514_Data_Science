{
  "nbformat": 4,
  "nbformat_minor": 0,
  "metadata": {
    "colab": {
      "name": "NLP-IMDB.ipynb",
      "provenance": [],
      "mount_file_id": "16CS9W-hh-h_A0_qNoyP2my7Q1DayMqBg",
      "authorship_tag": "ABX9TyM91ISUxWSKZlOB0E53j1F1",
      "include_colab_link": true
    },
    "kernelspec": {
      "name": "python3",
      "display_name": "Python 3"
    }
  },
  "cells": [
    {
      "cell_type": "markdown",
      "metadata": {
        "id": "view-in-github",
        "colab_type": "text"
      },
      "source": [
        "<a href=\"https://colab.research.google.com/github/matheusmf1/ECM514_Data_Science/blob/master/NLP_IMDB.ipynb\" target=\"_parent\"><img src=\"https://colab.research.google.com/assets/colab-badge.svg\" alt=\"Open In Colab\"/></a>"
      ]
    },
    {
      "cell_type": "markdown",
      "metadata": {
        "id": "9axEEVWCkP9e",
        "colab_type": "text"
      },
      "source": [
        "### Análise de Sentimentos de avaliações de filmes a portir de reviews do IMDB\n",
        "\n",
        "- negativo\n",
        "- positivo"
      ]
    },
    {
      "cell_type": "code",
      "metadata": {
        "id": "2KoH2kbXkk_F",
        "colab_type": "code",
        "colab": {
          "base_uri": "https://localhost:8080/",
          "height": 799
        },
        "outputId": "f97ca0e9-7927-4a9e-ef73-6a51efcb7cbf"
      },
      "source": [
        "import nltk\n",
        "nltk.download('popular')\n",
        "import pandas as pd\n",
        "import numpy as np"
      ],
      "execution_count": 1,
      "outputs": [
        {
          "output_type": "stream",
          "text": [
            "[nltk_data] Downloading collection 'popular'\n",
            "[nltk_data]    | \n",
            "[nltk_data]    | Downloading package cmudict to /root/nltk_data...\n",
            "[nltk_data]    |   Unzipping corpora/cmudict.zip.\n",
            "[nltk_data]    | Downloading package gazetteers to /root/nltk_data...\n",
            "[nltk_data]    |   Unzipping corpora/gazetteers.zip.\n",
            "[nltk_data]    | Downloading package genesis to /root/nltk_data...\n",
            "[nltk_data]    |   Unzipping corpora/genesis.zip.\n",
            "[nltk_data]    | Downloading package gutenberg to /root/nltk_data...\n",
            "[nltk_data]    |   Unzipping corpora/gutenberg.zip.\n",
            "[nltk_data]    | Downloading package inaugural to /root/nltk_data...\n",
            "[nltk_data]    |   Unzipping corpora/inaugural.zip.\n",
            "[nltk_data]    | Downloading package movie_reviews to\n",
            "[nltk_data]    |     /root/nltk_data...\n",
            "[nltk_data]    |   Unzipping corpora/movie_reviews.zip.\n",
            "[nltk_data]    | Downloading package names to /root/nltk_data...\n",
            "[nltk_data]    |   Unzipping corpora/names.zip.\n",
            "[nltk_data]    | Downloading package shakespeare to /root/nltk_data...\n",
            "[nltk_data]    |   Unzipping corpora/shakespeare.zip.\n",
            "[nltk_data]    | Downloading package stopwords to /root/nltk_data...\n",
            "[nltk_data]    |   Unzipping corpora/stopwords.zip.\n",
            "[nltk_data]    | Downloading package treebank to /root/nltk_data...\n",
            "[nltk_data]    |   Unzipping corpora/treebank.zip.\n",
            "[nltk_data]    | Downloading package twitter_samples to\n",
            "[nltk_data]    |     /root/nltk_data...\n",
            "[nltk_data]    |   Unzipping corpora/twitter_samples.zip.\n",
            "[nltk_data]    | Downloading package omw to /root/nltk_data...\n",
            "[nltk_data]    |   Unzipping corpora/omw.zip.\n",
            "[nltk_data]    | Downloading package wordnet to /root/nltk_data...\n",
            "[nltk_data]    |   Unzipping corpora/wordnet.zip.\n",
            "[nltk_data]    | Downloading package wordnet_ic to /root/nltk_data...\n",
            "[nltk_data]    |   Unzipping corpora/wordnet_ic.zip.\n",
            "[nltk_data]    | Downloading package words to /root/nltk_data...\n",
            "[nltk_data]    |   Unzipping corpora/words.zip.\n",
            "[nltk_data]    | Downloading package maxent_ne_chunker to\n",
            "[nltk_data]    |     /root/nltk_data...\n",
            "[nltk_data]    |   Unzipping chunkers/maxent_ne_chunker.zip.\n",
            "[nltk_data]    | Downloading package punkt to /root/nltk_data...\n",
            "[nltk_data]    |   Unzipping tokenizers/punkt.zip.\n",
            "[nltk_data]    | Downloading package snowball_data to\n",
            "[nltk_data]    |     /root/nltk_data...\n",
            "[nltk_data]    | Downloading package averaged_perceptron_tagger to\n",
            "[nltk_data]    |     /root/nltk_data...\n",
            "[nltk_data]    |   Unzipping taggers/averaged_perceptron_tagger.zip.\n",
            "[nltk_data]    | \n",
            "[nltk_data]  Done downloading collection popular\n"
          ],
          "name": "stdout"
        }
      ]
    },
    {
      "cell_type": "markdown",
      "metadata": {
        "id": "dNr9DyskkhZz",
        "colab_type": "text"
      },
      "source": [
        "# DataSet IMDB"
      ]
    },
    {
      "cell_type": "code",
      "metadata": {
        "id": "M3V2L-b2kOTu",
        "colab_type": "code",
        "colab": {
          "base_uri": "https://localhost:8080/",
          "height": 204
        },
        "outputId": "ee26ce14-d2b8-4cf5-f019-497bef2ca7ba"
      },
      "source": [
        "df_imdb = pd.read_csv( '/content/drive/My Drive/Colab Notebooks/Data Science Class/DataSets/imdb-reviews-pt-br.csv' )\n",
        "df_imdb.head()"
      ],
      "execution_count": 2,
      "outputs": [
        {
          "output_type": "execute_result",
          "data": {
            "text/html": [
              "<div>\n",
              "<style scoped>\n",
              "    .dataframe tbody tr th:only-of-type {\n",
              "        vertical-align: middle;\n",
              "    }\n",
              "\n",
              "    .dataframe tbody tr th {\n",
              "        vertical-align: top;\n",
              "    }\n",
              "\n",
              "    .dataframe thead th {\n",
              "        text-align: right;\n",
              "    }\n",
              "</style>\n",
              "<table border=\"1\" class=\"dataframe\">\n",
              "  <thead>\n",
              "    <tr style=\"text-align: right;\">\n",
              "      <th></th>\n",
              "      <th>id</th>\n",
              "      <th>text_en</th>\n",
              "      <th>text_pt</th>\n",
              "      <th>sentiment</th>\n",
              "    </tr>\n",
              "  </thead>\n",
              "  <tbody>\n",
              "    <tr>\n",
              "      <th>0</th>\n",
              "      <td>1</td>\n",
              "      <td>Once again Mr. Costner has dragged out a movie...</td>\n",
              "      <td>Mais uma vez, o Sr. Costner arrumou um filme p...</td>\n",
              "      <td>neg</td>\n",
              "    </tr>\n",
              "    <tr>\n",
              "      <th>1</th>\n",
              "      <td>2</td>\n",
              "      <td>This is an example of why the majority of acti...</td>\n",
              "      <td>Este é um exemplo do motivo pelo qual a maiori...</td>\n",
              "      <td>neg</td>\n",
              "    </tr>\n",
              "    <tr>\n",
              "      <th>2</th>\n",
              "      <td>3</td>\n",
              "      <td>First of all I hate those moronic rappers, who...</td>\n",
              "      <td>Primeiro de tudo eu odeio esses raps imbecis, ...</td>\n",
              "      <td>neg</td>\n",
              "    </tr>\n",
              "    <tr>\n",
              "      <th>3</th>\n",
              "      <td>4</td>\n",
              "      <td>Not even the Beatles could write songs everyon...</td>\n",
              "      <td>Nem mesmo os Beatles puderam escrever músicas ...</td>\n",
              "      <td>neg</td>\n",
              "    </tr>\n",
              "    <tr>\n",
              "      <th>4</th>\n",
              "      <td>5</td>\n",
              "      <td>Brass pictures movies is not a fitting word fo...</td>\n",
              "      <td>Filmes de fotos de latão não é uma palavra apr...</td>\n",
              "      <td>neg</td>\n",
              "    </tr>\n",
              "  </tbody>\n",
              "</table>\n",
              "</div>"
            ],
            "text/plain": [
              "   id  ... sentiment\n",
              "0   1  ...       neg\n",
              "1   2  ...       neg\n",
              "2   3  ...       neg\n",
              "3   4  ...       neg\n",
              "4   5  ...       neg\n",
              "\n",
              "[5 rows x 4 columns]"
            ]
          },
          "metadata": {
            "tags": []
          },
          "execution_count": 2
        }
      ]
    },
    {
      "cell_type": "code",
      "metadata": {
        "id": "CaqoSgxPkZRU",
        "colab_type": "code",
        "colab": {
          "base_uri": "https://localhost:8080/",
          "height": 204
        },
        "outputId": "a1a1d295-6897-4464-e9ea-02e0d852d214"
      },
      "source": [
        "df_imdb_pt = df_imdb[ ['text_pt', 'sentiment'] ]\n",
        "df_imdb_pt.head()"
      ],
      "execution_count": 3,
      "outputs": [
        {
          "output_type": "execute_result",
          "data": {
            "text/html": [
              "<div>\n",
              "<style scoped>\n",
              "    .dataframe tbody tr th:only-of-type {\n",
              "        vertical-align: middle;\n",
              "    }\n",
              "\n",
              "    .dataframe tbody tr th {\n",
              "        vertical-align: top;\n",
              "    }\n",
              "\n",
              "    .dataframe thead th {\n",
              "        text-align: right;\n",
              "    }\n",
              "</style>\n",
              "<table border=\"1\" class=\"dataframe\">\n",
              "  <thead>\n",
              "    <tr style=\"text-align: right;\">\n",
              "      <th></th>\n",
              "      <th>text_pt</th>\n",
              "      <th>sentiment</th>\n",
              "    </tr>\n",
              "  </thead>\n",
              "  <tbody>\n",
              "    <tr>\n",
              "      <th>0</th>\n",
              "      <td>Mais uma vez, o Sr. Costner arrumou um filme p...</td>\n",
              "      <td>neg</td>\n",
              "    </tr>\n",
              "    <tr>\n",
              "      <th>1</th>\n",
              "      <td>Este é um exemplo do motivo pelo qual a maiori...</td>\n",
              "      <td>neg</td>\n",
              "    </tr>\n",
              "    <tr>\n",
              "      <th>2</th>\n",
              "      <td>Primeiro de tudo eu odeio esses raps imbecis, ...</td>\n",
              "      <td>neg</td>\n",
              "    </tr>\n",
              "    <tr>\n",
              "      <th>3</th>\n",
              "      <td>Nem mesmo os Beatles puderam escrever músicas ...</td>\n",
              "      <td>neg</td>\n",
              "    </tr>\n",
              "    <tr>\n",
              "      <th>4</th>\n",
              "      <td>Filmes de fotos de latão não é uma palavra apr...</td>\n",
              "      <td>neg</td>\n",
              "    </tr>\n",
              "  </tbody>\n",
              "</table>\n",
              "</div>"
            ],
            "text/plain": [
              "                                             text_pt sentiment\n",
              "0  Mais uma vez, o Sr. Costner arrumou um filme p...       neg\n",
              "1  Este é um exemplo do motivo pelo qual a maiori...       neg\n",
              "2  Primeiro de tudo eu odeio esses raps imbecis, ...       neg\n",
              "3  Nem mesmo os Beatles puderam escrever músicas ...       neg\n",
              "4  Filmes de fotos de latão não é uma palavra apr...       neg"
            ]
          },
          "metadata": {
            "tags": []
          },
          "execution_count": 3
        }
      ]
    },
    {
      "cell_type": "markdown",
      "metadata": {
        "id": "Eum1IDmwnEQB",
        "colab_type": "text"
      },
      "source": [
        "## Vamos pegar o neg e pos e substituir por 0 e 1\n"
      ]
    },
    {
      "cell_type": "code",
      "metadata": {
        "id": "IjvH6O2jlLJ5",
        "colab_type": "code",
        "colab": {
          "base_uri": "https://localhost:8080/",
          "height": 34
        },
        "outputId": "4c3265e5-1b30-4acf-c2de-b768d5842da2"
      },
      "source": [
        "df_imdb_pt.sentiment.unique()"
      ],
      "execution_count": 4,
      "outputs": [
        {
          "output_type": "execute_result",
          "data": {
            "text/plain": [
              "array(['neg', 'pos'], dtype=object)"
            ]
          },
          "metadata": {
            "tags": []
          },
          "execution_count": 4
        }
      ]
    },
    {
      "cell_type": "code",
      "metadata": {
        "id": "F8aENYDQnNRm",
        "colab_type": "code",
        "colab": {
          "base_uri": "https://localhost:8080/",
          "height": 289
        },
        "outputId": "b24ea7f5-61a4-49ad-c3b7-737ac31df162"
      },
      "source": [
        "df_imdb_pt.sentiment.replace( { 'neg': 0, 'pos': 1 }, inplace=True )\n",
        "df_imdb_pt.head()"
      ],
      "execution_count": 5,
      "outputs": [
        {
          "output_type": "stream",
          "text": [
            "/usr/local/lib/python3.6/dist-packages/pandas/core/generic.py:6746: SettingWithCopyWarning: \n",
            "A value is trying to be set on a copy of a slice from a DataFrame\n",
            "\n",
            "See the caveats in the documentation: https://pandas.pydata.org/pandas-docs/stable/user_guide/indexing.html#returning-a-view-versus-a-copy\n",
            "  self._update_inplace(new_data)\n"
          ],
          "name": "stderr"
        },
        {
          "output_type": "execute_result",
          "data": {
            "text/html": [
              "<div>\n",
              "<style scoped>\n",
              "    .dataframe tbody tr th:only-of-type {\n",
              "        vertical-align: middle;\n",
              "    }\n",
              "\n",
              "    .dataframe tbody tr th {\n",
              "        vertical-align: top;\n",
              "    }\n",
              "\n",
              "    .dataframe thead th {\n",
              "        text-align: right;\n",
              "    }\n",
              "</style>\n",
              "<table border=\"1\" class=\"dataframe\">\n",
              "  <thead>\n",
              "    <tr style=\"text-align: right;\">\n",
              "      <th></th>\n",
              "      <th>text_pt</th>\n",
              "      <th>sentiment</th>\n",
              "    </tr>\n",
              "  </thead>\n",
              "  <tbody>\n",
              "    <tr>\n",
              "      <th>0</th>\n",
              "      <td>Mais uma vez, o Sr. Costner arrumou um filme p...</td>\n",
              "      <td>0</td>\n",
              "    </tr>\n",
              "    <tr>\n",
              "      <th>1</th>\n",
              "      <td>Este é um exemplo do motivo pelo qual a maiori...</td>\n",
              "      <td>0</td>\n",
              "    </tr>\n",
              "    <tr>\n",
              "      <th>2</th>\n",
              "      <td>Primeiro de tudo eu odeio esses raps imbecis, ...</td>\n",
              "      <td>0</td>\n",
              "    </tr>\n",
              "    <tr>\n",
              "      <th>3</th>\n",
              "      <td>Nem mesmo os Beatles puderam escrever músicas ...</td>\n",
              "      <td>0</td>\n",
              "    </tr>\n",
              "    <tr>\n",
              "      <th>4</th>\n",
              "      <td>Filmes de fotos de latão não é uma palavra apr...</td>\n",
              "      <td>0</td>\n",
              "    </tr>\n",
              "  </tbody>\n",
              "</table>\n",
              "</div>"
            ],
            "text/plain": [
              "                                             text_pt  sentiment\n",
              "0  Mais uma vez, o Sr. Costner arrumou um filme p...          0\n",
              "1  Este é um exemplo do motivo pelo qual a maiori...          0\n",
              "2  Primeiro de tudo eu odeio esses raps imbecis, ...          0\n",
              "3  Nem mesmo os Beatles puderam escrever músicas ...          0\n",
              "4  Filmes de fotos de latão não é uma palavra apr...          0"
            ]
          },
          "metadata": {
            "tags": []
          },
          "execution_count": 5
        }
      ]
    },
    {
      "cell_type": "code",
      "metadata": {
        "id": "2dxIwQajnf6B",
        "colab_type": "code",
        "colab": {
          "base_uri": "https://localhost:8080/",
          "height": 122
        },
        "outputId": "4cfdced5-9ff8-408c-ddc3-a5c93a171b4c"
      },
      "source": [
        "df_imdb_pt.text_pt[0]"
      ],
      "execution_count": 6,
      "outputs": [
        {
          "output_type": "execute_result",
          "data": {
            "application/vnd.google.colaboratory.intrinsic+json": {
              "type": "string"
            },
            "text/plain": [
              "'Mais uma vez, o Sr. Costner arrumou um filme por muito mais tempo do que o necessário. Além das terríveis seqüências de resgate no mar, das quais há muito poucas, eu simplesmente não me importei com nenhum dos personagens. A maioria de nós tem fantasmas no armário, e o personagem Costers é realizado logo no início, e depois esquecido até muito mais tarde, quando eu não me importava. O personagem com o qual deveríamos nos importar é muito arrogante e superconfiante, Ashton Kutcher. O problema é que ele sai como um garoto que pensa que é melhor do que qualquer outra pessoa ao seu redor e não mostra sinais de um armário desordenado. Seu único obstáculo parece estar vencendo Costner. Finalmente, quando estamos bem além do meio do caminho, Costner nos conta sobre os fantasmas dos Kutchers. Somos informados de por que Kutcher é levado a ser o melhor sem pressentimentos ou presságios anteriores. Nenhuma mágica aqui, era tudo que eu podia fazer para não desligar uma hora.'"
            ]
          },
          "metadata": {
            "tags": []
          },
          "execution_count": 6
        }
      ]
    },
    {
      "cell_type": "markdown",
      "metadata": {
        "id": "cdGYwrFZn42k",
        "colab_type": "text"
      },
      "source": [
        "# Vamos deixar tudo em minúsculo"
      ]
    },
    {
      "cell_type": "code",
      "metadata": {
        "id": "xpNqoBdmn21z",
        "colab_type": "code",
        "colab": {
          "base_uri": "https://localhost:8080/",
          "height": 306
        },
        "outputId": "756537a5-e992-43c2-a365-a8c160fe8864"
      },
      "source": [
        "df_imdb_pt['text_pt'] = df_imdb_pt['text_pt'].apply( str.lower )\n",
        "df_imdb_pt.head()"
      ],
      "execution_count": 8,
      "outputs": [
        {
          "output_type": "stream",
          "text": [
            "/usr/local/lib/python3.6/dist-packages/ipykernel_launcher.py:1: SettingWithCopyWarning: \n",
            "A value is trying to be set on a copy of a slice from a DataFrame.\n",
            "Try using .loc[row_indexer,col_indexer] = value instead\n",
            "\n",
            "See the caveats in the documentation: https://pandas.pydata.org/pandas-docs/stable/user_guide/indexing.html#returning-a-view-versus-a-copy\n",
            "  \"\"\"Entry point for launching an IPython kernel.\n"
          ],
          "name": "stderr"
        },
        {
          "output_type": "execute_result",
          "data": {
            "text/html": [
              "<div>\n",
              "<style scoped>\n",
              "    .dataframe tbody tr th:only-of-type {\n",
              "        vertical-align: middle;\n",
              "    }\n",
              "\n",
              "    .dataframe tbody tr th {\n",
              "        vertical-align: top;\n",
              "    }\n",
              "\n",
              "    .dataframe thead th {\n",
              "        text-align: right;\n",
              "    }\n",
              "</style>\n",
              "<table border=\"1\" class=\"dataframe\">\n",
              "  <thead>\n",
              "    <tr style=\"text-align: right;\">\n",
              "      <th></th>\n",
              "      <th>text_pt</th>\n",
              "      <th>sentiment</th>\n",
              "    </tr>\n",
              "  </thead>\n",
              "  <tbody>\n",
              "    <tr>\n",
              "      <th>0</th>\n",
              "      <td>mais uma vez, o sr. costner arrumou um filme p...</td>\n",
              "      <td>0</td>\n",
              "    </tr>\n",
              "    <tr>\n",
              "      <th>1</th>\n",
              "      <td>este é um exemplo do motivo pelo qual a maiori...</td>\n",
              "      <td>0</td>\n",
              "    </tr>\n",
              "    <tr>\n",
              "      <th>2</th>\n",
              "      <td>primeiro de tudo eu odeio esses raps imbecis, ...</td>\n",
              "      <td>0</td>\n",
              "    </tr>\n",
              "    <tr>\n",
              "      <th>3</th>\n",
              "      <td>nem mesmo os beatles puderam escrever músicas ...</td>\n",
              "      <td>0</td>\n",
              "    </tr>\n",
              "    <tr>\n",
              "      <th>4</th>\n",
              "      <td>filmes de fotos de latão não é uma palavra apr...</td>\n",
              "      <td>0</td>\n",
              "    </tr>\n",
              "  </tbody>\n",
              "</table>\n",
              "</div>"
            ],
            "text/plain": [
              "                                             text_pt  sentiment\n",
              "0  mais uma vez, o sr. costner arrumou um filme p...          0\n",
              "1  este é um exemplo do motivo pelo qual a maiori...          0\n",
              "2  primeiro de tudo eu odeio esses raps imbecis, ...          0\n",
              "3  nem mesmo os beatles puderam escrever músicas ...          0\n",
              "4  filmes de fotos de latão não é uma palavra apr...          0"
            ]
          },
          "metadata": {
            "tags": []
          },
          "execution_count": 8
        }
      ]
    },
    {
      "cell_type": "markdown",
      "metadata": {
        "id": "SRTDa0fkqI4V",
        "colab_type": "text"
      },
      "source": [
        "# Modelo de referência"
      ]
    },
    {
      "cell_type": "code",
      "metadata": {
        "id": "bLTmI8wwpLYC",
        "colab_type": "code",
        "colab": {
          "base_uri": "https://localhost:8080/",
          "height": 173
        },
        "outputId": "5c4d97d6-64a7-4bbd-99b5-67b6c9e81630"
      },
      "source": [
        "x = df_imdb_pt['text_pt'].values\n",
        "x"
      ],
      "execution_count": 10,
      "outputs": [
        {
          "output_type": "execute_result",
          "data": {
            "text/plain": [
              "array(['mais uma vez, o sr. costner arrumou um filme por muito mais tempo do que o necessário. além das terríveis seqüências de resgate no mar, das quais há muito poucas, eu simplesmente não me importei com nenhum dos personagens. a maioria de nós tem fantasmas no armário, e o personagem costers é realizado logo no início, e depois esquecido até muito mais tarde, quando eu não me importava. o personagem com o qual deveríamos nos importar é muito arrogante e superconfiante, ashton kutcher. o problema é que ele sai como um garoto que pensa que é melhor do que qualquer outra pessoa ao seu redor e não mostra sinais de um armário desordenado. seu único obstáculo parece estar vencendo costner. finalmente, quando estamos bem além do meio do caminho, costner nos conta sobre os fantasmas dos kutchers. somos informados de por que kutcher é levado a ser o melhor sem pressentimentos ou presságios anteriores. nenhuma mágica aqui, era tudo que eu podia fazer para não desligar uma hora.',\n",
              "       'este é um exemplo do motivo pelo qual a maioria dos filmes de ação são os mesmos. genérico e chato, não há nada que valha a pena assistir aqui. um completo desperdício dos talentos de ice-t e cubo de gelo que foram mal aproveitados, cada um comprovando que são capazes de atuar e agir bem. não se incomode com este, vá ver new jack city, ricochet ou assistir new york undercover para ice-t, ou boyz no hood, higher learning ou friday for ice cube e ver o negócio real. ice-ts horrivelmente clichê diálogo sozinho faz este filme ralar os dentes, e eu ainda estou me perguntando o que diabos bill paxton estava fazendo neste filme? e por que diabos ele sempre interpreta exatamente o mesmo personagem? dos extraterrestres em diante, todos os filmes que eu vi com bill paxton o fizeram interpretar exatamente o mesmo personagem irritante, e pelo menos em aliens seu personagem morreu, o que o tornou um pouco gratificante ... no geral, esse é lixo de ação de segunda classe. existem incontáveis \\u200b\\u200bfilmes melhores para ver, e se você realmente quiser ver esse filme, assista a judgment night, que é praticamente uma cópia carbono, mas tem melhor atuação e um roteiro melhor. a única coisa que fez isso valer a pena assistir foi uma mão decente na câmera - a cinematografia era quase refrescante, o que chega perto de compensar o horrível filme em si - mas não é bem assim. 4/10',\n",
              "       'primeiro de tudo eu odeio esses raps imbecis, que não poderiam agir se tivessem uma arma pressionada contra suas testas. tudo o que eles fazem é amaldiçoar e atirar um no outro e agir como uma versão clichê de gangsters. o filme não leva mais de cinco minutos para explicar o que está acontecendo antes que já estivessem no armazém. não há um único personagem simpático nesse filme, com exceção do sem-teto, que também é o único com metade do cérebro. william paxton e william sadler são ambos \"hill billies\" e sadler é tão vilão quanto os gângsteres. eu não gostava dele desde o começo. o filme está cheio de violência sem sentido e especialidade de walter hills: pessoas caindo de janelas com vidros voando por toda parte. não há praticamente nenhum enredo e é um grande problema quando você torce por ninguém. todo mundo morre, exceto paxton e o sem-teto e todos recebem o que merecem. os dois únicos negros que podem atuar são o sem-teto e o viciado, mas são atores de profissão, não irritantes rappers feios. fique longe dessa porcaria. e observe 48 horas 1 e 2 em vez disso. no mínimo, eles têm personagens de que você gosta, senso de humor e nada além de atores reais no elenco.',\n",
              "       ...,\n",
              "       'estou espantado com a forma como este filme e a maioria dos outros tem uma média de 5 estrelas e menor quando há filmes de baixa qualidade com média de 7 a 10 estrelas no imdb. a mentalidade de fanboy ataca novamente. quando este filme saiu quase todo mundo bateu. até minha ex-namorada disse esse filme questionável. anos depois, sentei-me para assistir a esse filme e me vi aproveitando. mesmo rindo um pouco. este e os assassinos de substituição são os filmes que tinham pessoas rotulando o diretor antoine fuqua como o negro michael bay. eu não vejo como a maioria dos filmes de fuquas são mais inteligentes do que qualquer coisa que michael bay tenha inventado. de qualquer forma ... história: alvin sandersjamie foxx é o ex-presidiário que é usado por um no-nonsense agente do tesouro edgardavid morse como um peão para pegar um assassino chamado bristoldoug hutchinson. alvins todos os movimentos são rastreados por um bug implantado em sua mandíbula após um acidente. enquanto esses agentes estão atrás de bristol, bristol está atrás dos tijolos de ouro que foram levados em um assalto que deu errado. jamie foxx é tão divertido quanto alvin sanders. alvin é um falador rápido que é muito mais esperto do que ele deixa transparecer. doug hutchinson está bem como bristol. ele pode ser over-the-top, por vezes, em seu comportamento john malkovitchesque. ele era melhor aqui do que como looney bin jim em punisher: war zone. david morse é bom como o agente do tesouro. até mesmo mike epps é engraçado como o irmão de alvin stevie. tanto ele quanto jamie tiveram alguns momentos engraçados na tela. a única falha do filme é que algumas das tentativas de um suspense caem de surpresa. o cenário na pista de corrida de cavalos é muito exagerado, mas não consegui desviar o olhar. o diretor foi todo lá fora, então ele ganha pontos por isso. além disso, a cena da bomba com o agente do tesouro amarrado a uma cadeira enquanto o detonador descansa na porta era bem bacana.tudo em todas as iscas não é um filme ruim por um longo tiro. sua nunca chato, é sempre engraçado e eu não estava verificando o meu relógio a cada minuto. isso deve contar para alguma coisa. bait é um dos filmes mais subestimados do período 2000.ps: para o crítico que alegou que este filme é muito violento ... há quanto tempo você vive sob uma rocha? tenho certeza que você viu a série die hard e cada filme de quentin tarantino. mas esses filmes não são violentos, certo? esquisito.',\n",
              "       'a christmas together realmente veio antes do meu tempo, mas eu fui criado em john denver e as músicas deste especial sempre foram músicas de natal da minha família. durante anos, tivemos uma fita cassete feita de um disco que significava que era natal. alguns anos atrás, eu finalmente consegui encontrar um vídeo dele no ebay, então depois de ouvir toda a música por 21 anos, eu pude ver john e os muppets em ação para mim. se você já teve a chance, é muito divertido - boa música, comovente e brega. também é interessante ver as versões dos muppets dos anos 70 e compará-las com suas versões mais recentes hoje. eu acredito que o denver realmente teve um pouco de calor para fazer um show como este - eu acho que normalmente os artistas não comprometem suas imagens fazendo sing-a-longs com os muppets, mas estou feliz que ele tenha feito isso. mesmo que você não consiga rastrear o vídeo, a trilha sonora também vale a pena. tem alguns favoritos tradicionais muppified, mas também algumas músicas originais de denver também.',\n",
              "       'o drama romântico da classe trabalhadora do diretor martin ritt é tão inacreditável quanto eles são, mas há momentos de prazer devido principalmente ao carisma das estrelas jane fonda e robert de niro, ambos ótimos. ela é uma viúva que não pode seguir em frente, é analfabeta e é uma inventora de armários - provavelmente você pode adivinhar o resto. adaptação do romance de pat barkers \"union street\" um título melhor! é tão descontraído que beirar sem graça, e a edição de filmes é uma bagunça, mas ainda é agradável; uma fantasia de colarinho azul em tons rosados. não há aberturas para questões sérias, mesmo o ângulo do analfabetismo é apenas uma ferramenta de enredo para a história de amor que se segue e não há fogos de artifício reais, embora os personagens sejam intencionalmente um pouco incolores e as derivações reduzidas a um nível interessante. o final é puro fluff - e os cínicos acharão difícil de engolir - embora esses dois personagens mereçam um final feliz e a foto não seria realmente satisfatória de outra maneira. a partir de'],\n",
              "      dtype=object)"
            ]
          },
          "metadata": {
            "tags": []
          },
          "execution_count": 10
        }
      ]
    },
    {
      "cell_type": "code",
      "metadata": {
        "id": "N912ub98p972",
        "colab_type": "code",
        "colab": {
          "base_uri": "https://localhost:8080/",
          "height": 34
        },
        "outputId": "a58f5148-8591-436e-a79c-7cf31c5f25b0"
      },
      "source": [
        "y = df_imdb_pt['sentiment'].values\n",
        "y"
      ],
      "execution_count": 11,
      "outputs": [
        {
          "output_type": "execute_result",
          "data": {
            "text/plain": [
              "array([0, 0, 0, ..., 1, 1, 1])"
            ]
          },
          "metadata": {
            "tags": []
          },
          "execution_count": 11
        }
      ]
    },
    {
      "cell_type": "code",
      "metadata": {
        "id": "cChz57lHqExf",
        "colab_type": "code",
        "colab": {}
      },
      "source": [
        ""
      ],
      "execution_count": null,
      "outputs": []
    }
  ]
}