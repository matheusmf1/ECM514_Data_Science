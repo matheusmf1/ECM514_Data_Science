{
  "nbformat": 4,
  "nbformat_minor": 0,
  "metadata": {
    "colab": {
      "name": "NLP-IMDB.ipynb",
      "provenance": [],
      "collapsed_sections": [],
      "mount_file_id": "16CS9W-hh-h_A0_qNoyP2my7Q1DayMqBg",
      "authorship_tag": "ABX9TyMf4p8h2gZoAxTYJ3kM7UCc",
      "include_colab_link": true
    },
    "kernelspec": {
      "name": "python3",
      "display_name": "Python 3"
    },
    "accelerator": "GPU"
  },
  "cells": [
    {
      "cell_type": "markdown",
      "metadata": {
        "id": "view-in-github",
        "colab_type": "text"
      },
      "source": [
        "<a href=\"https://colab.research.google.com/github/matheusmf1/ECM514_Data_Science/blob/master/NLP_IMDB.ipynb\" target=\"_parent\"><img src=\"https://colab.research.google.com/assets/colab-badge.svg\" alt=\"Open In Colab\"/></a>"
      ]
    },
    {
      "cell_type": "markdown",
      "metadata": {
        "id": "9axEEVWCkP9e",
        "colab_type": "text"
      },
      "source": [
        "# Análise de Sentimentos de avaliações de filmes a partir de reviews do IMDB\n",
        "\n",
        "- negativo\n",
        "- positivo"
      ]
    },
    {
      "cell_type": "code",
      "metadata": {
        "id": "2KoH2kbXkk_F",
        "colab_type": "code",
        "colab": {
          "base_uri": "https://localhost:8080/",
          "height": 799
        },
        "outputId": "fc9456b3-d0e7-4fb4-a7cd-afe1e0a17a58"
      },
      "source": [
        "import nltk\n",
        "nltk.download('popular')\n",
        "import pandas as pd\n",
        "import numpy as np"
      ],
      "execution_count": 1,
      "outputs": [
        {
          "output_type": "stream",
          "text": [
            "[nltk_data] Downloading collection 'popular'\n",
            "[nltk_data]    | \n",
            "[nltk_data]    | Downloading package cmudict to /root/nltk_data...\n",
            "[nltk_data]    |   Unzipping corpora/cmudict.zip.\n",
            "[nltk_data]    | Downloading package gazetteers to /root/nltk_data...\n",
            "[nltk_data]    |   Unzipping corpora/gazetteers.zip.\n",
            "[nltk_data]    | Downloading package genesis to /root/nltk_data...\n",
            "[nltk_data]    |   Unzipping corpora/genesis.zip.\n",
            "[nltk_data]    | Downloading package gutenberg to /root/nltk_data...\n",
            "[nltk_data]    |   Unzipping corpora/gutenberg.zip.\n",
            "[nltk_data]    | Downloading package inaugural to /root/nltk_data...\n",
            "[nltk_data]    |   Unzipping corpora/inaugural.zip.\n",
            "[nltk_data]    | Downloading package movie_reviews to\n",
            "[nltk_data]    |     /root/nltk_data...\n",
            "[nltk_data]    |   Unzipping corpora/movie_reviews.zip.\n",
            "[nltk_data]    | Downloading package names to /root/nltk_data...\n",
            "[nltk_data]    |   Unzipping corpora/names.zip.\n",
            "[nltk_data]    | Downloading package shakespeare to /root/nltk_data...\n",
            "[nltk_data]    |   Unzipping corpora/shakespeare.zip.\n",
            "[nltk_data]    | Downloading package stopwords to /root/nltk_data...\n",
            "[nltk_data]    |   Unzipping corpora/stopwords.zip.\n",
            "[nltk_data]    | Downloading package treebank to /root/nltk_data...\n",
            "[nltk_data]    |   Unzipping corpora/treebank.zip.\n",
            "[nltk_data]    | Downloading package twitter_samples to\n",
            "[nltk_data]    |     /root/nltk_data...\n",
            "[nltk_data]    |   Unzipping corpora/twitter_samples.zip.\n",
            "[nltk_data]    | Downloading package omw to /root/nltk_data...\n",
            "[nltk_data]    |   Unzipping corpora/omw.zip.\n",
            "[nltk_data]    | Downloading package wordnet to /root/nltk_data...\n",
            "[nltk_data]    |   Unzipping corpora/wordnet.zip.\n",
            "[nltk_data]    | Downloading package wordnet_ic to /root/nltk_data...\n",
            "[nltk_data]    |   Unzipping corpora/wordnet_ic.zip.\n",
            "[nltk_data]    | Downloading package words to /root/nltk_data...\n",
            "[nltk_data]    |   Unzipping corpora/words.zip.\n",
            "[nltk_data]    | Downloading package maxent_ne_chunker to\n",
            "[nltk_data]    |     /root/nltk_data...\n",
            "[nltk_data]    |   Unzipping chunkers/maxent_ne_chunker.zip.\n",
            "[nltk_data]    | Downloading package punkt to /root/nltk_data...\n",
            "[nltk_data]    |   Unzipping tokenizers/punkt.zip.\n",
            "[nltk_data]    | Downloading package snowball_data to\n",
            "[nltk_data]    |     /root/nltk_data...\n",
            "[nltk_data]    | Downloading package averaged_perceptron_tagger to\n",
            "[nltk_data]    |     /root/nltk_data...\n",
            "[nltk_data]    |   Unzipping taggers/averaged_perceptron_tagger.zip.\n",
            "[nltk_data]    | \n",
            "[nltk_data]  Done downloading collection popular\n"
          ],
          "name": "stdout"
        }
      ]
    },
    {
      "cell_type": "markdown",
      "metadata": {
        "id": "dNr9DyskkhZz",
        "colab_type": "text"
      },
      "source": [
        "# DataSet IMDB"
      ]
    },
    {
      "cell_type": "code",
      "metadata": {
        "id": "M3V2L-b2kOTu",
        "colab_type": "code",
        "colab": {
          "base_uri": "https://localhost:8080/",
          "height": 204
        },
        "outputId": "ee322eb6-44d4-480b-a1af-810baafc4aef"
      },
      "source": [
        "df_imdb = pd.read_csv( '/content/drive/My Drive/Colab Notebooks/Data Science Class/DataSets/imdb-reviews-pt-br.csv' )\n",
        "df_imdb.head()"
      ],
      "execution_count": 2,
      "outputs": [
        {
          "output_type": "execute_result",
          "data": {
            "text/html": [
              "<div>\n",
              "<style scoped>\n",
              "    .dataframe tbody tr th:only-of-type {\n",
              "        vertical-align: middle;\n",
              "    }\n",
              "\n",
              "    .dataframe tbody tr th {\n",
              "        vertical-align: top;\n",
              "    }\n",
              "\n",
              "    .dataframe thead th {\n",
              "        text-align: right;\n",
              "    }\n",
              "</style>\n",
              "<table border=\"1\" class=\"dataframe\">\n",
              "  <thead>\n",
              "    <tr style=\"text-align: right;\">\n",
              "      <th></th>\n",
              "      <th>id</th>\n",
              "      <th>text_en</th>\n",
              "      <th>text_pt</th>\n",
              "      <th>sentiment</th>\n",
              "    </tr>\n",
              "  </thead>\n",
              "  <tbody>\n",
              "    <tr>\n",
              "      <th>0</th>\n",
              "      <td>1</td>\n",
              "      <td>Once again Mr. Costner has dragged out a movie...</td>\n",
              "      <td>Mais uma vez, o Sr. Costner arrumou um filme p...</td>\n",
              "      <td>neg</td>\n",
              "    </tr>\n",
              "    <tr>\n",
              "      <th>1</th>\n",
              "      <td>2</td>\n",
              "      <td>This is an example of why the majority of acti...</td>\n",
              "      <td>Este é um exemplo do motivo pelo qual a maiori...</td>\n",
              "      <td>neg</td>\n",
              "    </tr>\n",
              "    <tr>\n",
              "      <th>2</th>\n",
              "      <td>3</td>\n",
              "      <td>First of all I hate those moronic rappers, who...</td>\n",
              "      <td>Primeiro de tudo eu odeio esses raps imbecis, ...</td>\n",
              "      <td>neg</td>\n",
              "    </tr>\n",
              "    <tr>\n",
              "      <th>3</th>\n",
              "      <td>4</td>\n",
              "      <td>Not even the Beatles could write songs everyon...</td>\n",
              "      <td>Nem mesmo os Beatles puderam escrever músicas ...</td>\n",
              "      <td>neg</td>\n",
              "    </tr>\n",
              "    <tr>\n",
              "      <th>4</th>\n",
              "      <td>5</td>\n",
              "      <td>Brass pictures movies is not a fitting word fo...</td>\n",
              "      <td>Filmes de fotos de latão não é uma palavra apr...</td>\n",
              "      <td>neg</td>\n",
              "    </tr>\n",
              "  </tbody>\n",
              "</table>\n",
              "</div>"
            ],
            "text/plain": [
              "   id  ... sentiment\n",
              "0   1  ...       neg\n",
              "1   2  ...       neg\n",
              "2   3  ...       neg\n",
              "3   4  ...       neg\n",
              "4   5  ...       neg\n",
              "\n",
              "[5 rows x 4 columns]"
            ]
          },
          "metadata": {
            "tags": []
          },
          "execution_count": 2
        }
      ]
    },
    {
      "cell_type": "code",
      "metadata": {
        "id": "CaqoSgxPkZRU",
        "colab_type": "code",
        "colab": {
          "base_uri": "https://localhost:8080/",
          "height": 204
        },
        "outputId": "b2db3889-7e5b-45ba-c232-ee72bda7de00"
      },
      "source": [
        "df_imdb_pt = df_imdb[ ['text_pt', 'sentiment'] ]\n",
        "df_imdb_pt.head()"
      ],
      "execution_count": 3,
      "outputs": [
        {
          "output_type": "execute_result",
          "data": {
            "text/html": [
              "<div>\n",
              "<style scoped>\n",
              "    .dataframe tbody tr th:only-of-type {\n",
              "        vertical-align: middle;\n",
              "    }\n",
              "\n",
              "    .dataframe tbody tr th {\n",
              "        vertical-align: top;\n",
              "    }\n",
              "\n",
              "    .dataframe thead th {\n",
              "        text-align: right;\n",
              "    }\n",
              "</style>\n",
              "<table border=\"1\" class=\"dataframe\">\n",
              "  <thead>\n",
              "    <tr style=\"text-align: right;\">\n",
              "      <th></th>\n",
              "      <th>text_pt</th>\n",
              "      <th>sentiment</th>\n",
              "    </tr>\n",
              "  </thead>\n",
              "  <tbody>\n",
              "    <tr>\n",
              "      <th>0</th>\n",
              "      <td>Mais uma vez, o Sr. Costner arrumou um filme p...</td>\n",
              "      <td>neg</td>\n",
              "    </tr>\n",
              "    <tr>\n",
              "      <th>1</th>\n",
              "      <td>Este é um exemplo do motivo pelo qual a maiori...</td>\n",
              "      <td>neg</td>\n",
              "    </tr>\n",
              "    <tr>\n",
              "      <th>2</th>\n",
              "      <td>Primeiro de tudo eu odeio esses raps imbecis, ...</td>\n",
              "      <td>neg</td>\n",
              "    </tr>\n",
              "    <tr>\n",
              "      <th>3</th>\n",
              "      <td>Nem mesmo os Beatles puderam escrever músicas ...</td>\n",
              "      <td>neg</td>\n",
              "    </tr>\n",
              "    <tr>\n",
              "      <th>4</th>\n",
              "      <td>Filmes de fotos de latão não é uma palavra apr...</td>\n",
              "      <td>neg</td>\n",
              "    </tr>\n",
              "  </tbody>\n",
              "</table>\n",
              "</div>"
            ],
            "text/plain": [
              "                                             text_pt sentiment\n",
              "0  Mais uma vez, o Sr. Costner arrumou um filme p...       neg\n",
              "1  Este é um exemplo do motivo pelo qual a maiori...       neg\n",
              "2  Primeiro de tudo eu odeio esses raps imbecis, ...       neg\n",
              "3  Nem mesmo os Beatles puderam escrever músicas ...       neg\n",
              "4  Filmes de fotos de latão não é uma palavra apr...       neg"
            ]
          },
          "metadata": {
            "tags": []
          },
          "execution_count": 3
        }
      ]
    },
    {
      "cell_type": "markdown",
      "metadata": {
        "id": "Eum1IDmwnEQB",
        "colab_type": "text"
      },
      "source": [
        "## Vamos pegar o neg e pos e substituir por 0 e 1\n"
      ]
    },
    {
      "cell_type": "code",
      "metadata": {
        "id": "IjvH6O2jlLJ5",
        "colab_type": "code",
        "colab": {
          "base_uri": "https://localhost:8080/",
          "height": 34
        },
        "outputId": "4ec94382-80a0-46f9-9a86-fa5576bbc6e2"
      },
      "source": [
        "df_imdb_pt.sentiment.unique()"
      ],
      "execution_count": 4,
      "outputs": [
        {
          "output_type": "execute_result",
          "data": {
            "text/plain": [
              "array(['neg', 'pos'], dtype=object)"
            ]
          },
          "metadata": {
            "tags": []
          },
          "execution_count": 4
        }
      ]
    },
    {
      "cell_type": "code",
      "metadata": {
        "id": "F8aENYDQnNRm",
        "colab_type": "code",
        "colab": {
          "base_uri": "https://localhost:8080/",
          "height": 289
        },
        "outputId": "6d755360-6523-4d22-c64a-06fe677d8002"
      },
      "source": [
        "df_imdb_pt.sentiment.replace( { 'neg': 0, 'pos': 1 }, inplace=True )\n",
        "df_imdb_pt.head()"
      ],
      "execution_count": 5,
      "outputs": [
        {
          "output_type": "stream",
          "text": [
            "/usr/local/lib/python3.6/dist-packages/pandas/core/generic.py:6746: SettingWithCopyWarning: \n",
            "A value is trying to be set on a copy of a slice from a DataFrame\n",
            "\n",
            "See the caveats in the documentation: https://pandas.pydata.org/pandas-docs/stable/user_guide/indexing.html#returning-a-view-versus-a-copy\n",
            "  self._update_inplace(new_data)\n"
          ],
          "name": "stderr"
        },
        {
          "output_type": "execute_result",
          "data": {
            "text/html": [
              "<div>\n",
              "<style scoped>\n",
              "    .dataframe tbody tr th:only-of-type {\n",
              "        vertical-align: middle;\n",
              "    }\n",
              "\n",
              "    .dataframe tbody tr th {\n",
              "        vertical-align: top;\n",
              "    }\n",
              "\n",
              "    .dataframe thead th {\n",
              "        text-align: right;\n",
              "    }\n",
              "</style>\n",
              "<table border=\"1\" class=\"dataframe\">\n",
              "  <thead>\n",
              "    <tr style=\"text-align: right;\">\n",
              "      <th></th>\n",
              "      <th>text_pt</th>\n",
              "      <th>sentiment</th>\n",
              "    </tr>\n",
              "  </thead>\n",
              "  <tbody>\n",
              "    <tr>\n",
              "      <th>0</th>\n",
              "      <td>Mais uma vez, o Sr. Costner arrumou um filme p...</td>\n",
              "      <td>0</td>\n",
              "    </tr>\n",
              "    <tr>\n",
              "      <th>1</th>\n",
              "      <td>Este é um exemplo do motivo pelo qual a maiori...</td>\n",
              "      <td>0</td>\n",
              "    </tr>\n",
              "    <tr>\n",
              "      <th>2</th>\n",
              "      <td>Primeiro de tudo eu odeio esses raps imbecis, ...</td>\n",
              "      <td>0</td>\n",
              "    </tr>\n",
              "    <tr>\n",
              "      <th>3</th>\n",
              "      <td>Nem mesmo os Beatles puderam escrever músicas ...</td>\n",
              "      <td>0</td>\n",
              "    </tr>\n",
              "    <tr>\n",
              "      <th>4</th>\n",
              "      <td>Filmes de fotos de latão não é uma palavra apr...</td>\n",
              "      <td>0</td>\n",
              "    </tr>\n",
              "  </tbody>\n",
              "</table>\n",
              "</div>"
            ],
            "text/plain": [
              "                                             text_pt  sentiment\n",
              "0  Mais uma vez, o Sr. Costner arrumou um filme p...          0\n",
              "1  Este é um exemplo do motivo pelo qual a maiori...          0\n",
              "2  Primeiro de tudo eu odeio esses raps imbecis, ...          0\n",
              "3  Nem mesmo os Beatles puderam escrever músicas ...          0\n",
              "4  Filmes de fotos de latão não é uma palavra apr...          0"
            ]
          },
          "metadata": {
            "tags": []
          },
          "execution_count": 5
        }
      ]
    },
    {
      "cell_type": "code",
      "metadata": {
        "id": "2dxIwQajnf6B",
        "colab_type": "code",
        "colab": {}
      },
      "source": [
        "df_imdb_pt.text_pt[0]"
      ],
      "execution_count": null,
      "outputs": []
    },
    {
      "cell_type": "markdown",
      "metadata": {
        "id": "cdGYwrFZn42k",
        "colab_type": "text"
      },
      "source": [
        "# Deixando tudo em minúsculo"
      ]
    },
    {
      "cell_type": "code",
      "metadata": {
        "id": "xpNqoBdmn21z",
        "colab_type": "code",
        "colab": {
          "base_uri": "https://localhost:8080/",
          "height": 306
        },
        "outputId": "84236c03-990a-48ff-d75c-de3f68adc576"
      },
      "source": [
        "df_imdb_pt['text_pt'] = df_imdb_pt['text_pt'].apply( str.lower )\n",
        "df_imdb_pt.head()"
      ],
      "execution_count": 7,
      "outputs": [
        {
          "output_type": "stream",
          "text": [
            "/usr/local/lib/python3.6/dist-packages/ipykernel_launcher.py:1: SettingWithCopyWarning: \n",
            "A value is trying to be set on a copy of a slice from a DataFrame.\n",
            "Try using .loc[row_indexer,col_indexer] = value instead\n",
            "\n",
            "See the caveats in the documentation: https://pandas.pydata.org/pandas-docs/stable/user_guide/indexing.html#returning-a-view-versus-a-copy\n",
            "  \"\"\"Entry point for launching an IPython kernel.\n"
          ],
          "name": "stderr"
        },
        {
          "output_type": "execute_result",
          "data": {
            "text/html": [
              "<div>\n",
              "<style scoped>\n",
              "    .dataframe tbody tr th:only-of-type {\n",
              "        vertical-align: middle;\n",
              "    }\n",
              "\n",
              "    .dataframe tbody tr th {\n",
              "        vertical-align: top;\n",
              "    }\n",
              "\n",
              "    .dataframe thead th {\n",
              "        text-align: right;\n",
              "    }\n",
              "</style>\n",
              "<table border=\"1\" class=\"dataframe\">\n",
              "  <thead>\n",
              "    <tr style=\"text-align: right;\">\n",
              "      <th></th>\n",
              "      <th>text_pt</th>\n",
              "      <th>sentiment</th>\n",
              "    </tr>\n",
              "  </thead>\n",
              "  <tbody>\n",
              "    <tr>\n",
              "      <th>0</th>\n",
              "      <td>mais uma vez, o sr. costner arrumou um filme p...</td>\n",
              "      <td>0</td>\n",
              "    </tr>\n",
              "    <tr>\n",
              "      <th>1</th>\n",
              "      <td>este é um exemplo do motivo pelo qual a maiori...</td>\n",
              "      <td>0</td>\n",
              "    </tr>\n",
              "    <tr>\n",
              "      <th>2</th>\n",
              "      <td>primeiro de tudo eu odeio esses raps imbecis, ...</td>\n",
              "      <td>0</td>\n",
              "    </tr>\n",
              "    <tr>\n",
              "      <th>3</th>\n",
              "      <td>nem mesmo os beatles puderam escrever músicas ...</td>\n",
              "      <td>0</td>\n",
              "    </tr>\n",
              "    <tr>\n",
              "      <th>4</th>\n",
              "      <td>filmes de fotos de latão não é uma palavra apr...</td>\n",
              "      <td>0</td>\n",
              "    </tr>\n",
              "  </tbody>\n",
              "</table>\n",
              "</div>"
            ],
            "text/plain": [
              "                                             text_pt  sentiment\n",
              "0  mais uma vez, o sr. costner arrumou um filme p...          0\n",
              "1  este é um exemplo do motivo pelo qual a maiori...          0\n",
              "2  primeiro de tudo eu odeio esses raps imbecis, ...          0\n",
              "3  nem mesmo os beatles puderam escrever músicas ...          0\n",
              "4  filmes de fotos de latão não é uma palavra apr...          0"
            ]
          },
          "metadata": {
            "tags": []
          },
          "execution_count": 7
        }
      ]
    },
    {
      "cell_type": "markdown",
      "metadata": {
        "id": "SRTDa0fkqI4V",
        "colab_type": "text"
      },
      "source": [
        "# Modelo de referência"
      ]
    },
    {
      "cell_type": "code",
      "metadata": {
        "id": "bLTmI8wwpLYC",
        "colab_type": "code",
        "colab": {}
      },
      "source": [
        "x = df_imdb_pt['text_pt'].values"
      ],
      "execution_count": 8,
      "outputs": []
    },
    {
      "cell_type": "code",
      "metadata": {
        "id": "N912ub98p972",
        "colab_type": "code",
        "colab": {
          "base_uri": "https://localhost:8080/",
          "height": 34
        },
        "outputId": "b404155b-74ce-4990-a24e-c9e70ec610ba"
      },
      "source": [
        "y = df_imdb_pt['sentiment'].values\n",
        "y"
      ],
      "execution_count": 9,
      "outputs": [
        {
          "output_type": "execute_result",
          "data": {
            "text/plain": [
              "array([0, 0, 0, ..., 1, 1, 1])"
            ]
          },
          "metadata": {
            "tags": []
          },
          "execution_count": 9
        }
      ]
    },
    {
      "cell_type": "code",
      "metadata": {
        "id": "cChz57lHqExf",
        "colab_type": "code",
        "colab": {}
      },
      "source": [
        "from sklearn.model_selection import train_test_split\n",
        "\n",
        "x_treino, x_test, y_treino, y_test = train_test_split( x, y, test_size = 0.25 )"
      ],
      "execution_count": 10,
      "outputs": []
    },
    {
      "cell_type": "code",
      "metadata": {
        "id": "Zws4O7edq3eN",
        "colab_type": "code",
        "colab": {
          "base_uri": "https://localhost:8080/",
          "height": 34
        },
        "outputId": "90149e86-a8a2-4de0-f1e4-a2a2b02b3b77"
      },
      "source": [
        "x_treino.shape"
      ],
      "execution_count": 11,
      "outputs": [
        {
          "output_type": "execute_result",
          "data": {
            "text/plain": [
              "(37094,)"
            ]
          },
          "metadata": {
            "tags": []
          },
          "execution_count": 11
        }
      ]
    },
    {
      "cell_type": "code",
      "metadata": {
        "id": "3DSPPpQ3q5QO",
        "colab_type": "code",
        "colab": {
          "base_uri": "https://localhost:8080/",
          "height": 34
        },
        "outputId": "17a610f6-f23b-4f1a-e5e5-7b45a8d392b6"
      },
      "source": [
        "x_test.shape"
      ],
      "execution_count": 12,
      "outputs": [
        {
          "output_type": "execute_result",
          "data": {
            "text/plain": [
              "(12365,)"
            ]
          },
          "metadata": {
            "tags": []
          },
          "execution_count": 12
        }
      ]
    },
    {
      "cell_type": "code",
      "metadata": {
        "id": "l5_uHs8Fq71_",
        "colab_type": "code",
        "colab": {
          "base_uri": "https://localhost:8080/",
          "height": 88
        },
        "outputId": "88a14b46-b5db-4401-9f03-6a08434b3bdf"
      },
      "source": [
        "x_treino[:2]"
      ],
      "execution_count": 13,
      "outputs": [
        {
          "output_type": "execute_result",
          "data": {
            "text/plain": [
              "array(['os filmes egípcios tem um monte de filmes com alto nível de drama ou romance ou comédia ou ação até mesmo esportes ... \"ziab la takohl al lam\" foi banido no egito porque é conteúdo nudez total frontal feminina e este tipo de nudez é proibido nos filmes egípcios .. quando eu vi este filme eu senti abaixo ... história de tolo .. atriz nua .. má ação .. algum horror & cores duras .. caro amigo .. se você quer ver um grande filme egípcio .. .simplesmente: fique longe formulário \"ziab la takohl al lam\" .. temos grandes filmes no egito ... temos um grande ator que ganhou um global ganha como: omar el sheriff ou gameel rateb .. temos grandes diretores como \" yousef shahin \"então acredite em mim pall .. você não precisa ver este filme ..',\n",
              "       'vi este filme recentemente e tinha maiores esperanças. não tanto baseado no diretor, que não havia feito um lançamento cinematográfico antes, mas mais baseado em seu elenco. harvey keitel, scott glenn e craig wasson protagonizam em body double, uma obra-prima de brian de palma, todos estrelados em grandes filmes. não juntos, porém, e este fato não mudou exatamente por causa disso. o filme é inacreditável, muito previsível e clichê. a única coisa que pode torná-lo um pouco atraente é a seleção de locais em que foi filmado. na minha humilde opinião: não perca seu tempo com isso.'],\n",
              "      dtype=object)"
            ]
          },
          "metadata": {
            "tags": []
          },
          "execution_count": 13
        }
      ]
    },
    {
      "cell_type": "code",
      "metadata": {
        "id": "YqUjocENrAKO",
        "colab_type": "code",
        "colab": {
          "base_uri": "https://localhost:8080/",
          "height": 34
        },
        "outputId": "e533e564-1450-4d23-da26-7bd47201215b"
      },
      "source": [
        "y_treino[:2]"
      ],
      "execution_count": 14,
      "outputs": [
        {
          "output_type": "execute_result",
          "data": {
            "text/plain": [
              "array([0, 0])"
            ]
          },
          "metadata": {
            "tags": []
          },
          "execution_count": 14
        }
      ]
    },
    {
      "cell_type": "markdown",
      "metadata": {
        "id": "DK3KFjkHrEEs",
        "colab_type": "text"
      },
      "source": [
        "# Criando Bag of Words ( BoW )"
      ]
    },
    {
      "cell_type": "code",
      "metadata": {
        "id": "1tpqHawtrChr",
        "colab_type": "code",
        "colab": {}
      },
      "source": [
        "from sklearn.feature_extraction.text import CountVectorizer\n",
        "\n",
        "vect = CountVectorizer( analyzer = 'word' )"
      ],
      "execution_count": 15,
      "outputs": []
    },
    {
      "cell_type": "code",
      "metadata": {
        "id": "y9LKUHv3rIrX",
        "colab_type": "code",
        "colab": {
          "base_uri": "https://localhost:8080/",
          "height": 119
        },
        "outputId": "4d250b76-fefb-4c00-8165-8d3935c89e6d"
      },
      "source": [
        "vect.fit( x_treino ) \n",
        "# alternativa: vext.fit( x ) ?\n",
        "# Resposta: Não, pois passando todo o x o modelo se adapta a dados novos.\n",
        "# O conjunto de teste não contem toda a amostra desse vocabulário.\n",
        "# O conjunto de teste serve para validar o modelo simulando a realidade, pois na realidade nao tem como saber quais palavras sao usadas.\n"
      ],
      "execution_count": 16,
      "outputs": [
        {
          "output_type": "execute_result",
          "data": {
            "text/plain": [
              "CountVectorizer(analyzer='word', binary=False, decode_error='strict',\n",
              "                dtype=<class 'numpy.int64'>, encoding='utf-8', input='content',\n",
              "                lowercase=True, max_df=1.0, max_features=None, min_df=1,\n",
              "                ngram_range=(1, 1), preprocessor=None, stop_words=None,\n",
              "                strip_accents=None, token_pattern='(?u)\\\\b\\\\w\\\\w+\\\\b',\n",
              "                tokenizer=None, vocabulary=None)"
            ]
          },
          "metadata": {
            "tags": []
          },
          "execution_count": 16
        }
      ]
    },
    {
      "cell_type": "code",
      "metadata": {
        "id": "tfSGE1R6sH9_",
        "colab_type": "code",
        "colab": {}
      },
      "source": [
        "print( vect.vocabulary_ )"
      ],
      "execution_count": null,
      "outputs": []
    },
    {
      "cell_type": "code",
      "metadata": {
        "id": "Vsc8iMeWsREY",
        "colab_type": "code",
        "colab": {
          "base_uri": "https://localhost:8080/",
          "height": 34
        },
        "outputId": "9751beb8-d33d-4c7a-dfde-3e5f93b087b3"
      },
      "source": [
        "print( len( vect.vocabulary_ ) )"
      ],
      "execution_count": 18,
      "outputs": [
        {
          "output_type": "stream",
          "text": [
            "114781\n"
          ],
          "name": "stdout"
        }
      ]
    },
    {
      "cell_type": "markdown",
      "metadata": {
        "id": "UZ9ALNxXjF0J",
        "colab_type": "text"
      },
      "source": [
        "## Exemplo de uma avaliação"
      ]
    },
    {
      "cell_type": "code",
      "metadata": {
        "id": "N8OPMwEvtGP_",
        "colab_type": "code",
        "colab": {}
      },
      "source": [
        "df_imdb_pt.text_pt[0]"
      ],
      "execution_count": null,
      "outputs": []
    },
    {
      "cell_type": "code",
      "metadata": {
        "id": "nFfVCw3lsmab",
        "colab_type": "code",
        "colab": {
          "base_uri": "https://localhost:8080/",
          "height": 51
        },
        "outputId": "2fce1193-d00b-4bfc-d5c6-b035c3aac6e0"
      },
      "source": [
        "BoW_Exemplo = vect.transform( [ df_imdb_pt.text_pt[0] ] )\n",
        "BoW_Exemplo"
      ],
      "execution_count": 20,
      "outputs": [
        {
          "output_type": "execute_result",
          "data": {
            "text/plain": [
              "<1x114781 sparse matrix of type '<class 'numpy.int64'>'\n",
              "\twith 107 stored elements in Compressed Sparse Row format>"
            ]
          },
          "metadata": {
            "tags": []
          },
          "execution_count": 20
        }
      ]
    },
    {
      "cell_type": "code",
      "metadata": {
        "id": "2w-T9_RNtMIb",
        "colab_type": "code",
        "colab": {
          "base_uri": "https://localhost:8080/",
          "height": 34
        },
        "outputId": "4316921c-b910-4f8e-dea1-15bf6a6a0adb"
      },
      "source": [
        "BoW_Exemplo.toarray()"
      ],
      "execution_count": 21,
      "outputs": [
        {
          "output_type": "execute_result",
          "data": {
            "text/plain": [
              "array([[0, 0, 0, ..., 0, 0, 0]])"
            ]
          },
          "metadata": {
            "tags": []
          },
          "execution_count": 21
        }
      ]
    },
    {
      "cell_type": "markdown",
      "metadata": {
        "id": "IuMc8R_FjpdQ",
        "colab_type": "text"
      },
      "source": [
        "## BoW em todo o DataSet"
      ]
    },
    {
      "cell_type": "code",
      "metadata": {
        "id": "c6i2Me5_tYc7",
        "colab_type": "code",
        "colab": {}
      },
      "source": [
        "box_x_treino = vect.transform( x_treino )\n",
        "box_x_test = vect.transform( x_test )"
      ],
      "execution_count": 22,
      "outputs": []
    },
    {
      "cell_type": "code",
      "metadata": {
        "id": "O8aZONedkuwJ",
        "colab_type": "code",
        "colab": {
          "base_uri": "https://localhost:8080/",
          "height": 51
        },
        "outputId": "ae8b9a96-7af4-4f56-8647-5c87bb8138b8"
      },
      "source": [
        "box_x_treino\n",
        "#  dimensao bate com os reviews "
      ],
      "execution_count": 23,
      "outputs": [
        {
          "output_type": "execute_result",
          "data": {
            "text/plain": [
              "<37094x114781 sparse matrix of type '<class 'numpy.int64'>'\n",
              "\twith 4965229 stored elements in Compressed Sparse Row format>"
            ]
          },
          "metadata": {
            "tags": []
          },
          "execution_count": 23
        }
      ]
    },
    {
      "cell_type": "markdown",
      "metadata": {
        "id": "oexazSpon2Nv",
        "colab_type": "text"
      },
      "source": [
        "# Classificador "
      ]
    },
    {
      "cell_type": "code",
      "metadata": {
        "id": "Idc__k9vk_Rq",
        "colab_type": "code",
        "colab": {}
      },
      "source": [
        "from sklearn.naive_bayes import MultinomialNB\n",
        "\n",
        "model = MultinomialNB()"
      ],
      "execution_count": 24,
      "outputs": []
    },
    {
      "cell_type": "code",
      "metadata": {
        "id": "e3Um9hcXn-_L",
        "colab_type": "code",
        "colab": {
          "base_uri": "https://localhost:8080/",
          "height": 34
        },
        "outputId": "86d2bceb-e373-4211-fa13-1d0a52211fc8"
      },
      "source": [
        "model.fit( box_x_treino, y_treino )"
      ],
      "execution_count": 25,
      "outputs": [
        {
          "output_type": "execute_result",
          "data": {
            "text/plain": [
              "MultinomialNB(alpha=1.0, class_prior=None, fit_prior=True)"
            ]
          },
          "metadata": {
            "tags": []
          },
          "execution_count": 25
        }
      ]
    },
    {
      "cell_type": "markdown",
      "metadata": {
        "id": "R7lsFi1LoRqM",
        "colab_type": "text"
      },
      "source": [
        "## Testando o modelo"
      ]
    },
    {
      "cell_type": "code",
      "metadata": {
        "id": "oGQ-IPr7oDoy",
        "colab_type": "code",
        "colab": {}
      },
      "source": [
        "texto_teste = [ 'O melhor filme da minha vida. Incrivel!',\n",
        "               'O produtor realmente errou feio. Filme muito ruim.',\n",
        "               'Adorei o filme, por mim ficaria horas no cinema.',\n",
        "               'Filme meio parado, sem ação e não senti empatia pelos personagens.',\n",
        "               'Horrivel',\n",
        "               'Excelente', \n",
        "               'Muito bom o filme, só que não',\n",
        "               'Muito ruim o filme, só que não',\n",
        "               'top'\n",
        "               ]\n",
        "\n",
        "box_texto_teste = vect.transform( texto_teste )"
      ],
      "execution_count": 26,
      "outputs": []
    },
    {
      "cell_type": "code",
      "metadata": {
        "id": "C93UhFAHpOME",
        "colab_type": "code",
        "colab": {
          "base_uri": "https://localhost:8080/",
          "height": 170
        },
        "outputId": "d616a09c-8001-4759-aba8-9c151a21a986"
      },
      "source": [
        "saida_teste = model.predict( box_texto_teste )\n",
        "\n",
        "dict_resp = { 0: 'Negativo', 1: 'Positivo' }\n",
        "\n",
        "for i in saida_teste:\n",
        "  print( dict_resp[i] )\n"
      ],
      "execution_count": 27,
      "outputs": [
        {
          "output_type": "stream",
          "text": [
            "Positivo\n",
            "Negativo\n",
            "Positivo\n",
            "Negativo\n",
            "Negativo\n",
            "Positivo\n",
            "Negativo\n",
            "Negativo\n",
            "Positivo\n"
          ],
          "name": "stdout"
        }
      ]
    },
    {
      "cell_type": "markdown",
      "metadata": {
        "id": "vO68IsZjqmRo",
        "colab_type": "text"
      },
      "source": [
        "## Validando o modelo"
      ]
    },
    {
      "cell_type": "code",
      "metadata": {
        "id": "L96IvH2mppFv",
        "colab_type": "code",
        "colab": {
          "base_uri": "https://localhost:8080/",
          "height": 51
        },
        "outputId": "7275ffe6-ecfd-4b19-b414-b81070f78e92"
      },
      "source": [
        "print( model.score( box_x_treino, y_treino ) )\n",
        "print( model.score( box_x_test, y_test ) )"
      ],
      "execution_count": 28,
      "outputs": [
        {
          "output_type": "stream",
          "text": [
            "0.9048363616757427\n",
            "0.8498180347755763\n"
          ],
          "name": "stdout"
        }
      ]
    },
    {
      "cell_type": "code",
      "metadata": {
        "id": "xLKu-RJ_q42Y",
        "colab_type": "code",
        "colab": {}
      },
      "source": [
        "from sklearn.metrics import plot_confusion_matrix\n",
        "import matplotlib.pyplot as plt"
      ],
      "execution_count": 29,
      "outputs": []
    },
    {
      "cell_type": "markdown",
      "metadata": {
        "id": "GuvaJ39SGMDl",
        "colab_type": "text"
      },
      "source": [
        "### Treino"
      ]
    },
    {
      "cell_type": "code",
      "metadata": {
        "id": "cn1vz7NrGMgZ",
        "colab_type": "code",
        "colab": {
          "base_uri": "https://localhost:8080/",
          "height": 296
        },
        "outputId": "99a2be53-7d4e-44a6-9c55-fe4bf8c13716"
      },
      "source": [
        "plot_confusion_matrix( estimator = model, X = box_x_treino, y_true = y_treino, normalize = 'true', cmap=plt.cm.Blues )"
      ],
      "execution_count": 30,
      "outputs": [
        {
          "output_type": "execute_result",
          "data": {
            "text/plain": [
              "<sklearn.metrics._plot.confusion_matrix.ConfusionMatrixDisplay at 0x7f9a64c7af28>"
            ]
          },
          "metadata": {
            "tags": []
          },
          "execution_count": 30
        },
        {
          "output_type": "display_data",
          "data": {
            "image/png": "[encoded data removed]",
            "text/plain": [
              "<Figure size 432x288 with 2 Axes>"
            ]
          },
          "metadata": {
            "tags": [],
            "needs_background": "light"
          }
        }
      ]
    },
    {
      "cell_type": "markdown",
      "metadata": {
        "id": "5TlSilr0GRUd",
        "colab_type": "text"
      },
      "source": [
        "### Teste"
      ]
    },
    {
      "cell_type": "code",
      "metadata": {
        "id": "Jdh0CXkCrVdM",
        "colab_type": "code",
        "colab": {
          "base_uri": "https://localhost:8080/",
          "height": 296
        },
        "outputId": "a42ccee2-3645-4b44-b582-6fb408b95162"
      },
      "source": [
        "plot_confusion_matrix( estimator = model, X = box_x_test, y_true = y_test, normalize = 'true', cmap=plt.cm.Blues )"
      ],
      "execution_count": 31,
      "outputs": [
        {
          "output_type": "execute_result",
          "data": {
            "text/plain": [
              "<sklearn.metrics._plot.confusion_matrix.ConfusionMatrixDisplay at 0x7f9a64c7a0f0>"
            ]
          },
          "metadata": {
            "tags": []
          },
          "execution_count": 31
        },
        {
          "output_type": "display_data",
          "data": {
            "image/png": "[encoded data removed]",
            "text/plain": [
              "<Figure size 432x288 with 2 Axes>"
            ]
          },
          "metadata": {
            "tags": [],
            "needs_background": "light"
          }
        }
      ]
    },
    {
      "cell_type": "markdown",
      "metadata": {
        "id": "UvWc-PcIsxn_",
        "colab_type": "text"
      },
      "source": [
        "# Adicionando Pré-processamento ( Mine )\n",
        "\n",
        "- Tornar possível usar algoritmos mais complexos para explorar esses dados que estão exparsos\n",
        "\n",
        "- Diminuir a dimensionalidade"
      ]
    },
    {
      "cell_type": "code",
      "metadata": {
        "id": "gJsjv_q5sKa4",
        "colab_type": "code",
        "colab": {
          "base_uri": "https://localhost:8080/",
          "height": 204
        },
        "outputId": "bdba5b0b-e1a1-4558-b38e-1abf154855df"
      },
      "source": [
        "df_imdb_pt.head()"
      ],
      "execution_count": 32,
      "outputs": [
        {
          "output_type": "execute_result",
          "data": {
            "text/html": [
              "<div>\n",
              "<style scoped>\n",
              "    .dataframe tbody tr th:only-of-type {\n",
              "        vertical-align: middle;\n",
              "    }\n",
              "\n",
              "    .dataframe tbody tr th {\n",
              "        vertical-align: top;\n",
              "    }\n",
              "\n",
              "    .dataframe thead th {\n",
              "        text-align: right;\n",
              "    }\n",
              "</style>\n",
              "<table border=\"1\" class=\"dataframe\">\n",
              "  <thead>\n",
              "    <tr style=\"text-align: right;\">\n",
              "      <th></th>\n",
              "      <th>text_pt</th>\n",
              "      <th>sentiment</th>\n",
              "    </tr>\n",
              "  </thead>\n",
              "  <tbody>\n",
              "    <tr>\n",
              "      <th>0</th>\n",
              "      <td>mais uma vez, o sr. costner arrumou um filme p...</td>\n",
              "      <td>0</td>\n",
              "    </tr>\n",
              "    <tr>\n",
              "      <th>1</th>\n",
              "      <td>este é um exemplo do motivo pelo qual a maiori...</td>\n",
              "      <td>0</td>\n",
              "    </tr>\n",
              "    <tr>\n",
              "      <th>2</th>\n",
              "      <td>primeiro de tudo eu odeio esses raps imbecis, ...</td>\n",
              "      <td>0</td>\n",
              "    </tr>\n",
              "    <tr>\n",
              "      <th>3</th>\n",
              "      <td>nem mesmo os beatles puderam escrever músicas ...</td>\n",
              "      <td>0</td>\n",
              "    </tr>\n",
              "    <tr>\n",
              "      <th>4</th>\n",
              "      <td>filmes de fotos de latão não é uma palavra apr...</td>\n",
              "      <td>0</td>\n",
              "    </tr>\n",
              "  </tbody>\n",
              "</table>\n",
              "</div>"
            ],
            "text/plain": [
              "                                             text_pt  sentiment\n",
              "0  mais uma vez, o sr. costner arrumou um filme p...          0\n",
              "1  este é um exemplo do motivo pelo qual a maiori...          0\n",
              "2  primeiro de tudo eu odeio esses raps imbecis, ...          0\n",
              "3  nem mesmo os beatles puderam escrever músicas ...          0\n",
              "4  filmes de fotos de latão não é uma palavra apr...          0"
            ]
          },
          "metadata": {
            "tags": []
          },
          "execution_count": 32
        }
      ]
    },
    {
      "cell_type": "markdown",
      "metadata": {
        "id": "whocBnBvOiCN",
        "colab_type": "text"
      },
      "source": [
        "### Testes rápidos"
      ]
    },
    {
      "cell_type": "code",
      "metadata": {
        "id": "5aZ3zQB8WGVe",
        "colab_type": "code",
        "colab": {}
      },
      "source": [
        "# Corpus todo enviado como parametro\n",
        "def stem(corpus):\n",
        "  print(corpus)\n",
        "  return corpus + \"oooiiii\"\n",
        "\n",
        "vect_no_stopwords_stem = CountVectorizer( analyzer='word', preprocessor=stem )"
      ],
      "execution_count": 33,
      "outputs": []
    },
    {
      "cell_type": "code",
      "metadata": {
        "id": "sN_vx9MuP8cT",
        "colab_type": "code",
        "colab": {}
      },
      "source": [
        "vect_no_stopwords_stem.fit_transform( x_treino )"
      ],
      "execution_count": null,
      "outputs": []
    },
    {
      "cell_type": "code",
      "metadata": {
        "id": "mFqsx_SWRVuQ",
        "colab_type": "code",
        "colab": {
          "base_uri": "https://localhost:8080/",
          "height": 34
        },
        "outputId": "385ac13a-ddae-435f-c1ca-1fa2d986bf23"
      },
      "source": [
        "vect_no_stopwords_stem.vocabulary_[\"oooiiii\"]"
      ],
      "execution_count": 35,
      "outputs": [
        {
          "output_type": "execute_result",
          "data": {
            "text/plain": [
              "78191"
            ]
          },
          "metadata": {
            "tags": []
          },
          "execution_count": 35
        }
      ]
    },
    {
      "cell_type": "markdown",
      "metadata": {
        "id": "unilSLH6IB_5",
        "colab_type": "text"
      },
      "source": [
        "## Removendo Stopwords"
      ]
    },
    {
      "cell_type": "code",
      "metadata": {
        "id": "IKyKzsg8IQPY",
        "colab_type": "code",
        "colab": {}
      },
      "source": [
        "from nltk.corpus import stopwords\n",
        "from string import punctuation"
      ],
      "execution_count": 36,
      "outputs": []
    },
    {
      "cell_type": "code",
      "metadata": {
        "id": "Y0mZHr3NIlmd",
        "colab_type": "code",
        "colab": {
          "base_uri": "https://localhost:8080/",
          "height": 54
        },
        "outputId": "f3b1bea7-208f-4394-979f-d13565af7f12"
      },
      "source": [
        "stw = stopwords.words( 'portuguese' )\n",
        "\n",
        "stw_pt = list( set( stw + list(punctuation) ) )\n",
        "print(stw_pt)"
      ],
      "execution_count": 37,
      "outputs": [
        {
          "output_type": "stream",
          "text": [
            "['por', 'estivemos', 'houveram', 'estivesse', 'estive', 'houvesse', 'tenha', 'a', ']', 'estava', 'pelas', 'é', 'lhes', 'ou', '{', 'se', 'esta', 'às', 'estivermos', ';', 'houverei', 'estiver', 'essa', 'no', 'nossas', 'há', 'teus', 'hajam', 'você', 'havemos', 'quem', 'só', 'dos', 'são', 'seremos', 'terão', 'nossos', 'sua', 'minhas', 'isto', 'fui', 'teremos', 'este', 'tivera', 'como', 'sejam', 'qual', 'foi', 'tuas', 'hajamos', 'estas', 'estiveram', 'houver', 'numa', '\"', '<', 'isso', 'estavam', 'as', 'estejam', 'tivemos', '$', '`', 'ele', 'fomos', ')', 'esteja', 'eu', 'nas', 'houveríamos', 'tivesse', 'nos', 'delas', 'vos', 'aquelas', 'seja', 'entre', '*', 'serão', 'houvera', 'seríamos', '~', 'e', 'tinham', 'estivessem', 'aos', 'estivéramos', 'foram', 'estivera', 'éramos', 'estávamos', 'sejamos', 'era', 'seria', 'tivéssemos', 'mesmo', 'houveremos', 'mas', 'até', 'terá', 'deles', 'em', 'à', 'na', 'serei', '#', 'esteve', 'nós', 'hão', 'houve', 'tivéramos', 'teu', 'num', 'não', 'houverá', '(', '?', 'houveria', 'elas', 'forem', '|', 'vocês', 'fora', 'teria', 'estou', 'pela', '!', '+', 'teve', 'que', 'houvemos', 'pelos', '=', 'com', 'aquilo', 'os', 'tínhamos', 'aqueles', 'fôssemos', 'seu', 'seus', 'tu', 'pelo', 'suas', 'depois', 'me', 'aquele', 'houvéramos', 'ela', 'lhe', 'houveriam', 'somos', 'haja', 'tenhamos', 'estivéssemos', '.', 'houvermos', 'tenham', 'terei', 'das', 'minha', 'houvéssemos', 'da', 'também', 'estes', 'tiver', 'tém', 'estejamos', '}', 'dela', 'houverem', 'tinha', 'o', 'houverão', 'seriam', '-', 'um', 'eram', 'muito', 'tenho', '%', '^', 'fosse', 'para', 'eles', 'nosso', \"'\", 'esses', '\\\\', 'fôramos', '>', '@', '&', 'sou', 'mais', 'aquela', 'estamos', 'do', 'temos', 'tiveram', 'ao', '/', 'tem', 'hei', 'tivessem', 'for', '[', 'formos', 'nossa', 'tua', 'esse', 'dele', 'nem', 'de', 'houvessem', 'tivermos', 'sem', 'meus', ',', 'tiverem', ':', 'teriam', 'meu', 'estiverem', 'tive', 'já', 'teríamos', 'será', 'fossem', 'uma', 'te', 'quando', 'essas', '_', 'estão', 'está']\n"
          ],
          "name": "stdout"
        }
      ]
    },
    {
      "cell_type": "code",
      "metadata": {
        "id": "RmmcSTSoInB3",
        "colab_type": "code",
        "colab": {}
      },
      "source": [
        "vect_no_stopwords = CountVectorizer( analyzer='word', stop_words = stw_pt )"
      ],
      "execution_count": 38,
      "outputs": []
    },
    {
      "cell_type": "code",
      "metadata": {
        "id": "b9ieAdAiInQe",
        "colab_type": "code",
        "colab": {
          "base_uri": "https://localhost:8080/",
          "height": 221
        },
        "outputId": "26474fea-8788-4bc0-ac48-7dfce23921de"
      },
      "source": [
        "vect_no_stopwords.fit(x_treino)"
      ],
      "execution_count": 39,
      "outputs": [
        {
          "output_type": "execute_result",
          "data": {
            "text/plain": [
              "CountVectorizer(analyzer='word', binary=False, decode_error='strict',\n",
              "                dtype=<class 'numpy.int64'>, encoding='utf-8', input='content',\n",
              "                lowercase=True, max_df=1.0, max_features=None, min_df=1,\n",
              "                ngram_range=(1, 1), preprocessor=None,\n",
              "                stop_words=['por', 'estivemos', 'houveram', 'estivesse',\n",
              "                            'estive', 'houvesse', 'tenha', 'a', ']', 'estava',\n",
              "                            'pelas', 'é', 'lhes', 'ou', '{', 'se', 'esta', 'às',\n",
              "                            'estivermos', ';', 'houverei', 'estiver', 'essa',\n",
              "                            'no', 'nossas', 'há', 'teus', 'hajam', 'você',\n",
              "                            'havemos', ...],\n",
              "                strip_accents=None, token_pattern='(?u)\\\\b\\\\w\\\\w+\\\\b',\n",
              "                tokenizer=None, vocabulary=None)"
            ]
          },
          "metadata": {
            "tags": []
          },
          "execution_count": 39
        }
      ]
    },
    {
      "cell_type": "code",
      "metadata": {
        "id": "Iq73MJBgInnc",
        "colab_type": "code",
        "colab": {
          "base_uri": "https://localhost:8080/",
          "height": 51
        },
        "outputId": "c1e7970a-aa97-43d7-c067-7072cac52297"
      },
      "source": [
        "BoW_exemplo2 = vect_no_stopwords.transform( [ df_imdb_pt.text_pt[0] ] )\n",
        "BoW_exemplo2"
      ],
      "execution_count": 40,
      "outputs": [
        {
          "output_type": "execute_result",
          "data": {
            "text/plain": [
              "<1x114606 sparse matrix of type '<class 'numpy.int64'>'\n",
              "\twith 73 stored elements in Compressed Sparse Row format>"
            ]
          },
          "metadata": {
            "tags": []
          },
          "execution_count": 40
        }
      ]
    },
    {
      "cell_type": "code",
      "metadata": {
        "id": "jEUhr5buInN9",
        "colab_type": "code",
        "colab": {
          "base_uri": "https://localhost:8080/",
          "height": 51
        },
        "outputId": "cb7f61fa-5f8b-476b-c051-7ff40a4512bf"
      },
      "source": [
        "BoW_Exemplo"
      ],
      "execution_count": 41,
      "outputs": [
        {
          "output_type": "execute_result",
          "data": {
            "text/plain": [
              "<1x114781 sparse matrix of type '<class 'numpy.int64'>'\n",
              "\twith 107 stored elements in Compressed Sparse Row format>"
            ]
          },
          "metadata": {
            "tags": []
          },
          "execution_count": 41
        }
      ]
    },
    {
      "cell_type": "markdown",
      "metadata": {
        "id": "FOk09Tm6Koll",
        "colab_type": "text"
      },
      "source": [
        "## Stemming"
      ]
    },
    {
      "cell_type": "code",
      "metadata": {
        "id": "NnnD6obAKpIC",
        "colab_type": "code",
        "colab": {
          "base_uri": "https://localhost:8080/",
          "height": 68
        },
        "outputId": "48ec336a-bf38-4406-bbca-17581e994f10"
      },
      "source": [
        "nltk.download('rslp')"
      ],
      "execution_count": 42,
      "outputs": [
        {
          "output_type": "stream",
          "text": [
            "[nltk_data] Downloading package rslp to /root/nltk_data...\n",
            "[nltk_data]   Unzipping stemmers/rslp.zip.\n"
          ],
          "name": "stdout"
        },
        {
          "output_type": "execute_result",
          "data": {
            "text/plain": [
              "True"
            ]
          },
          "metadata": {
            "tags": []
          },
          "execution_count": 42
        }
      ]
    },
    {
      "cell_type": "code",
      "metadata": {
        "id": "2RjMLXLAKp6X",
        "colab_type": "code",
        "colab": {}
      },
      "source": [
        "from nltk.stem import RSLPStemmer\n",
        "\n",
        "stemmer = RSLPStemmer()"
      ],
      "execution_count": 43,
      "outputs": []
    },
    {
      "cell_type": "code",
      "metadata": {
        "id": "qOX9sYa2Kp22",
        "colab_type": "code",
        "colab": {
          "base_uri": "https://localhost:8080/",
          "height": 37
        },
        "outputId": "02c3974f-265a-48e6-d40f-c8c787ad3fbc"
      },
      "source": [
        "stemmer.stem('dançando')"
      ],
      "execution_count": 44,
      "outputs": [
        {
          "output_type": "execute_result",
          "data": {
            "application/vnd.google.colaboratory.intrinsic+json": {
              "type": "string"
            },
            "text/plain": [
              "'danç'"
            ]
          },
          "metadata": {
            "tags": []
          },
          "execution_count": 44
        }
      ]
    },
    {
      "cell_type": "code",
      "metadata": {
        "id": "ICk6LfLAKpiN",
        "colab_type": "code",
        "colab": {}
      },
      "source": [
        "from nltk.tokenize import word_tokenize\n",
        "\n",
        "def stem(corpus):\n",
        "  w_tokenize = word_tokenize(corpus)\n",
        "  res = ''\n",
        "  for w in w_tokenize:\n",
        "    res += stemmer.stem(w)+\" \"\n",
        "  return res"
      ],
      "execution_count": 45,
      "outputs": []
    },
    {
      "cell_type": "code",
      "metadata": {
        "id": "5dxOYglgKpYt",
        "colab_type": "code",
        "colab": {
          "base_uri": "https://localhost:8080/",
          "height": 34
        },
        "outputId": "619a8092-f14e-449e-c5bf-154c1b1fac9e"
      },
      "source": [
        "print(stem('senhoras e senhores, hora do Faustão'))"
      ],
      "execution_count": 46,
      "outputs": [
        {
          "output_type": "stream",
          "text": [
            "senh e senh , hor do faust \n"
          ],
          "name": "stdout"
        }
      ]
    },
    {
      "cell_type": "code",
      "metadata": {
        "id": "xwSs6jrTKpV4",
        "colab_type": "code",
        "colab": {}
      },
      "source": [
        "vect_no_stopwords_stem = CountVectorizer( analyzer = 'word', stop_words = stw_pt, preprocessor = stem )"
      ],
      "execution_count": 47,
      "outputs": []
    },
    {
      "cell_type": "code",
      "metadata": {
        "id": "a9HwRw9RMs13",
        "colab_type": "code",
        "colab": {
          "base_uri": "https://localhost:8080/",
          "height": 292
        },
        "outputId": "93af921d-47e4-4cb2-95ba-331ada13ee8d"
      },
      "source": [
        "vect_no_stopwords_stem.fit( x_treino )"
      ],
      "execution_count": 48,
      "outputs": [
        {
          "output_type": "stream",
          "text": [
            "/usr/local/lib/python3.6/dist-packages/sklearn/feature_extraction/text.py:385: UserWarning: Your stop_words may be inconsistent with your preprocessing. Tokenizing the stop words generated tokens ['aquel', 'aquil', 'del', 'entr', 'er', 'ess', 'est', 'estej', 'estev', 'estiv', 'estivér', 'estivéss', 'fom', 'form', 'foss', 'fôr', 'fôss', 'haj', 'hav', 'houv', 'houvér', 'houvéss', 'iss', 'ist', 'mesm', 'minh', 'muit', 'noss', 'nó', 'par', 'pel', 'qu', 'sej', 'ser', 'som', 'tenh', 'ter', 'tev', 'tinh', 'tiv', 'tivér', 'tivéss', 'tính', 'vo', 'voc', 'ér'] not in stop_words.\n",
            "  'stop_words.' % sorted(inconsistent))\n"
          ],
          "name": "stderr"
        },
        {
          "output_type": "execute_result",
          "data": {
            "text/plain": [
              "CountVectorizer(analyzer='word', binary=False, decode_error='strict',\n",
              "                dtype=<class 'numpy.int64'>, encoding='utf-8', input='content',\n",
              "                lowercase=True, max_df=1.0, max_features=None, min_df=1,\n",
              "                ngram_range=(1, 1),\n",
              "                preprocessor=<function stem at 0x7f9a653e6488>,\n",
              "                stop_words=['por', 'estivemos', 'houveram', 'estivesse',\n",
              "                            'estive', 'houvesse', 'tenha', 'a', ']', 'estava',\n",
              "                            'pelas', 'é', 'lhes', 'ou', '{', 'se', 'esta', 'às',\n",
              "                            'estivermos', ';', 'houverei', 'estiver', 'essa',\n",
              "                            'no', 'nossas', 'há', 'teus', 'hajam', 'você',\n",
              "                            'havemos', ...],\n",
              "                strip_accents=None, token_pattern='(?u)\\\\b\\\\w\\\\w+\\\\b',\n",
              "                tokenizer=None, vocabulary=None)"
            ]
          },
          "metadata": {
            "tags": []
          },
          "execution_count": 48
        }
      ]
    },
    {
      "cell_type": "code",
      "metadata": {
        "id": "xGjWhaKZMs4c",
        "colab_type": "code",
        "colab": {
          "base_uri": "https://localhost:8080/",
          "height": 51
        },
        "outputId": "670406ab-3e49-4583-e133-d815bfa8da4c"
      },
      "source": [
        "BoW_exemplo3 = vect_no_stopwords_stem.transform( [ df_imdb_pt.text_pt[0] ] )\n",
        "BoW_exemplo3"
      ],
      "execution_count": 49,
      "outputs": [
        {
          "output_type": "execute_result",
          "data": {
            "text/plain": [
              "<1x67791 sparse matrix of type '<class 'numpy.int64'>'\n",
              "\twith 72 stored elements in Compressed Sparse Row format>"
            ]
          },
          "metadata": {
            "tags": []
          },
          "execution_count": 49
        }
      ]
    },
    {
      "cell_type": "code",
      "metadata": {
        "id": "H2xROXZhMsd2",
        "colab_type": "code",
        "colab": {}
      },
      "source": [
        "vect_no_stopwords_stem.vocabulary_"
      ],
      "execution_count": null,
      "outputs": []
    },
    {
      "cell_type": "code",
      "metadata": {
        "id": "HIM5_lnwMsbn",
        "colab_type": "code",
        "colab": {
          "base_uri": "https://localhost:8080/",
          "height": 51
        },
        "outputId": "06503989-1d68-4061-fc74-39ac55c243e3"
      },
      "source": [
        "BoW_Exemplo"
      ],
      "execution_count": 51,
      "outputs": [
        {
          "output_type": "execute_result",
          "data": {
            "text/plain": [
              "<1x114781 sparse matrix of type '<class 'numpy.int64'>'\n",
              "\twith 107 stored elements in Compressed Sparse Row format>"
            ]
          },
          "metadata": {
            "tags": []
          },
          "execution_count": 51
        }
      ]
    },
    {
      "cell_type": "code",
      "metadata": {
        "id": "blVBD7_-MsZO",
        "colab_type": "code",
        "colab": {
          "base_uri": "https://localhost:8080/",
          "height": 51
        },
        "outputId": "c4185e5e-1c78-4b0c-c3bc-6efc8f55ac3f"
      },
      "source": [
        "BoW_exemplo2"
      ],
      "execution_count": 52,
      "outputs": [
        {
          "output_type": "execute_result",
          "data": {
            "text/plain": [
              "<1x114606 sparse matrix of type '<class 'numpy.int64'>'\n",
              "\twith 73 stored elements in Compressed Sparse Row format>"
            ]
          },
          "metadata": {
            "tags": []
          },
          "execution_count": 52
        }
      ]
    },
    {
      "cell_type": "code",
      "metadata": {
        "id": "emmCg_EWMsL8",
        "colab_type": "code",
        "colab": {
          "base_uri": "https://localhost:8080/",
          "height": 51
        },
        "outputId": "be79b47d-6fb9-4bf9-a457-d6d0c04e31ee"
      },
      "source": [
        "BoW_exemplo3"
      ],
      "execution_count": 53,
      "outputs": [
        {
          "output_type": "execute_result",
          "data": {
            "text/plain": [
              "<1x67791 sparse matrix of type '<class 'numpy.int64'>'\n",
              "\twith 72 stored elements in Compressed Sparse Row format>"
            ]
          },
          "metadata": {
            "tags": []
          },
          "execution_count": 53
        }
      ]
    },
    {
      "cell_type": "markdown",
      "metadata": {
        "id": "1_4lF7Mqee7b",
        "colab_type": "text"
      },
      "source": [
        "# Pré-processamento - Class Version"
      ]
    },
    {
      "cell_type": "code",
      "metadata": {
        "id": "DRzJSmqIUMSr",
        "colab_type": "code",
        "colab": {
          "base_uri": "https://localhost:8080/",
          "height": 391
        },
        "outputId": "a00d02c5-3f41-489d-f720-bb3800a2f9f9"
      },
      "source": [
        "df_imdb_pt2 = df_imdb[ ['text_pt', 'sentiment'] ]\n",
        "\n",
        "df_imdb_pt2.sentiment.replace( { 'neg': 0, 'pos': 1 }, inplace = True )\n",
        "\n",
        "df_imdb_pt2['text_pt'] = df_imdb_pt['text_pt'].str.lower()\n",
        " \n",
        "df_imdb_pt2.head()"
      ],
      "execution_count": 54,
      "outputs": [
        {
          "output_type": "stream",
          "text": [
            "/usr/local/lib/python3.6/dist-packages/pandas/core/generic.py:6746: SettingWithCopyWarning: \n",
            "A value is trying to be set on a copy of a slice from a DataFrame\n",
            "\n",
            "See the caveats in the documentation: https://pandas.pydata.org/pandas-docs/stable/user_guide/indexing.html#returning-a-view-versus-a-copy\n",
            "  self._update_inplace(new_data)\n",
            "/usr/local/lib/python3.6/dist-packages/ipykernel_launcher.py:5: SettingWithCopyWarning: \n",
            "A value is trying to be set on a copy of a slice from a DataFrame.\n",
            "Try using .loc[row_indexer,col_indexer] = value instead\n",
            "\n",
            "See the caveats in the documentation: https://pandas.pydata.org/pandas-docs/stable/user_guide/indexing.html#returning-a-view-versus-a-copy\n",
            "  \"\"\"\n"
          ],
          "name": "stderr"
        },
        {
          "output_type": "execute_result",
          "data": {
            "text/html": [
              "<div>\n",
              "<style scoped>\n",
              "    .dataframe tbody tr th:only-of-type {\n",
              "        vertical-align: middle;\n",
              "    }\n",
              "\n",
              "    .dataframe tbody tr th {\n",
              "        vertical-align: top;\n",
              "    }\n",
              "\n",
              "    .dataframe thead th {\n",
              "        text-align: right;\n",
              "    }\n",
              "</style>\n",
              "<table border=\"1\" class=\"dataframe\">\n",
              "  <thead>\n",
              "    <tr style=\"text-align: right;\">\n",
              "      <th></th>\n",
              "      <th>text_pt</th>\n",
              "      <th>sentiment</th>\n",
              "    </tr>\n",
              "  </thead>\n",
              "  <tbody>\n",
              "    <tr>\n",
              "      <th>0</th>\n",
              "      <td>mais uma vez, o sr. costner arrumou um filme p...</td>\n",
              "      <td>0</td>\n",
              "    </tr>\n",
              "    <tr>\n",
              "      <th>1</th>\n",
              "      <td>este é um exemplo do motivo pelo qual a maiori...</td>\n",
              "      <td>0</td>\n",
              "    </tr>\n",
              "    <tr>\n",
              "      <th>2</th>\n",
              "      <td>primeiro de tudo eu odeio esses raps imbecis, ...</td>\n",
              "      <td>0</td>\n",
              "    </tr>\n",
              "    <tr>\n",
              "      <th>3</th>\n",
              "      <td>nem mesmo os beatles puderam escrever músicas ...</td>\n",
              "      <td>0</td>\n",
              "    </tr>\n",
              "    <tr>\n",
              "      <th>4</th>\n",
              "      <td>filmes de fotos de latão não é uma palavra apr...</td>\n",
              "      <td>0</td>\n",
              "    </tr>\n",
              "  </tbody>\n",
              "</table>\n",
              "</div>"
            ],
            "text/plain": [
              "                                             text_pt  sentiment\n",
              "0  mais uma vez, o sr. costner arrumou um filme p...          0\n",
              "1  este é um exemplo do motivo pelo qual a maiori...          0\n",
              "2  primeiro de tudo eu odeio esses raps imbecis, ...          0\n",
              "3  nem mesmo os beatles puderam escrever músicas ...          0\n",
              "4  filmes de fotos de latão não é uma palavra apr...          0"
            ]
          },
          "metadata": {
            "tags": []
          },
          "execution_count": 54
        }
      ]
    },
    {
      "cell_type": "markdown",
      "metadata": {
        "id": "RgOVah5sljqa",
        "colab_type": "text"
      },
      "source": [
        "## Remoção de acentos, emojis e números"
      ]
    },
    {
      "cell_type": "code",
      "metadata": {
        "id": "0hRUgUgIRwiu",
        "colab_type": "code",
        "colab": {}
      },
      "source": [
        "# Funções auxiliares para normalização de texto\n",
        "import re\n",
        "import unicodedata\n",
        "\n",
        "def remove_emoji(string):\n",
        "  emoji_pattern = re.compile(\"[\"\n",
        "    u\"\\U0001F600-\\U0001F64F\"  # emoticons\n",
        "    u\"\\U0001F300-\\U0001F5FF\"  # symbols & pictographs\n",
        "    u\"\\U0001F680-\\U0001F6FF\"  # transport & map symbols\n",
        "    u\"\\U0001F1E0-\\U0001F1FF\"  # flags (iOS)\n",
        "    u\"\\U00002702-\\U000027B0\"\n",
        "    u\"\\U000024C2-\\U0001F251\"\n",
        "    \"]+\", flags=re.UNICODE)\n",
        "  return emoji_pattern.sub(r'', string)\n",
        "\n",
        "def remove_acento( frase_tokenizada ):\n",
        "  frase = []\n",
        "  for palavra in frase_tokenizada:\n",
        "    print('Palavra0: ' + palavra)\n",
        "    palavra = palavra.replace('á','a')\n",
        "    palavra = palavra.replace('é','e')\n",
        "    palavra = palavra.replace('í','i')\n",
        "    palavra = palavra.replace('ó','o')\n",
        "    palavra = palavra.replace('ú','u')\n",
        "    palavra = palavra.replace('ã','a')\n",
        "    palavra = palavra.replace('õ','o')\n",
        "    palavra = palavra.replace('ç','c')\n",
        "    palavra = palavra.replace('â','a')\n",
        "    palavra = palavra.replace('ê','e')\n",
        "    palavra = palavra.replace('î','i')\n",
        "    palavra = palavra.replace('ô','o')\n",
        "    palavra = palavra.replace('û','u')\n",
        "    palavra = palavra.replace('à','a')\n",
        "    palavra = palavra.replace('è','e')\n",
        "    palavra = palavra.replace('ì','i')\n",
        "    palavra = palavra.replace('ò','o')\n",
        "    palavra = palavra.replace('ù','u')\n",
        "    print('Palavra1: ' + palavra)\n",
        "    frase.append( palavra )\n",
        "  \n",
        "  return frase\n",
        "\n",
        "\n",
        "def no_alphas( frase_tokenizada ):\n",
        "  return [ palavra for palavra in frase_tokenizada if (palavra.isalpha()) ]\n",
        "\n",
        "\n",
        "\n",
        "# mais performatica\n",
        "def removerAcentosECaracteresEspeciais(palavra):\n",
        "  \n",
        "  # Unicode normalize transforma um caracter em seu equivalente em latin.\n",
        "  nfkd = unicodedata.normalize('NFKD', palavra)\n",
        "  palavraSemAcento = u\"\".join([c for c in nfkd if not unicodedata.combining(c)])\n",
        "\n",
        "  # Usa expressão regular para retornar a palavra apenas com números, letras e espaço\n",
        "  return re.sub('[^a-zA-Z0-9 \\\\\\]', '', palavraSemAcento)"
      ],
      "execution_count": 78,
      "outputs": []
    },
    {
      "cell_type": "markdown",
      "metadata": {
        "id": "uVLVObrbVcDE",
        "colab_type": "text"
      },
      "source": [
        "## Removendo emojis"
      ]
    },
    {
      "cell_type": "code",
      "metadata": {
        "id": "RA0gvr_xVQSu",
        "colab_type": "code",
        "colab": {
          "base_uri": "https://localhost:8080/",
          "height": 306
        },
        "outputId": "e4f2ce95-9c6e-4474-f649-45f42d50a2b9"
      },
      "source": [
        "df_imdb_pt2['text_pt'] = df_imdb_pt2['text_pt'].apply( remove_emoji )\n",
        "\n",
        "df_imdb_pt2.head()"
      ],
      "execution_count": 56,
      "outputs": [
        {
          "output_type": "stream",
          "text": [
            "/usr/local/lib/python3.6/dist-packages/ipykernel_launcher.py:1: SettingWithCopyWarning: \n",
            "A value is trying to be set on a copy of a slice from a DataFrame.\n",
            "Try using .loc[row_indexer,col_indexer] = value instead\n",
            "\n",
            "See the caveats in the documentation: https://pandas.pydata.org/pandas-docs/stable/user_guide/indexing.html#returning-a-view-versus-a-copy\n",
            "  \"\"\"Entry point for launching an IPython kernel.\n"
          ],
          "name": "stderr"
        },
        {
          "output_type": "execute_result",
          "data": {
            "text/html": [
              "<div>\n",
              "<style scoped>\n",
              "    .dataframe tbody tr th:only-of-type {\n",
              "        vertical-align: middle;\n",
              "    }\n",
              "\n",
              "    .dataframe tbody tr th {\n",
              "        vertical-align: top;\n",
              "    }\n",
              "\n",
              "    .dataframe thead th {\n",
              "        text-align: right;\n",
              "    }\n",
              "</style>\n",
              "<table border=\"1\" class=\"dataframe\">\n",
              "  <thead>\n",
              "    <tr style=\"text-align: right;\">\n",
              "      <th></th>\n",
              "      <th>text_pt</th>\n",
              "      <th>sentiment</th>\n",
              "    </tr>\n",
              "  </thead>\n",
              "  <tbody>\n",
              "    <tr>\n",
              "      <th>0</th>\n",
              "      <td>mais uma vez, o sr. costner arrumou um filme p...</td>\n",
              "      <td>0</td>\n",
              "    </tr>\n",
              "    <tr>\n",
              "      <th>1</th>\n",
              "      <td>este é um exemplo do motivo pelo qual a maiori...</td>\n",
              "      <td>0</td>\n",
              "    </tr>\n",
              "    <tr>\n",
              "      <th>2</th>\n",
              "      <td>primeiro de tudo eu odeio esses raps imbecis, ...</td>\n",
              "      <td>0</td>\n",
              "    </tr>\n",
              "    <tr>\n",
              "      <th>3</th>\n",
              "      <td>nem mesmo os beatles puderam escrever músicas ...</td>\n",
              "      <td>0</td>\n",
              "    </tr>\n",
              "    <tr>\n",
              "      <th>4</th>\n",
              "      <td>filmes de fotos de latão não é uma palavra apr...</td>\n",
              "      <td>0</td>\n",
              "    </tr>\n",
              "  </tbody>\n",
              "</table>\n",
              "</div>"
            ],
            "text/plain": [
              "                                             text_pt  sentiment\n",
              "0  mais uma vez, o sr. costner arrumou um filme p...          0\n",
              "1  este é um exemplo do motivo pelo qual a maiori...          0\n",
              "2  primeiro de tudo eu odeio esses raps imbecis, ...          0\n",
              "3  nem mesmo os beatles puderam escrever músicas ...          0\n",
              "4  filmes de fotos de latão não é uma palavra apr...          0"
            ]
          },
          "metadata": {
            "tags": []
          },
          "execution_count": 56
        }
      ]
    },
    {
      "cell_type": "markdown",
      "metadata": {
        "id": "3W8X8CgcVjk9",
        "colab_type": "text"
      },
      "source": [
        "#### **Demora**"
      ]
    },
    {
      "cell_type": "code",
      "metadata": {
        "id": "jQCsdRRmVQ3g",
        "colab_type": "code",
        "colab": {
          "base_uri": "https://localhost:8080/",
          "height": 306
        },
        "outputId": "8785fe4a-6fde-4ac6-fdac-e408700de9b2"
      },
      "source": [
        "df_imdb_pt2['token_pt'] = df_imdb_pt2['text_pt'].apply( word_tokenize )\n",
        "df_imdb_pt2.head()"
      ],
      "execution_count": 57,
      "outputs": [
        {
          "output_type": "stream",
          "text": [
            "/usr/local/lib/python3.6/dist-packages/ipykernel_launcher.py:1: SettingWithCopyWarning: \n",
            "A value is trying to be set on a copy of a slice from a DataFrame.\n",
            "Try using .loc[row_indexer,col_indexer] = value instead\n",
            "\n",
            "See the caveats in the documentation: https://pandas.pydata.org/pandas-docs/stable/user_guide/indexing.html#returning-a-view-versus-a-copy\n",
            "  \"\"\"Entry point for launching an IPython kernel.\n"
          ],
          "name": "stderr"
        },
        {
          "output_type": "execute_result",
          "data": {
            "text/html": [
              "<div>\n",
              "<style scoped>\n",
              "    .dataframe tbody tr th:only-of-type {\n",
              "        vertical-align: middle;\n",
              "    }\n",
              "\n",
              "    .dataframe tbody tr th {\n",
              "        vertical-align: top;\n",
              "    }\n",
              "\n",
              "    .dataframe thead th {\n",
              "        text-align: right;\n",
              "    }\n",
              "</style>\n",
              "<table border=\"1\" class=\"dataframe\">\n",
              "  <thead>\n",
              "    <tr style=\"text-align: right;\">\n",
              "      <th></th>\n",
              "      <th>text_pt</th>\n",
              "      <th>sentiment</th>\n",
              "      <th>token_pt</th>\n",
              "    </tr>\n",
              "  </thead>\n",
              "  <tbody>\n",
              "    <tr>\n",
              "      <th>0</th>\n",
              "      <td>mais uma vez, o sr. costner arrumou um filme p...</td>\n",
              "      <td>0</td>\n",
              "      <td>[mais, uma, vez, ,, o, sr., costner, arrumou, ...</td>\n",
              "    </tr>\n",
              "    <tr>\n",
              "      <th>1</th>\n",
              "      <td>este é um exemplo do motivo pelo qual a maiori...</td>\n",
              "      <td>0</td>\n",
              "      <td>[este, é, um, exemplo, do, motivo, pelo, qual,...</td>\n",
              "    </tr>\n",
              "    <tr>\n",
              "      <th>2</th>\n",
              "      <td>primeiro de tudo eu odeio esses raps imbecis, ...</td>\n",
              "      <td>0</td>\n",
              "      <td>[primeiro, de, tudo, eu, odeio, esses, raps, i...</td>\n",
              "    </tr>\n",
              "    <tr>\n",
              "      <th>3</th>\n",
              "      <td>nem mesmo os beatles puderam escrever músicas ...</td>\n",
              "      <td>0</td>\n",
              "      <td>[nem, mesmo, os, beatles, puderam, escrever, m...</td>\n",
              "    </tr>\n",
              "    <tr>\n",
              "      <th>4</th>\n",
              "      <td>filmes de fotos de latão não é uma palavra apr...</td>\n",
              "      <td>0</td>\n",
              "      <td>[filmes, de, fotos, de, latão, não, é, uma, pa...</td>\n",
              "    </tr>\n",
              "  </tbody>\n",
              "</table>\n",
              "</div>"
            ],
            "text/plain": [
              "                                             text_pt  ...                                           token_pt\n",
              "0  mais uma vez, o sr. costner arrumou um filme p...  ...  [mais, uma, vez, ,, o, sr., costner, arrumou, ...\n",
              "1  este é um exemplo do motivo pelo qual a maiori...  ...  [este, é, um, exemplo, do, motivo, pelo, qual,...\n",
              "2  primeiro de tudo eu odeio esses raps imbecis, ...  ...  [primeiro, de, tudo, eu, odeio, esses, raps, i...\n",
              "3  nem mesmo os beatles puderam escrever músicas ...  ...  [nem, mesmo, os, beatles, puderam, escrever, m...\n",
              "4  filmes de fotos de latão não é uma palavra apr...  ...  [filmes, de, fotos, de, latão, não, é, uma, pa...\n",
              "\n",
              "[5 rows x 3 columns]"
            ]
          },
          "metadata": {
            "tags": []
          },
          "execution_count": 57
        }
      ]
    },
    {
      "cell_type": "markdown",
      "metadata": {
        "id": "Z4BY-8nCVjsS",
        "colab_type": "text"
      },
      "source": [
        "## Removendo alphas - Por algum motivo não está funcionando, retorna uma lista de todas as letras"
      ]
    },
    {
      "cell_type": "code",
      "metadata": {
        "id": "JEpteWmXx2XJ",
        "colab_type": "code",
        "colab": {}
      },
      "source": [
        "# df_imdb_pt2['token_pt'] = df_imdb_pt2['text_pt'].apply( no_alphas )\n",
        "# df_imdb_pt2.head()"
      ],
      "execution_count": 74,
      "outputs": []
    },
    {
      "cell_type": "markdown",
      "metadata": {
        "id": "zAgvusGZViyH",
        "colab_type": "text"
      },
      "source": [
        "## Remove acentuação - retorna uma lista com todas as letras"
      ]
    },
    {
      "cell_type": "code",
      "metadata": {
        "id": "l2vON6XNVQyU",
        "colab_type": "code",
        "colab": {
          "base_uri": "https://localhost:8080/",
          "height": 119
        },
        "outputId": "6554772e-6743-43c6-f986-8978d691c387"
      },
      "source": [
        "# df_imdb_pt2['token_pt'] = df_imdb_pt2['text_pt'].apply( remove_acento )"
      ],
      "execution_count": null,
      "outputs": [
        {
          "output_type": "stream",
          "text": [
            "/usr/local/lib/python3.6/dist-packages/ipykernel_launcher.py:1: SettingWithCopyWarning: \n",
            "A value is trying to be set on a copy of a slice from a DataFrame.\n",
            "Try using .loc[row_indexer,col_indexer] = value instead\n",
            "\n",
            "See the caveats in the documentation: https://pandas.pydata.org/pandas-docs/stable/user_guide/indexing.html#returning-a-view-versus-a-copy\n",
            "  \"\"\"Entry point for launching an IPython kernel.\n"
          ],
          "name": "stderr"
        }
      ]
    },
    {
      "cell_type": "markdown",
      "metadata": {
        "id": "ETUbUV0hzwMY",
        "colab_type": "text"
      },
      "source": [
        "## Remove acentuação e caracteres especiais"
      ]
    },
    {
      "cell_type": "code",
      "metadata": {
        "id": "j5lqZd_czv1T",
        "colab_type": "code",
        "colab": {
          "base_uri": "https://localhost:8080/",
          "height": 306
        },
        "outputId": "b986fa26-be1d-4e5b-87de-320f9f0c4b2f"
      },
      "source": [
        "df_imdb_pt2['text_pt'] = df_imdb_pt2['text_pt'].apply( removerAcentosECaracteresEspeciais )\n",
        "df_imdb_pt2.head()"
      ],
      "execution_count": 77,
      "outputs": [
        {
          "output_type": "stream",
          "text": [
            "/usr/local/lib/python3.6/dist-packages/ipykernel_launcher.py:1: SettingWithCopyWarning: \n",
            "A value is trying to be set on a copy of a slice from a DataFrame.\n",
            "Try using .loc[row_indexer,col_indexer] = value instead\n",
            "\n",
            "See the caveats in the documentation: https://pandas.pydata.org/pandas-docs/stable/user_guide/indexing.html#returning-a-view-versus-a-copy\n",
            "  \"\"\"Entry point for launching an IPython kernel.\n"
          ],
          "name": "stderr"
        },
        {
          "output_type": "execute_result",
          "data": {
            "text/html": [
              "<div>\n",
              "<style scoped>\n",
              "    .dataframe tbody tr th:only-of-type {\n",
              "        vertical-align: middle;\n",
              "    }\n",
              "\n",
              "    .dataframe tbody tr th {\n",
              "        vertical-align: top;\n",
              "    }\n",
              "\n",
              "    .dataframe thead th {\n",
              "        text-align: right;\n",
              "    }\n",
              "</style>\n",
              "<table border=\"1\" class=\"dataframe\">\n",
              "  <thead>\n",
              "    <tr style=\"text-align: right;\">\n",
              "      <th></th>\n",
              "      <th>text_pt</th>\n",
              "      <th>sentiment</th>\n",
              "      <th>token_pt</th>\n",
              "    </tr>\n",
              "  </thead>\n",
              "  <tbody>\n",
              "    <tr>\n",
              "      <th>0</th>\n",
              "      <td>mais uma vez o sr costner arrumou um filme por...</td>\n",
              "      <td>0</td>\n",
              "      <td>[mais, uma, vez, ,, o, sr., costner, arrumou, ...</td>\n",
              "    </tr>\n",
              "    <tr>\n",
              "      <th>1</th>\n",
              "      <td>este e um exemplo do motivo pelo qual a maiori...</td>\n",
              "      <td>0</td>\n",
              "      <td>[este, é, um, exemplo, do, motivo, pelo, qual,...</td>\n",
              "    </tr>\n",
              "    <tr>\n",
              "      <th>2</th>\n",
              "      <td>primeiro de tudo eu odeio esses raps imbecis q...</td>\n",
              "      <td>0</td>\n",
              "      <td>[primeiro, de, tudo, eu, odeio, esses, raps, i...</td>\n",
              "    </tr>\n",
              "    <tr>\n",
              "      <th>3</th>\n",
              "      <td>nem mesmo os beatles puderam escrever musicas ...</td>\n",
              "      <td>0</td>\n",
              "      <td>[nem, mesmo, os, beatles, puderam, escrever, m...</td>\n",
              "    </tr>\n",
              "    <tr>\n",
              "      <th>4</th>\n",
              "      <td>filmes de fotos de latao nao e uma palavra apr...</td>\n",
              "      <td>0</td>\n",
              "      <td>[filmes, de, fotos, de, latão, não, é, uma, pa...</td>\n",
              "    </tr>\n",
              "  </tbody>\n",
              "</table>\n",
              "</div>"
            ],
            "text/plain": [
              "                                             text_pt  ...                                           token_pt\n",
              "0  mais uma vez o sr costner arrumou um filme por...  ...  [mais, uma, vez, ,, o, sr., costner, arrumou, ...\n",
              "1  este e um exemplo do motivo pelo qual a maiori...  ...  [este, é, um, exemplo, do, motivo, pelo, qual,...\n",
              "2  primeiro de tudo eu odeio esses raps imbecis q...  ...  [primeiro, de, tudo, eu, odeio, esses, raps, i...\n",
              "3  nem mesmo os beatles puderam escrever musicas ...  ...  [nem, mesmo, os, beatles, puderam, escrever, m...\n",
              "4  filmes de fotos de latao nao e uma palavra apr...  ...  [filmes, de, fotos, de, latão, não, é, uma, pa...\n",
              "\n",
              "[5 rows x 3 columns]"
            ]
          },
          "metadata": {
            "tags": []
          },
          "execution_count": 77
        }
      ]
    },
    {
      "cell_type": "markdown",
      "metadata": {
        "id": "qw73fkdPaty6",
        "colab_type": "text"
      },
      "source": [
        "## A partir desse momento o dataframe está:\n",
        "- Minúsculo\n",
        "- Sem caracteres especiais\n",
        "- Sem acento"
      ]
    },
    {
      "cell_type": "markdown",
      "metadata": {
        "id": "naLH1D-6WxAu",
        "colab_type": "text"
      },
      "source": [
        "## Remove Stopwords"
      ]
    },
    {
      "cell_type": "code",
      "metadata": {
        "id": "oTZ1jVYiWkNH",
        "colab_type": "code",
        "colab": {}
      },
      "source": [
        "def remove_stop_words( frase_tokenizada, stopwords_list_pt ):\n",
        "  return [ palavra for palavra in frase_tokenizada if palavra not in stopwords_list_pt ]\n"
      ],
      "execution_count": 79,
      "outputs": []
    },
    {
      "cell_type": "code",
      "metadata": {
        "id": "igQmXQP8WlPW",
        "colab_type": "code",
        "colab": {
          "base_uri": "https://localhost:8080/",
          "height": 306
        },
        "outputId": "4379cdcf-d6c2-4608-fea9-8dfa808829c3"
      },
      "source": [
        "df_imdb_pt2['token_pt'] = df_imdb_pt2['token_pt'].apply(remove_stop_words, stopwords_list_pt = stw_pt)\n",
        "\n",
        "# df_imdb_pt2['token_pt'].apply( remove_stop_words, stopwords_list_pt = stw_pt, inplace=True )\n",
        "df_imdb_pt2.head()"
      ],
      "execution_count": 80,
      "outputs": [
        {
          "output_type": "stream",
          "text": [
            "/usr/local/lib/python3.6/dist-packages/ipykernel_launcher.py:1: SettingWithCopyWarning: \n",
            "A value is trying to be set on a copy of a slice from a DataFrame.\n",
            "Try using .loc[row_indexer,col_indexer] = value instead\n",
            "\n",
            "See the caveats in the documentation: https://pandas.pydata.org/pandas-docs/stable/user_guide/indexing.html#returning-a-view-versus-a-copy\n",
            "  \"\"\"Entry point for launching an IPython kernel.\n"
          ],
          "name": "stderr"
        },
        {
          "output_type": "execute_result",
          "data": {
            "text/html": [
              "<div>\n",
              "<style scoped>\n",
              "    .dataframe tbody tr th:only-of-type {\n",
              "        vertical-align: middle;\n",
              "    }\n",
              "\n",
              "    .dataframe tbody tr th {\n",
              "        vertical-align: top;\n",
              "    }\n",
              "\n",
              "    .dataframe thead th {\n",
              "        text-align: right;\n",
              "    }\n",
              "</style>\n",
              "<table border=\"1\" class=\"dataframe\">\n",
              "  <thead>\n",
              "    <tr style=\"text-align: right;\">\n",
              "      <th></th>\n",
              "      <th>text_pt</th>\n",
              "      <th>sentiment</th>\n",
              "      <th>token_pt</th>\n",
              "    </tr>\n",
              "  </thead>\n",
              "  <tbody>\n",
              "    <tr>\n",
              "      <th>0</th>\n",
              "      <td>mais uma vez o sr costner arrumou um filme por...</td>\n",
              "      <td>0</td>\n",
              "      <td>[vez, sr., costner, arrumou, filme, tempo, nec...</td>\n",
              "    </tr>\n",
              "    <tr>\n",
              "      <th>1</th>\n",
              "      <td>este e um exemplo do motivo pelo qual a maiori...</td>\n",
              "      <td>0</td>\n",
              "      <td>[exemplo, motivo, maioria, filmes, ação, mesmo...</td>\n",
              "    </tr>\n",
              "    <tr>\n",
              "      <th>2</th>\n",
              "      <td>primeiro de tudo eu odeio esses raps imbecis q...</td>\n",
              "      <td>0</td>\n",
              "      <td>[primeiro, tudo, odeio, raps, imbecis, poderia...</td>\n",
              "    </tr>\n",
              "    <tr>\n",
              "      <th>3</th>\n",
              "      <td>nem mesmo os beatles puderam escrever musicas ...</td>\n",
              "      <td>0</td>\n",
              "      <td>[beatles, puderam, escrever, músicas, todos, g...</td>\n",
              "    </tr>\n",
              "    <tr>\n",
              "      <th>4</th>\n",
              "      <td>filmes de fotos de latao nao e uma palavra apr...</td>\n",
              "      <td>0</td>\n",
              "      <td>[filmes, fotos, latão, palavra, apropriada, ve...</td>\n",
              "    </tr>\n",
              "  </tbody>\n",
              "</table>\n",
              "</div>"
            ],
            "text/plain": [
              "                                             text_pt  ...                                           token_pt\n",
              "0  mais uma vez o sr costner arrumou um filme por...  ...  [vez, sr., costner, arrumou, filme, tempo, nec...\n",
              "1  este e um exemplo do motivo pelo qual a maiori...  ...  [exemplo, motivo, maioria, filmes, ação, mesmo...\n",
              "2  primeiro de tudo eu odeio esses raps imbecis q...  ...  [primeiro, tudo, odeio, raps, imbecis, poderia...\n",
              "3  nem mesmo os beatles puderam escrever musicas ...  ...  [beatles, puderam, escrever, músicas, todos, g...\n",
              "4  filmes de fotos de latao nao e uma palavra apr...  ...  [filmes, fotos, latão, palavra, apropriada, ve...\n",
              "\n",
              "[5 rows x 3 columns]"
            ]
          },
          "metadata": {
            "tags": []
          },
          "execution_count": 80
        }
      ]
    },
    {
      "cell_type": "markdown",
      "metadata": {
        "id": "7Obg9x03Xmeh",
        "colab_type": "text"
      },
      "source": [
        "## Aplicando Stemming"
      ]
    },
    {
      "cell_type": "code",
      "metadata": {
        "id": "_xzIVkNIWlMj",
        "colab_type": "code",
        "colab": {}
      },
      "source": [
        "from nltk.stem import RSLPStemmer\n",
        "\n",
        "def stemming_pt( frase_tokenizada, stemmer ):\n",
        "  frase = []\n",
        "  for palavra in frase_tokenizada:\n",
        "    frase.append( stemmer.stem(palavra) )\n",
        "\n",
        "  return frase"
      ],
      "execution_count": 81,
      "outputs": []
    },
    {
      "cell_type": "code",
      "metadata": {
        "id": "xInXhQIlmSiu",
        "colab_type": "code",
        "colab": {
          "base_uri": "https://localhost:8080/",
          "height": 119
        },
        "outputId": "47126ed6-b977-4ccd-e071-82cd345f0c65"
      },
      "source": [
        "df_imdb_pt2['token_pt'] = df_imdb_pt2['token_pt'].apply( stemming_pt, stemmer = stemmer )"
      ],
      "execution_count": 82,
      "outputs": [
        {
          "output_type": "stream",
          "text": [
            "/usr/local/lib/python3.6/dist-packages/ipykernel_launcher.py:1: SettingWithCopyWarning: \n",
            "A value is trying to be set on a copy of a slice from a DataFrame.\n",
            "Try using .loc[row_indexer,col_indexer] = value instead\n",
            "\n",
            "See the caveats in the documentation: https://pandas.pydata.org/pandas-docs/stable/user_guide/indexing.html#returning-a-view-versus-a-copy\n",
            "  \"\"\"Entry point for launching an IPython kernel.\n"
          ],
          "name": "stderr"
        }
      ]
    },
    {
      "cell_type": "code",
      "metadata": {
        "id": "iTabRh7iYmIE",
        "colab_type": "code",
        "colab": {
          "base_uri": "https://localhost:8080/",
          "height": 204
        },
        "outputId": "4686f643-3f96-415f-d463-971cda269fde"
      },
      "source": [
        "df_imdb_pt2.head()"
      ],
      "execution_count": 83,
      "outputs": [
        {
          "output_type": "execute_result",
          "data": {
            "text/html": [
              "<div>\n",
              "<style scoped>\n",
              "    .dataframe tbody tr th:only-of-type {\n",
              "        vertical-align: middle;\n",
              "    }\n",
              "\n",
              "    .dataframe tbody tr th {\n",
              "        vertical-align: top;\n",
              "    }\n",
              "\n",
              "    .dataframe thead th {\n",
              "        text-align: right;\n",
              "    }\n",
              "</style>\n",
              "<table border=\"1\" class=\"dataframe\">\n",
              "  <thead>\n",
              "    <tr style=\"text-align: right;\">\n",
              "      <th></th>\n",
              "      <th>text_pt</th>\n",
              "      <th>sentiment</th>\n",
              "      <th>token_pt</th>\n",
              "    </tr>\n",
              "  </thead>\n",
              "  <tbody>\n",
              "    <tr>\n",
              "      <th>0</th>\n",
              "      <td>mais uma vez o sr costner arrumou um filme por...</td>\n",
              "      <td>0</td>\n",
              "      <td>[vez, sr., costn, arrum, film, temp, necess, a...</td>\n",
              "    </tr>\n",
              "    <tr>\n",
              "      <th>1</th>\n",
              "      <td>este e um exemplo do motivo pelo qual a maiori...</td>\n",
              "      <td>0</td>\n",
              "      <td>[exempl, motiv, maior, film, açã, mesm, genér,...</td>\n",
              "    </tr>\n",
              "    <tr>\n",
              "      <th>2</th>\n",
              "      <td>primeiro de tudo eu odeio esses raps imbecis q...</td>\n",
              "      <td>0</td>\n",
              "      <td>[prim, tud, odei, rap, imbecil, pod, agir, arm...</td>\n",
              "    </tr>\n",
              "    <tr>\n",
              "      <th>3</th>\n",
              "      <td>nem mesmo os beatles puderam escrever musicas ...</td>\n",
              "      <td>0</td>\n",
              "      <td>[beatl, pud, escrev, músic, tod, gost, emb, wa...</td>\n",
              "    </tr>\n",
              "    <tr>\n",
              "      <th>4</th>\n",
              "      <td>filmes de fotos de latao nao e uma palavra apr...</td>\n",
              "      <td>0</td>\n",
              "      <td>[film, fot, lat, palavr, apropri, verdad, tant...</td>\n",
              "    </tr>\n",
              "  </tbody>\n",
              "</table>\n",
              "</div>"
            ],
            "text/plain": [
              "                                             text_pt  ...                                           token_pt\n",
              "0  mais uma vez o sr costner arrumou um filme por...  ...  [vez, sr., costn, arrum, film, temp, necess, a...\n",
              "1  este e um exemplo do motivo pelo qual a maiori...  ...  [exempl, motiv, maior, film, açã, mesm, genér,...\n",
              "2  primeiro de tudo eu odeio esses raps imbecis q...  ...  [prim, tud, odei, rap, imbecil, pod, agir, arm...\n",
              "3  nem mesmo os beatles puderam escrever musicas ...  ...  [beatl, pud, escrev, músic, tod, gost, emb, wa...\n",
              "4  filmes de fotos de latao nao e uma palavra apr...  ...  [film, fot, lat, palavr, apropri, verdad, tant...\n",
              "\n",
              "[5 rows x 3 columns]"
            ]
          },
          "metadata": {
            "tags": []
          },
          "execution_count": 83
        }
      ]
    },
    {
      "cell_type": "markdown",
      "metadata": {
        "id": "8bqX65HlazA9",
        "colab_type": "text"
      },
      "source": [
        "## BoW"
      ]
    },
    {
      "cell_type": "code",
      "metadata": {
        "id": "MuaWBLFua3Qc",
        "colab_type": "code",
        "colab": {}
      },
      "source": [
        "def reconstroi_frase( frase_tokenizada ):\n",
        "  return ' '.join( frase_tokenizada )"
      ],
      "execution_count": 84,
      "outputs": []
    },
    {
      "cell_type": "code",
      "metadata": {
        "id": "q-PaiiVabBiM",
        "colab_type": "code",
        "colab": {
          "base_uri": "https://localhost:8080/",
          "height": 204
        },
        "outputId": "5d221eeb-0fdf-40e8-d3e7-b8cf74892c54"
      },
      "source": [
        "df_imdb_pt2['processado_pt'] = df_imdb_pt2['token_pt'].apply( reconstroi_frase )\n",
        "df_imdb_pt2.head()"
      ],
      "execution_count": 85,
      "outputs": [
        {
          "output_type": "execute_result",
          "data": {
            "text/html": [
              "<div>\n",
              "<style scoped>\n",
              "    .dataframe tbody tr th:only-of-type {\n",
              "        vertical-align: middle;\n",
              "    }\n",
              "\n",
              "    .dataframe tbody tr th {\n",
              "        vertical-align: top;\n",
              "    }\n",
              "\n",
              "    .dataframe thead th {\n",
              "        text-align: right;\n",
              "    }\n",
              "</style>\n",
              "<table border=\"1\" class=\"dataframe\">\n",
              "  <thead>\n",
              "    <tr style=\"text-align: right;\">\n",
              "      <th></th>\n",
              "      <th>text_pt</th>\n",
              "      <th>sentiment</th>\n",
              "      <th>token_pt</th>\n",
              "      <th>processado_pt</th>\n",
              "    </tr>\n",
              "  </thead>\n",
              "  <tbody>\n",
              "    <tr>\n",
              "      <th>0</th>\n",
              "      <td>mais uma vez o sr costner arrumou um filme por...</td>\n",
              "      <td>0</td>\n",
              "      <td>[vez, sr., costn, arrum, film, temp, necess, a...</td>\n",
              "      <td>vez sr. costn arrum film temp necess além terr...</td>\n",
              "    </tr>\n",
              "    <tr>\n",
              "      <th>1</th>\n",
              "      <td>este e um exemplo do motivo pelo qual a maiori...</td>\n",
              "      <td>0</td>\n",
              "      <td>[exempl, motiv, maior, film, açã, mesm, genér,...</td>\n",
              "      <td>exempl motiv maior film açã mesm genér chat na...</td>\n",
              "    </tr>\n",
              "    <tr>\n",
              "      <th>2</th>\n",
              "      <td>primeiro de tudo eu odeio esses raps imbecis q...</td>\n",
              "      <td>0</td>\n",
              "      <td>[prim, tud, odei, rap, imbecil, pod, agir, arm...</td>\n",
              "      <td>prim tud odei rap imbecil pod agir arm pressio...</td>\n",
              "    </tr>\n",
              "    <tr>\n",
              "      <th>3</th>\n",
              "      <td>nem mesmo os beatles puderam escrever musicas ...</td>\n",
              "      <td>0</td>\n",
              "      <td>[beatl, pud, escrev, músic, tod, gost, emb, wa...</td>\n",
              "      <td>beatl pud escrev músic tod gost emb walt hill ...</td>\n",
              "    </tr>\n",
              "    <tr>\n",
              "      <th>4</th>\n",
              "      <td>filmes de fotos de latao nao e uma palavra apr...</td>\n",
              "      <td>0</td>\n",
              "      <td>[film, fot, lat, palavr, apropri, verdad, tant...</td>\n",
              "      <td>film fot lat palavr apropri verdad tant ous qu...</td>\n",
              "    </tr>\n",
              "  </tbody>\n",
              "</table>\n",
              "</div>"
            ],
            "text/plain": [
              "                                             text_pt  ...                                      processado_pt\n",
              "0  mais uma vez o sr costner arrumou um filme por...  ...  vez sr. costn arrum film temp necess além terr...\n",
              "1  este e um exemplo do motivo pelo qual a maiori...  ...  exempl motiv maior film açã mesm genér chat na...\n",
              "2  primeiro de tudo eu odeio esses raps imbecis q...  ...  prim tud odei rap imbecil pod agir arm pressio...\n",
              "3  nem mesmo os beatles puderam escrever musicas ...  ...  beatl pud escrev músic tod gost emb walt hill ...\n",
              "4  filmes de fotos de latao nao e uma palavra apr...  ...  film fot lat palavr apropri verdad tant ous qu...\n",
              "\n",
              "[5 rows x 4 columns]"
            ]
          },
          "metadata": {
            "tags": []
          },
          "execution_count": 85
        }
      ]
    },
    {
      "cell_type": "code",
      "metadata": {
        "id": "suWOXVIlcLwk",
        "colab_type": "code",
        "colab": {}
      },
      "source": [
        "x = df_imdb_pt2['processado_pt'].values\n",
        "y = df_imdb_pt2['sentiment'].values"
      ],
      "execution_count": 86,
      "outputs": []
    },
    {
      "cell_type": "code",
      "metadata": {
        "id": "iuxvN0BocPtN",
        "colab_type": "code",
        "colab": {}
      },
      "source": [
        "x"
      ],
      "execution_count": null,
      "outputs": []
    },
    {
      "cell_type": "code",
      "metadata": {
        "id": "RHQOLYEncQs0",
        "colab_type": "code",
        "colab": {}
      },
      "source": [
        "from sklearn.model_selection import train_test_split\n",
        "\n",
        "x_treino, x_test, y_treino, y_test  = train_test_split( x, y, test_size = 0.25 )"
      ],
      "execution_count": 88,
      "outputs": []
    },
    {
      "cell_type": "code",
      "metadata": {
        "id": "vmpXfa4jcVfx",
        "colab_type": "code",
        "colab": {}
      },
      "source": [
        "from sklearn.feature_extraction.text import CountVectorizer\n",
        "\n",
        "vect = CountVectorizer(analyzer='word',)"
      ],
      "execution_count": 89,
      "outputs": []
    },
    {
      "cell_type": "code",
      "metadata": {
        "id": "Gl70hSLNcZi8",
        "colab_type": "code",
        "colab": {
          "base_uri": "https://localhost:8080/",
          "height": 119
        },
        "outputId": "b46df271-5c22-43c4-9bf4-9059518aa267"
      },
      "source": [
        "vect.fit(x_treino)"
      ],
      "execution_count": 90,
      "outputs": [
        {
          "output_type": "execute_result",
          "data": {
            "text/plain": [
              "CountVectorizer(analyzer='word', binary=False, decode_error='strict',\n",
              "                dtype=<class 'numpy.int64'>, encoding='utf-8', input='content',\n",
              "                lowercase=True, max_df=1.0, max_features=None, min_df=1,\n",
              "                ngram_range=(1, 1), preprocessor=None, stop_words=None,\n",
              "                strip_accents=None, token_pattern='(?u)\\\\b\\\\w\\\\w+\\\\b',\n",
              "                tokenizer=None, vocabulary=None)"
            ]
          },
          "metadata": {
            "tags": []
          },
          "execution_count": 90
        }
      ]
    },
    {
      "cell_type": "code",
      "metadata": {
        "id": "coEObzSgchQw",
        "colab_type": "code",
        "colab": {}
      },
      "source": [
        "bow_x_treino = vect.transform(x_treino)\n",
        "bow_x_test = vect.transform(x_test)"
      ],
      "execution_count": 91,
      "outputs": []
    },
    {
      "cell_type": "code",
      "metadata": {
        "id": "VAVr0iFxchmp",
        "colab_type": "code",
        "colab": {
          "base_uri": "https://localhost:8080/",
          "height": 34
        },
        "outputId": "d30db4c8-2122-4269-ecb3-39c189014119"
      },
      "source": [
        "bow_x_treino.shape"
      ],
      "execution_count": 92,
      "outputs": [
        {
          "output_type": "execute_result",
          "data": {
            "text/plain": [
              "(37094, 68195)"
            ]
          },
          "metadata": {
            "tags": []
          },
          "execution_count": 92
        }
      ]
    },
    {
      "cell_type": "code",
      "metadata": {
        "id": "piFTRGv-chvE",
        "colab_type": "code",
        "colab": {}
      },
      "source": [
        "from sklearn.naive_bayes import MultinomialNB\n",
        "model = MultinomialNB()"
      ],
      "execution_count": 93,
      "outputs": []
    },
    {
      "cell_type": "code",
      "metadata": {
        "id": "dqR23TEWcqhB",
        "colab_type": "code",
        "colab": {
          "base_uri": "https://localhost:8080/",
          "height": 34
        },
        "outputId": "773626a6-f624-4d73-aed8-c2d8658eb978"
      },
      "source": [
        "model.fit( bow_x_treino, y_treino )"
      ],
      "execution_count": 94,
      "outputs": [
        {
          "output_type": "execute_result",
          "data": {
            "text/plain": [
              "MultinomialNB(alpha=1.0, class_prior=None, fit_prior=True)"
            ]
          },
          "metadata": {
            "tags": []
          },
          "execution_count": 94
        }
      ]
    },
    {
      "cell_type": "code",
      "metadata": {
        "id": "wAaK9Ln3cwaR",
        "colab_type": "code",
        "colab": {
          "base_uri": "https://localhost:8080/",
          "height": 136
        },
        "outputId": "419f1ec8-cd44-4b5f-f521-67f723e54d12"
      },
      "source": [
        "texto_teste = ['O melhor filme da minha vida. Incrível!',\n",
        "               'O produtor realmente errou feito, filme muito ruim.',\n",
        "               'Adorei o filme, assisti três vezes!',\n",
        "               'Filme mediano... roteiro ótimo.',\n",
        "               'Horrivel',\n",
        "               'Nota 10!',\n",
        "               'ok'\n",
        "               'top']\n",
        "\n",
        "bow_texto_teste = vect.transform(texto_teste)\n",
        "\n",
        "saida_texto_teste = model.predict(bow_texto_teste)\n",
        "dict_resposta = {0:'negativo', 1:'positivo'}\n",
        "\n",
        "for i in saida_texto_teste:\n",
        "  print(dict_resposta[i])\n",
        "\n",
        "#Deu ruim póis é necessário adicionar o pré-processamento nos valores de teste tb"
      ],
      "execution_count": 101,
      "outputs": [
        {
          "output_type": "stream",
          "text": [
            "positivo\n",
            "negativo\n",
            "positivo\n",
            "negativo\n",
            "negativo\n",
            "negativo\n",
            "negativo\n"
          ],
          "name": "stdout"
        }
      ]
    },
    {
      "cell_type": "code",
      "metadata": {
        "id": "c_RMnRDY1-bP",
        "colab_type": "code",
        "colab": {}
      },
      "source": [
        ""
      ],
      "execution_count": null,
      "outputs": []
    }
  ]
}