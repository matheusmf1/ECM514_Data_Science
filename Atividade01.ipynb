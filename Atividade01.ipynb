{
  "nbformat": 4,
  "nbformat_minor": 0,
  "metadata": {
    "colab": {
      "name": "Atividade01.ipynb",
      "provenance": [],
      "collapsed_sections": [],
      "toc_visible": true,
      "mount_file_id": "11Tyvy3LGJ9jfDrWdXdKw3cHoERYJvZ0u",
      "authorship_tag": "ABX9TyMo+VOOwIuRQMnMK/ebyAbl",
      "include_colab_link": true
    },
    "kernelspec": {
      "name": "python3",
      "display_name": "Python 3"
    },
    "accelerator": "GPU"
  },
  "cells": [
    {
      "cell_type": "markdown",
      "metadata": {
        "id": "view-in-github",
        "colab_type": "text"
      },
      "source": [
        "<a href=\"https://colab.research.google.com/github/matheusmf1/ECM514_Data_Science/blob/master/Atividade01.ipynb\" target=\"_parent\"><img src=\"https://colab.research.google.com/assets/colab-badge.svg\" alt=\"Open In Colab\"/></a>"
      ]
    },
    {
      "cell_type": "markdown",
      "metadata": {
        "id": "AzYtahTOX21i",
        "colab_type": "text"
      },
      "source": [
        "# Atividade 01 - Matheus Mandotti RA: 16.00177-0"
      ]
    },
    {
      "cell_type": "markdown",
      "metadata": {
        "id": "vlHjGEdRYp8q",
        "colab_type": "text"
      },
      "source": [
        "# Extrair 20 informações:\n",
        "- IDH das cidades: média, máximo, mínimo\n",
        "- Comparar Graficamente os idh's e plotar \n",
        "- Comparar renda\n",
        "- Procurar mais informações que agreguem valor"
      ]
    },
    {
      "cell_type": "markdown",
      "metadata": {
        "id": "buNO5XwvMbnj",
        "colab_type": "text"
      },
      "source": [
        "## Imports"
      ]
    },
    {
      "cell_type": "code",
      "metadata": {
        "id": "X9bfAxUGX2Ie",
        "colab_type": "code",
        "colab": {}
      },
      "source": [
        "import pandas as pd\n",
        "import numpy as np\n",
        "import seaborn as sns\n",
        "import matplotlib.pyplot as plt"
      ],
      "execution_count": 0,
      "outputs": []
    },
    {
      "cell_type": "markdown",
      "metadata": {
        "id": "Bom6ThOmMTai",
        "colab_type": "text"
      },
      "source": [
        "## Importação dos dados"
      ]
    },
    {
      "cell_type": "code",
      "metadata": {
        "id": "Gv0CXn5xMNoK",
        "colab_type": "code",
        "colab": {}
      },
      "source": [
        "# sep is necessary to read the file, as like the files in excel are divided using ;\n",
        "\n",
        "# Importaremos o CSV BRAZIL_CITIES\n",
        "br_cities = pd.read_csv('/content/drive/My Drive/Colab Notebooks/Data Science Class/DataSets/Atividade01/BRAZIL_CITIES.csv', delimiter =';', decimal =',')\n",
        "\n",
        "# Importaremos o CSV Data_dictionary\n",
        "data = pd.read_csv('/content/drive/My Drive/Colab Notebooks/Data Science Class/DataSets/Atividade01/Data_Dictionary.csv', sep=\";\") "
      ],
      "execution_count": 0,
      "outputs": []
    },
    {
      "cell_type": "markdown",
      "metadata": {
        "id": "3svNAzDfMlAa",
        "colab_type": "text"
      },
      "source": [
        "## Overview dos dados"
      ]
    },
    {
      "cell_type": "code",
      "metadata": {
        "id": "NDDhOCvidzFs",
        "colab_type": "code",
        "colab": {
          "base_uri": "https://localhost:8080/",
          "height": 256
        },
        "outputId": "e920ffd0-7438-4ca5-eee5-7551bf587f2b"
      },
      "source": [
        "data.rename( columns = { 'WALLMART' : 'WAL-MART' }, inplace = True )\n",
        "\n",
        "data[ [ 'FIELD', 'DESCRIPTION' ] ].apply( lambda x: x.dropna() ).transpose()"
      ],
      "execution_count": 3,
      "outputs": [
        {
          "output_type": "execute_result",
          "data": {
            "text/html": [
              "<div>\n",
              "<style scoped>\n",
              "    .dataframe tbody tr th:only-of-type {\n",
              "        vertical-align: middle;\n",
              "    }\n",
              "\n",
              "    .dataframe tbody tr th {\n",
              "        vertical-align: top;\n",
              "    }\n",
              "\n",
              "    .dataframe thead th {\n",
              "        text-align: right;\n",
              "    }\n",
              "</style>\n",
              "<table border=\"1\" class=\"dataframe\">\n",
              "  <thead>\n",
              "    <tr style=\"text-align: right;\">\n",
              "      <th></th>\n",
              "      <th>0</th>\n",
              "      <th>1</th>\n",
              "      <th>2</th>\n",
              "      <th>3</th>\n",
              "      <th>4</th>\n",
              "      <th>5</th>\n",
              "      <th>6</th>\n",
              "      <th>7</th>\n",
              "      <th>8</th>\n",
              "      <th>9</th>\n",
              "      <th>10</th>\n",
              "      <th>11</th>\n",
              "      <th>12</th>\n",
              "      <th>13</th>\n",
              "      <th>14</th>\n",
              "      <th>15</th>\n",
              "      <th>16</th>\n",
              "      <th>17</th>\n",
              "      <th>18</th>\n",
              "      <th>19</th>\n",
              "      <th>20</th>\n",
              "      <th>21</th>\n",
              "      <th>22</th>\n",
              "      <th>23</th>\n",
              "      <th>24</th>\n",
              "      <th>25</th>\n",
              "      <th>26</th>\n",
              "      <th>27</th>\n",
              "      <th>28</th>\n",
              "      <th>29</th>\n",
              "      <th>30</th>\n",
              "      <th>31</th>\n",
              "      <th>32</th>\n",
              "      <th>33</th>\n",
              "      <th>34</th>\n",
              "      <th>35</th>\n",
              "      <th>36</th>\n",
              "      <th>37</th>\n",
              "      <th>38</th>\n",
              "      <th>39</th>\n",
              "      <th>...</th>\n",
              "      <th>41</th>\n",
              "      <th>42</th>\n",
              "      <th>43</th>\n",
              "      <th>44</th>\n",
              "      <th>45</th>\n",
              "      <th>46</th>\n",
              "      <th>47</th>\n",
              "      <th>48</th>\n",
              "      <th>49</th>\n",
              "      <th>50</th>\n",
              "      <th>51</th>\n",
              "      <th>52</th>\n",
              "      <th>53</th>\n",
              "      <th>54</th>\n",
              "      <th>55</th>\n",
              "      <th>56</th>\n",
              "      <th>57</th>\n",
              "      <th>58</th>\n",
              "      <th>59</th>\n",
              "      <th>60</th>\n",
              "      <th>61</th>\n",
              "      <th>62</th>\n",
              "      <th>63</th>\n",
              "      <th>64</th>\n",
              "      <th>65</th>\n",
              "      <th>66</th>\n",
              "      <th>67</th>\n",
              "      <th>68</th>\n",
              "      <th>69</th>\n",
              "      <th>70</th>\n",
              "      <th>71</th>\n",
              "      <th>72</th>\n",
              "      <th>73</th>\n",
              "      <th>74</th>\n",
              "      <th>75</th>\n",
              "      <th>76</th>\n",
              "      <th>77</th>\n",
              "      <th>78</th>\n",
              "      <th>79</th>\n",
              "      <th>80</th>\n",
              "    </tr>\n",
              "  </thead>\n",
              "  <tbody>\n",
              "    <tr>\n",
              "      <th>FIELD</th>\n",
              "      <td>CITY</td>\n",
              "      <td>STATE</td>\n",
              "      <td>CAPITAL</td>\n",
              "      <td>IBGE_RES_POP</td>\n",
              "      <td>IBGE_RES_POP_BRAS</td>\n",
              "      <td>IBGE_RES_POP_ESTR</td>\n",
              "      <td>IBGE_DU</td>\n",
              "      <td>IBGE_DU_URBAN</td>\n",
              "      <td>IBGE_DU_RURAL</td>\n",
              "      <td>IBGE_POP</td>\n",
              "      <td>IBGE_1</td>\n",
              "      <td>IBGE_1-4</td>\n",
              "      <td>IBGE_5-9</td>\n",
              "      <td>IBGE_10-14</td>\n",
              "      <td>IBGE_15-59</td>\n",
              "      <td>IBGE_60+</td>\n",
              "      <td>IBGE_PLANTED_AREA</td>\n",
              "      <td>IBGE_CROP_PRODUCTION_$</td>\n",
              "      <td>IDHM Ranking</td>\n",
              "      <td>IDHM</td>\n",
              "      <td>IDHM_Renda</td>\n",
              "      <td>IDHM_Longevidade</td>\n",
              "      <td>IDHM_Educacao</td>\n",
              "      <td>LONG</td>\n",
              "      <td>LAT</td>\n",
              "      <td>ALT</td>\n",
              "      <td>PAY_TV</td>\n",
              "      <td>FIXED_PHONES</td>\n",
              "      <td>AREA</td>\n",
              "      <td>REGIAO_TUR</td>\n",
              "      <td>CATEGORIA_TUR</td>\n",
              "      <td>ESTIMATED_POP</td>\n",
              "      <td>RURAL_URBAN</td>\n",
              "      <td>GVA_AGROPEC</td>\n",
              "      <td>GVA_INDUSTRY</td>\n",
              "      <td>GVA_SERVICES</td>\n",
              "      <td>GVA_PUBLIC</td>\n",
              "      <td>GVA_TOTAL</td>\n",
              "      <td>TAXES</td>\n",
              "      <td>GDP</td>\n",
              "      <td>...</td>\n",
              "      <td>GDP_CAPITA</td>\n",
              "      <td>GVA_MAIN</td>\n",
              "      <td>MUN_EXPENDIT</td>\n",
              "      <td>COMP_TOT</td>\n",
              "      <td>COMP_A</td>\n",
              "      <td>COMP_B</td>\n",
              "      <td>COMP_C</td>\n",
              "      <td>COMP_D</td>\n",
              "      <td>COMP_E</td>\n",
              "      <td>COMP_F</td>\n",
              "      <td>COMP_G</td>\n",
              "      <td>COMP_H</td>\n",
              "      <td>COMP_I</td>\n",
              "      <td>COMP_J</td>\n",
              "      <td>COMP_K</td>\n",
              "      <td>COMP_L</td>\n",
              "      <td>COMP_M</td>\n",
              "      <td>COMP_N</td>\n",
              "      <td>COMP_O</td>\n",
              "      <td>COMP_P</td>\n",
              "      <td>COMP_Q</td>\n",
              "      <td>COMP_R</td>\n",
              "      <td>COMP_S</td>\n",
              "      <td>COMP_T</td>\n",
              "      <td>COMP_U</td>\n",
              "      <td>HOTELS</td>\n",
              "      <td>BEDS</td>\n",
              "      <td>Pr_Agencies</td>\n",
              "      <td>Pu_Agencies</td>\n",
              "      <td>Pr_Bank</td>\n",
              "      <td>Pu_Bank</td>\n",
              "      <td>Pr_Assets</td>\n",
              "      <td>Pu_Assets</td>\n",
              "      <td>Cars</td>\n",
              "      <td>Motorcycles</td>\n",
              "      <td>Wheeled_tractor</td>\n",
              "      <td>UBER</td>\n",
              "      <td>MAC</td>\n",
              "      <td>WALLMART</td>\n",
              "      <td>POST_OFFICES</td>\n",
              "    </tr>\n",
              "    <tr>\n",
              "      <th>DESCRIPTION</th>\n",
              "      <td>Name of the City</td>\n",
              "      <td>Name of the State</td>\n",
              "      <td>1 if Capital of State</td>\n",
              "      <td>Resident Population</td>\n",
              "      <td>Resident Population Brazilian</td>\n",
              "      <td>Redident Population Foreigners</td>\n",
              "      <td>Domestic Units Total</td>\n",
              "      <td>Domestic Units Urban</td>\n",
              "      <td>Domestic Units Rural</td>\n",
              "      <td>Resident Population Regular Urban Planning</td>\n",
              "      <td>Resident Population Regular Urban Planning - u...</td>\n",
              "      <td>Resident Population Regular Urban Planning - f...</td>\n",
              "      <td>Resident Population Regular Urban Planning - f...</td>\n",
              "      <td>Resident Population Regular Urban Planning - f...</td>\n",
              "      <td>Resident Population Regular Urban Planning - f...</td>\n",
              "      <td>Resident Population Regular Urban Planning - a...</td>\n",
              "      <td>Planted Area (hectares)</td>\n",
              "      <td>Crop Production</td>\n",
              "      <td>HDI Ranking</td>\n",
              "      <td>HDI Human Development Index</td>\n",
              "      <td>HDI GNI Index</td>\n",
              "      <td>HDI Life Expectancy index</td>\n",
              "      <td>HDI Education index</td>\n",
              "      <td>City Latitude</td>\n",
              "      <td>City Longitude</td>\n",
              "      <td>City Elevation (meters)</td>\n",
              "      <td>PayTV users</td>\n",
              "      <td>Fixed Fones (not cell phones) users</td>\n",
              "      <td>City area (squared kilometers)</td>\n",
              "      <td>Turism Category Region</td>\n",
              "      <td>Turism Category</td>\n",
              "      <td>Estimated Population</td>\n",
              "      <td>Rural or Urban Tipology</td>\n",
              "      <td>Gross Added Value - Agropecuary</td>\n",
              "      <td>Gross Added Value - Industry</td>\n",
              "      <td>Gross Added Value - Services</td>\n",
              "      <td>Gross Added Value - Public Services</td>\n",
              "      <td>Total Gross Added Value</td>\n",
              "      <td>Taxes</td>\n",
              "      <td>Gross Domestic Product</td>\n",
              "      <td>...</td>\n",
              "      <td>Gross Domestic Product per capita</td>\n",
              "      <td>Activity with higher GVA contribution</td>\n",
              "      <td>Municipal expenditures - in reais</td>\n",
              "      <td>Total number of companies</td>\n",
              "      <td>Number of Companies: Agriculture, livestock, f...</td>\n",
              "      <td>Number of Companies: Extractive industries</td>\n",
              "      <td>Number of Companies: Industries of transformation</td>\n",
              "      <td>Number of Companies: Electricity and gas</td>\n",
              "      <td>Number of Companies: Water, sewage, waste mana...</td>\n",
              "      <td>Number of Companies: Construction</td>\n",
              "      <td>Number of Companies: Trade; repair of motor ve...</td>\n",
              "      <td>Number of Companies: Transport, storage and mail</td>\n",
              "      <td>Number of Companies: Accommodation and food</td>\n",
              "      <td>Number of Companies: Information and communica...</td>\n",
              "      <td>Number of Companies: Financial, insurance and ...</td>\n",
              "      <td>Number of Companies: Real estate activities</td>\n",
              "      <td>Number of Companies: Professional, scientific ...</td>\n",
              "      <td>Number of Companies: Administrative activities...</td>\n",
              "      <td>Number of Companies: Public administration, de...</td>\n",
              "      <td>Number of Companies: Education</td>\n",
              "      <td>Number of Companies: Human health and social s...</td>\n",
              "      <td>Number of Companies: Arts, culture, sport and ...</td>\n",
              "      <td>Number of Companies: Other service activities</td>\n",
              "      <td>Number of Companies: Domestic services</td>\n",
              "      <td>Number of Companies: International and other e...</td>\n",
              "      <td>Total number of hotels</td>\n",
              "      <td>Toal number of hotel beds</td>\n",
              "      <td>Total number of private bank agencies</td>\n",
              "      <td>Total number of public bank agencies</td>\n",
              "      <td>Total number of private banks</td>\n",
              "      <td>Total number of public banks</td>\n",
              "      <td>Total amount of private bank assets</td>\n",
              "      <td>Total amount of public bank assets</td>\n",
              "      <td>Total number of cars</td>\n",
              "      <td>Total number of motorcycles, scooters, moped</td>\n",
              "      <td>Total number of wheeled tractors</td>\n",
              "      <td>1 if UBER</td>\n",
              "      <td>Total number of Mac Donalds stores</td>\n",
              "      <td>Total number of Walmart Stores</td>\n",
              "      <td>Total number of post offices</td>\n",
              "    </tr>\n",
              "  </tbody>\n",
              "</table>\n",
              "<p>2 rows × 81 columns</p>\n",
              "</div>"
            ],
            "text/plain": [
              "                           0   ...                            80\n",
              "FIELD                    CITY  ...                  POST_OFFICES\n",
              "DESCRIPTION  Name of the City  ...  Total number of post offices\n",
              "\n",
              "[2 rows x 81 columns]"
            ]
          },
          "metadata": {
            "tags": []
          },
          "execution_count": 3
        }
      ]
    },
    {
      "cell_type": "code",
      "metadata": {
        "id": "10QhTBShfUJe",
        "colab_type": "code",
        "outputId": "e7f1c760-7085-437b-dd92-5701f3f41628",
        "colab": {
          "base_uri": "https://localhost:8080/",
          "height": 397
        }
      },
      "source": [
        "# Mostra um overview das 5 primeiras linhas\n",
        "br_cities.head()"
      ],
      "execution_count": 11,
      "outputs": [
        {
          "output_type": "execute_result",
          "data": {
            "text/html": [
              "<div>\n",
              "<style scoped>\n",
              "    .dataframe tbody tr th:only-of-type {\n",
              "        vertical-align: middle;\n",
              "    }\n",
              "\n",
              "    .dataframe tbody tr th {\n",
              "        vertical-align: top;\n",
              "    }\n",
              "\n",
              "    .dataframe thead th {\n",
              "        text-align: right;\n",
              "    }\n",
              "</style>\n",
              "<table border=\"1\" class=\"dataframe\">\n",
              "  <thead>\n",
              "    <tr style=\"text-align: right;\">\n",
              "      <th></th>\n",
              "      <th>CITY</th>\n",
              "      <th>STATE</th>\n",
              "      <th>CAPITAL</th>\n",
              "      <th>IBGE_RES_POP</th>\n",
              "      <th>IBGE_RES_POP_BRAS</th>\n",
              "      <th>IBGE_RES_POP_ESTR</th>\n",
              "      <th>IBGE_DU</th>\n",
              "      <th>IBGE_DU_URBAN</th>\n",
              "      <th>IBGE_DU_RURAL</th>\n",
              "      <th>IBGE_POP</th>\n",
              "      <th>IBGE_1</th>\n",
              "      <th>IBGE_1-4</th>\n",
              "      <th>IBGE_5-9</th>\n",
              "      <th>IBGE_10-14</th>\n",
              "      <th>IBGE_15-59</th>\n",
              "      <th>IBGE_60+</th>\n",
              "      <th>IBGE_PLANTED_AREA</th>\n",
              "      <th>IBGE_CROP_PRODUCTION_$</th>\n",
              "      <th>IDHM Ranking 2010</th>\n",
              "      <th>IDHM</th>\n",
              "      <th>IDHM_Renda</th>\n",
              "      <th>IDHM_Longevidade</th>\n",
              "      <th>IDHM_Educacao</th>\n",
              "      <th>LONG</th>\n",
              "      <th>LAT</th>\n",
              "      <th>ALT</th>\n",
              "      <th>PAY_TV</th>\n",
              "      <th>FIXED_PHONES</th>\n",
              "      <th>AREA</th>\n",
              "      <th>REGIAO_TUR</th>\n",
              "      <th>CATEGORIA_TUR</th>\n",
              "      <th>ESTIMATED_POP</th>\n",
              "      <th>RURAL_URBAN</th>\n",
              "      <th>GVA_AGROPEC</th>\n",
              "      <th>GVA_INDUSTRY</th>\n",
              "      <th>GVA_SERVICES</th>\n",
              "      <th>GVA_PUBLIC</th>\n",
              "      <th>GVA_TOTAL</th>\n",
              "      <th>TAXES</th>\n",
              "      <th>GDP</th>\n",
              "      <th>...</th>\n",
              "      <th>GDP_CAPITA</th>\n",
              "      <th>GVA_MAIN</th>\n",
              "      <th>MUN_EXPENDIT</th>\n",
              "      <th>COMP_TOT</th>\n",
              "      <th>COMP_A</th>\n",
              "      <th>COMP_B</th>\n",
              "      <th>COMP_C</th>\n",
              "      <th>COMP_D</th>\n",
              "      <th>COMP_E</th>\n",
              "      <th>COMP_F</th>\n",
              "      <th>COMP_G</th>\n",
              "      <th>COMP_H</th>\n",
              "      <th>COMP_I</th>\n",
              "      <th>COMP_J</th>\n",
              "      <th>COMP_K</th>\n",
              "      <th>COMP_L</th>\n",
              "      <th>COMP_M</th>\n",
              "      <th>COMP_N</th>\n",
              "      <th>COMP_O</th>\n",
              "      <th>COMP_P</th>\n",
              "      <th>COMP_Q</th>\n",
              "      <th>COMP_R</th>\n",
              "      <th>COMP_S</th>\n",
              "      <th>COMP_T</th>\n",
              "      <th>COMP_U</th>\n",
              "      <th>HOTELS</th>\n",
              "      <th>BEDS</th>\n",
              "      <th>Pr_Agencies</th>\n",
              "      <th>Pu_Agencies</th>\n",
              "      <th>Pr_Bank</th>\n",
              "      <th>Pu_Bank</th>\n",
              "      <th>Pr_Assets</th>\n",
              "      <th>Pu_Assets</th>\n",
              "      <th>Cars</th>\n",
              "      <th>Motorcycles</th>\n",
              "      <th>Wheeled_tractor</th>\n",
              "      <th>UBER</th>\n",
              "      <th>MAC</th>\n",
              "      <th>WAL-MART</th>\n",
              "      <th>POST_OFFICES</th>\n",
              "    </tr>\n",
              "  </thead>\n",
              "  <tbody>\n",
              "    <tr>\n",
              "      <th>0</th>\n",
              "      <td>São Paulo</td>\n",
              "      <td>SP</td>\n",
              "      <td>1</td>\n",
              "      <td>11253503.0</td>\n",
              "      <td>11133776.0</td>\n",
              "      <td>119727.0</td>\n",
              "      <td>3576148.0</td>\n",
              "      <td>3548433.0</td>\n",
              "      <td>27715.0</td>\n",
              "      <td>10463636.0</td>\n",
              "      <td>129464.0</td>\n",
              "      <td>514794.0</td>\n",
              "      <td>684443.0</td>\n",
              "      <td>783702.0</td>\n",
              "      <td>7058221.0</td>\n",
              "      <td>1293012.0</td>\n",
              "      <td>94.0</td>\n",
              "      <td>1134.0</td>\n",
              "      <td>28.0</td>\n",
              "      <td>0.805</td>\n",
              "      <td>0.843</td>\n",
              "      <td>0.855</td>\n",
              "      <td>0.725</td>\n",
              "      <td>-46.570383</td>\n",
              "      <td>-23.567386</td>\n",
              "      <td>783.62</td>\n",
              "      <td>2047668.0</td>\n",
              "      <td>5543127.0</td>\n",
              "      <td>1521.11</td>\n",
              "      <td>Capital</td>\n",
              "      <td>A</td>\n",
              "      <td>12176866.0</td>\n",
              "      <td>Urbano</td>\n",
              "      <td>43867.07</td>\n",
              "      <td>63306754.97</td>\n",
              "      <td>4.646570e+08</td>\n",
              "      <td>41902892.72</td>\n",
              "      <td>5.699105e+08</td>\n",
              "      <td>1.171254e+08</td>\n",
              "      <td>6.870359e+08</td>\n",
              "      <td>...</td>\n",
              "      <td>57071.43</td>\n",
              "      <td>Demais serviços</td>\n",
              "      <td>4.577250e+10</td>\n",
              "      <td>530446.0</td>\n",
              "      <td>739.0</td>\n",
              "      <td>79.0</td>\n",
              "      <td>31566.0</td>\n",
              "      <td>332.0</td>\n",
              "      <td>657.0</td>\n",
              "      <td>25222.0</td>\n",
              "      <td>150633.0</td>\n",
              "      <td>19515.0</td>\n",
              "      <td>29290.0</td>\n",
              "      <td>38720.0</td>\n",
              "      <td>23738.0</td>\n",
              "      <td>14003.0</td>\n",
              "      <td>49181.0</td>\n",
              "      <td>76757.0</td>\n",
              "      <td>153.0</td>\n",
              "      <td>16030.0</td>\n",
              "      <td>22248.0</td>\n",
              "      <td>6687.0</td>\n",
              "      <td>24832.0</td>\n",
              "      <td>0.0</td>\n",
              "      <td>64.0</td>\n",
              "      <td>57.0</td>\n",
              "      <td>10022.0</td>\n",
              "      <td>1693.0</td>\n",
              "      <td>626.0</td>\n",
              "      <td>83.0</td>\n",
              "      <td>8.0</td>\n",
              "      <td>1.947077e+13</td>\n",
              "      <td>2.893261e+12</td>\n",
              "      <td>5740995.0</td>\n",
              "      <td>1134570.0</td>\n",
              "      <td>3236.0</td>\n",
              "      <td>1.0</td>\n",
              "      <td>130.0</td>\n",
              "      <td>7.0</td>\n",
              "      <td>225.0</td>\n",
              "    </tr>\n",
              "    <tr>\n",
              "      <th>1</th>\n",
              "      <td>Osasco</td>\n",
              "      <td>SP</td>\n",
              "      <td>0</td>\n",
              "      <td>666740.0</td>\n",
              "      <td>664447.0</td>\n",
              "      <td>2293.0</td>\n",
              "      <td>202009.0</td>\n",
              "      <td>202009.0</td>\n",
              "      <td>NaN</td>\n",
              "      <td>616068.0</td>\n",
              "      <td>8089.0</td>\n",
              "      <td>32305.0</td>\n",
              "      <td>42733.0</td>\n",
              "      <td>49379.0</td>\n",
              "      <td>420590.0</td>\n",
              "      <td>62972.0</td>\n",
              "      <td>0.0</td>\n",
              "      <td>0.0</td>\n",
              "      <td>174.0</td>\n",
              "      <td>0.780</td>\n",
              "      <td>0.776</td>\n",
              "      <td>0.840</td>\n",
              "      <td>0.718</td>\n",
              "      <td>-46.788810</td>\n",
              "      <td>-23.533612</td>\n",
              "      <td>742.97</td>\n",
              "      <td>98664.0</td>\n",
              "      <td>231302.0</td>\n",
              "      <td>64954.00</td>\n",
              "      <td>Negócios E Cultura</td>\n",
              "      <td>B</td>\n",
              "      <td>696850.0</td>\n",
              "      <td>Urbano</td>\n",
              "      <td>947.16</td>\n",
              "      <td>3036.39</td>\n",
              "      <td>5.311143e+07</td>\n",
              "      <td>2627577.24</td>\n",
              "      <td>5.877635e+07</td>\n",
              "      <td>1.562634e+07</td>\n",
              "      <td>7.440269e+07</td>\n",
              "      <td>...</td>\n",
              "      <td>106841.78</td>\n",
              "      <td>Demais serviços</td>\n",
              "      <td>1.758451e+09</td>\n",
              "      <td>15315.0</td>\n",
              "      <td>11.0</td>\n",
              "      <td>2.0</td>\n",
              "      <td>863.0</td>\n",
              "      <td>1.0</td>\n",
              "      <td>29.0</td>\n",
              "      <td>703.0</td>\n",
              "      <td>6002.0</td>\n",
              "      <td>1026.0</td>\n",
              "      <td>1230.0</td>\n",
              "      <td>706.0</td>\n",
              "      <td>271.0</td>\n",
              "      <td>238.0</td>\n",
              "      <td>761.0</td>\n",
              "      <td>1535.0</td>\n",
              "      <td>6.0</td>\n",
              "      <td>527.0</td>\n",
              "      <td>492.0</td>\n",
              "      <td>142.0</td>\n",
              "      <td>770.0</td>\n",
              "      <td>0.0</td>\n",
              "      <td>0.0</td>\n",
              "      <td>2.0</td>\n",
              "      <td>272.0</td>\n",
              "      <td>67.0</td>\n",
              "      <td>26.0</td>\n",
              "      <td>10.0</td>\n",
              "      <td>2.0</td>\n",
              "      <td>6.732330e+12</td>\n",
              "      <td>1.321699e+10</td>\n",
              "      <td>283641.0</td>\n",
              "      <td>73477.0</td>\n",
              "      <td>174.0</td>\n",
              "      <td>NaN</td>\n",
              "      <td>7.0</td>\n",
              "      <td>1.0</td>\n",
              "      <td>10.0</td>\n",
              "    </tr>\n",
              "    <tr>\n",
              "      <th>2</th>\n",
              "      <td>Rio De Janeiro</td>\n",
              "      <td>RJ</td>\n",
              "      <td>1</td>\n",
              "      <td>6320446.0</td>\n",
              "      <td>6264915.0</td>\n",
              "      <td>55531.0</td>\n",
              "      <td>2147235.0</td>\n",
              "      <td>2147235.0</td>\n",
              "      <td>NaN</td>\n",
              "      <td>5426838.0</td>\n",
              "      <td>58958.0</td>\n",
              "      <td>235380.0</td>\n",
              "      <td>321084.0</td>\n",
              "      <td>382267.0</td>\n",
              "      <td>3559037.0</td>\n",
              "      <td>870112.0</td>\n",
              "      <td>2098.0</td>\n",
              "      <td>41072.0</td>\n",
              "      <td>46.0</td>\n",
              "      <td>0.799</td>\n",
              "      <td>0.840</td>\n",
              "      <td>0.845</td>\n",
              "      <td>0.719</td>\n",
              "      <td>-43.227875</td>\n",
              "      <td>-22.876652</td>\n",
              "      <td>11.80</td>\n",
              "      <td>1271672.0</td>\n",
              "      <td>2417123.0</td>\n",
              "      <td>1200255.00</td>\n",
              "      <td>Metropolitana</td>\n",
              "      <td>A</td>\n",
              "      <td>6688927.0</td>\n",
              "      <td>Urbano</td>\n",
              "      <td>81.37</td>\n",
              "      <td>36334430.50</td>\n",
              "      <td>1.773611e+08</td>\n",
              "      <td>47548.35</td>\n",
              "      <td>2.613252e+08</td>\n",
              "      <td>6.810612e+04</td>\n",
              "      <td>3.294314e+08</td>\n",
              "      <td>...</td>\n",
              "      <td>50690.82</td>\n",
              "      <td>Demais serviços</td>\n",
              "      <td>2.364284e+10</td>\n",
              "      <td>190038.0</td>\n",
              "      <td>172.0</td>\n",
              "      <td>274.0</td>\n",
              "      <td>6824.0</td>\n",
              "      <td>235.0</td>\n",
              "      <td>272.0</td>\n",
              "      <td>7797.0</td>\n",
              "      <td>47545.0</td>\n",
              "      <td>4825.0</td>\n",
              "      <td>12289.0</td>\n",
              "      <td>9070.0</td>\n",
              "      <td>6327.0</td>\n",
              "      <td>4281.0</td>\n",
              "      <td>19248.0</td>\n",
              "      <td>34812.0</td>\n",
              "      <td>120.0</td>\n",
              "      <td>6744.0</td>\n",
              "      <td>9905.0</td>\n",
              "      <td>5039.0</td>\n",
              "      <td>14224.0</td>\n",
              "      <td>0.0</td>\n",
              "      <td>35.0</td>\n",
              "      <td>94.0</td>\n",
              "      <td>13247.0</td>\n",
              "      <td>815.0</td>\n",
              "      <td>304.0</td>\n",
              "      <td>34.0</td>\n",
              "      <td>5.0</td>\n",
              "      <td>2.283445e+12</td>\n",
              "      <td>9.738864e+11</td>\n",
              "      <td>2039930.0</td>\n",
              "      <td>363486.0</td>\n",
              "      <td>289.0</td>\n",
              "      <td>1.0</td>\n",
              "      <td>68.0</td>\n",
              "      <td>1.0</td>\n",
              "      <td>120.0</td>\n",
              "    </tr>\n",
              "    <tr>\n",
              "      <th>3</th>\n",
              "      <td>Brasília</td>\n",
              "      <td>DF</td>\n",
              "      <td>1</td>\n",
              "      <td>2570160.0</td>\n",
              "      <td>2564370.0</td>\n",
              "      <td>5790.0</td>\n",
              "      <td>774820.0</td>\n",
              "      <td>751558.0</td>\n",
              "      <td>23261.0</td>\n",
              "      <td>2450634.0</td>\n",
              "      <td>35833.0</td>\n",
              "      <td>143641.0</td>\n",
              "      <td>190078.0</td>\n",
              "      <td>207283.0</td>\n",
              "      <td>1683918.0</td>\n",
              "      <td>189881.0</td>\n",
              "      <td>162894.0</td>\n",
              "      <td>822413.0</td>\n",
              "      <td>9.0</td>\n",
              "      <td>0.820</td>\n",
              "      <td>0.863</td>\n",
              "      <td>0.873</td>\n",
              "      <td>0.742</td>\n",
              "      <td>-47.887905</td>\n",
              "      <td>-15.794087</td>\n",
              "      <td>1115.25</td>\n",
              "      <td>460682.0</td>\n",
              "      <td>920410.0</td>\n",
              "      <td>5760783.00</td>\n",
              "      <td>Brasília - Patrimônio Cultural Da Humanidade</td>\n",
              "      <td>A</td>\n",
              "      <td>2974703.0</td>\n",
              "      <td>Urbano</td>\n",
              "      <td>820754.66</td>\n",
              "      <td>9659849.10</td>\n",
              "      <td>1.038195e+08</td>\n",
              "      <td>92051.45</td>\n",
              "      <td>2.063515e+08</td>\n",
              "      <td>2.914559e+07</td>\n",
              "      <td>2.354971e+08</td>\n",
              "      <td>...</td>\n",
              "      <td>79099.77</td>\n",
              "      <td>Administração, defesa, educação e saúde públic...</td>\n",
              "      <td>NaN</td>\n",
              "      <td>86200.0</td>\n",
              "      <td>242.0</td>\n",
              "      <td>42.0</td>\n",
              "      <td>3269.0</td>\n",
              "      <td>22.0</td>\n",
              "      <td>130.0</td>\n",
              "      <td>4685.0</td>\n",
              "      <td>29018.0</td>\n",
              "      <td>2157.0</td>\n",
              "      <td>6788.0</td>\n",
              "      <td>3254.0</td>\n",
              "      <td>1527.0</td>\n",
              "      <td>1670.0</td>\n",
              "      <td>6717.0</td>\n",
              "      <td>10346.0</td>\n",
              "      <td>204.0</td>\n",
              "      <td>3043.0</td>\n",
              "      <td>5363.0</td>\n",
              "      <td>1197.0</td>\n",
              "      <td>6403.0</td>\n",
              "      <td>0.0</td>\n",
              "      <td>123.0</td>\n",
              "      <td>23.0</td>\n",
              "      <td>4960.0</td>\n",
              "      <td>150.0</td>\n",
              "      <td>274.0</td>\n",
              "      <td>14.0</td>\n",
              "      <td>4.0</td>\n",
              "      <td>2.920933e+11</td>\n",
              "      <td>8.016164e+12</td>\n",
              "      <td>1288107.0</td>\n",
              "      <td>211392.0</td>\n",
              "      <td>594.0</td>\n",
              "      <td>1.0</td>\n",
              "      <td>28.0</td>\n",
              "      <td>1.0</td>\n",
              "      <td>60.0</td>\n",
              "    </tr>\n",
              "    <tr>\n",
              "      <th>4</th>\n",
              "      <td>Porto Alegre</td>\n",
              "      <td>RS</td>\n",
              "      <td>1</td>\n",
              "      <td>1409351.0</td>\n",
              "      <td>1403450.0</td>\n",
              "      <td>5901.0</td>\n",
              "      <td>508503.0</td>\n",
              "      <td>508503.0</td>\n",
              "      <td>NaN</td>\n",
              "      <td>1339712.0</td>\n",
              "      <td>15235.0</td>\n",
              "      <td>58369.0</td>\n",
              "      <td>79310.0</td>\n",
              "      <td>93989.0</td>\n",
              "      <td>889503.0</td>\n",
              "      <td>203306.0</td>\n",
              "      <td>766.0</td>\n",
              "      <td>7967.0</td>\n",
              "      <td>32.0</td>\n",
              "      <td>0.805</td>\n",
              "      <td>0.867</td>\n",
              "      <td>0.857</td>\n",
              "      <td>0.702</td>\n",
              "      <td>-51.228660</td>\n",
              "      <td>-30.030037</td>\n",
              "      <td>42.24</td>\n",
              "      <td>352371.0</td>\n",
              "      <td>663846.0</td>\n",
              "      <td>495.39</td>\n",
              "      <td>Porto Alegre</td>\n",
              "      <td>A</td>\n",
              "      <td>1479101.0</td>\n",
              "      <td>Urbano</td>\n",
              "      <td>28354.58</td>\n",
              "      <td>6768083.47</td>\n",
              "      <td>4.893041e+07</td>\n",
              "      <td>6712383.63</td>\n",
              "      <td>6.243923e+07</td>\n",
              "      <td>1.098603e+07</td>\n",
              "      <td>7.342526e+04</td>\n",
              "      <td>...</td>\n",
              "      <td>49577.53</td>\n",
              "      <td>Demais serviços</td>\n",
              "      <td>5.358322e+09</td>\n",
              "      <td>80082.0</td>\n",
              "      <td>196.0</td>\n",
              "      <td>31.0</td>\n",
              "      <td>3482.0</td>\n",
              "      <td>57.0</td>\n",
              "      <td>95.0</td>\n",
              "      <td>4039.0</td>\n",
              "      <td>21550.0</td>\n",
              "      <td>2523.0</td>\n",
              "      <td>4205.0</td>\n",
              "      <td>3555.0</td>\n",
              "      <td>2461.0</td>\n",
              "      <td>1924.0</td>\n",
              "      <td>8139.0</td>\n",
              "      <td>16271.0</td>\n",
              "      <td>72.0</td>\n",
              "      <td>2217.0</td>\n",
              "      <td>3489.0</td>\n",
              "      <td>1339.0</td>\n",
              "      <td>4429.0</td>\n",
              "      <td>0.0</td>\n",
              "      <td>8.0</td>\n",
              "      <td>17.0</td>\n",
              "      <td>3548.0</td>\n",
              "      <td>180.0</td>\n",
              "      <td>168.0</td>\n",
              "      <td>20.0</td>\n",
              "      <td>3.0</td>\n",
              "      <td>2.709619e+11</td>\n",
              "      <td>4.026997e+11</td>\n",
              "      <td>608777.0</td>\n",
              "      <td>106829.0</td>\n",
              "      <td>1383.0</td>\n",
              "      <td>1.0</td>\n",
              "      <td>19.0</td>\n",
              "      <td>12.0</td>\n",
              "      <td>53.0</td>\n",
              "    </tr>\n",
              "  </tbody>\n",
              "</table>\n",
              "<p>5 rows × 81 columns</p>\n",
              "</div>"
            ],
            "text/plain": [
              "             CITY STATE  CAPITAL  ...    MAC  WAL-MART  POST_OFFICES\n",
              "0       São Paulo    SP        1  ...  130.0       7.0         225.0\n",
              "1          Osasco    SP        0  ...    7.0       1.0          10.0\n",
              "2  Rio De Janeiro    RJ        1  ...   68.0       1.0         120.0\n",
              "3        Brasília    DF        1  ...   28.0       1.0          60.0\n",
              "4    Porto Alegre    RS        1  ...   19.0      12.0          53.0\n",
              "\n",
              "[5 rows x 81 columns]"
            ]
          },
          "metadata": {
            "tags": []
          },
          "execution_count": 11
        }
      ]
    },
    {
      "cell_type": "code",
      "metadata": {
        "id": "cJX88UEzwbab",
        "colab_type": "code",
        "outputId": "9dc29d72-255f-4a05-dff0-ac0ba6f67fa4",
        "colab": {
          "base_uri": "https://localhost:8080/",
          "height": 296
        }
      },
      "source": [
        "# Mostra o nome de cada coluna\n",
        "br_cities.columns"
      ],
      "execution_count": 5,
      "outputs": [
        {
          "output_type": "execute_result",
          "data": {
            "text/plain": [
              "Index(['CITY', 'STATE', 'CAPITAL', 'IBGE_RES_POP', 'IBGE_RES_POP_BRAS',\n",
              "       'IBGE_RES_POP_ESTR', 'IBGE_DU', 'IBGE_DU_URBAN', 'IBGE_DU_RURAL',\n",
              "       'IBGE_POP', 'IBGE_1', 'IBGE_1-4', 'IBGE_5-9', 'IBGE_10-14',\n",
              "       'IBGE_15-59', 'IBGE_60+', 'IBGE_PLANTED_AREA', 'IBGE_CROP_PRODUCTION_$',\n",
              "       'IDHM Ranking 2010', 'IDHM', 'IDHM_Renda', 'IDHM_Longevidade',\n",
              "       'IDHM_Educacao', 'LONG', 'LAT', 'ALT', 'PAY_TV', 'FIXED_PHONES', 'AREA',\n",
              "       'REGIAO_TUR', 'CATEGORIA_TUR', 'ESTIMATED_POP', 'RURAL_URBAN',\n",
              "       'GVA_AGROPEC', 'GVA_INDUSTRY', 'GVA_SERVICES', 'GVA_PUBLIC',\n",
              "       ' GVA_TOTAL ', 'TAXES', 'GDP', 'POP_GDP', 'GDP_CAPITA', 'GVA_MAIN',\n",
              "       'MUN_EXPENDIT', 'COMP_TOT', 'COMP_A', 'COMP_B', 'COMP_C', 'COMP_D',\n",
              "       'COMP_E', 'COMP_F', 'COMP_G', 'COMP_H', 'COMP_I', 'COMP_J', 'COMP_K',\n",
              "       'COMP_L', 'COMP_M', 'COMP_N', 'COMP_O', 'COMP_P', 'COMP_Q', 'COMP_R',\n",
              "       'COMP_S', 'COMP_T', 'COMP_U', 'HOTELS', 'BEDS', 'Pr_Agencies',\n",
              "       'Pu_Agencies', 'Pr_Bank', 'Pu_Bank', 'Pr_Assets', 'Pu_Assets', 'Cars',\n",
              "       'Motorcycles', 'Wheeled_tractor', 'UBER', 'MAC', 'WAL-MART',\n",
              "       'POST_OFFICES'],\n",
              "      dtype='object')"
            ]
          },
          "metadata": {
            "tags": []
          },
          "execution_count": 5
        }
      ]
    },
    {
      "cell_type": "code",
      "metadata": {
        "id": "UwYZmQ6aNItL",
        "colab_type": "code",
        "colab": {}
      },
      "source": [
        "# Ajuste no nome de uma coluna\n",
        "br_cities.rename( columns = { ' GVA_TOTAL ' : 'GVA_TOTAL' }, inplace = True )"
      ],
      "execution_count": 0,
      "outputs": []
    },
    {
      "cell_type": "code",
      "metadata": {
        "id": "w4_mPgmc5MSH",
        "colab_type": "code",
        "colab": {}
      },
      "source": [
        "# Quantidade de linhas e colunas do DataFrame\n",
        "br_cities.info()"
      ],
      "execution_count": 0,
      "outputs": []
    },
    {
      "cell_type": "code",
      "metadata": {
        "id": "KIYdE8FLfXNL",
        "colab_type": "code",
        "outputId": "8c817995-0175-4d07-d2b6-b5df0f306a83",
        "colab": {
          "base_uri": "https://localhost:8080/"
        }
      },
      "source": [
        "# DataFrame de forma resumida \n",
        "br_cities.describe()"
      ],
      "execution_count": 8,
      "outputs": [
        {
          "output_type": "execute_result",
          "data": {
            "text/html": [
              "<div>\n",
              "<style scoped>\n",
              "    .dataframe tbody tr th:only-of-type {\n",
              "        vertical-align: middle;\n",
              "    }\n",
              "\n",
              "    .dataframe tbody tr th {\n",
              "        vertical-align: top;\n",
              "    }\n",
              "\n",
              "    .dataframe thead th {\n",
              "        text-align: right;\n",
              "    }\n",
              "</style>\n",
              "<table border=\"1\" class=\"dataframe\">\n",
              "  <thead>\n",
              "    <tr style=\"text-align: right;\">\n",
              "      <th></th>\n",
              "      <th>CAPITAL</th>\n",
              "      <th>IBGE_RES_POP</th>\n",
              "      <th>IBGE_RES_POP_BRAS</th>\n",
              "      <th>IBGE_RES_POP_ESTR</th>\n",
              "      <th>IBGE_DU</th>\n",
              "      <th>IBGE_DU_URBAN</th>\n",
              "      <th>IBGE_DU_RURAL</th>\n",
              "      <th>IBGE_POP</th>\n",
              "      <th>IBGE_1</th>\n",
              "      <th>IBGE_1-4</th>\n",
              "      <th>IBGE_5-9</th>\n",
              "      <th>IBGE_10-14</th>\n",
              "      <th>IBGE_15-59</th>\n",
              "      <th>IBGE_60+</th>\n",
              "      <th>IBGE_PLANTED_AREA</th>\n",
              "      <th>IBGE_CROP_PRODUCTION_$</th>\n",
              "      <th>IDHM Ranking 2010</th>\n",
              "      <th>IDHM</th>\n",
              "      <th>IDHM_Renda</th>\n",
              "      <th>IDHM_Longevidade</th>\n",
              "      <th>IDHM_Educacao</th>\n",
              "      <th>LONG</th>\n",
              "      <th>LAT</th>\n",
              "      <th>ALT</th>\n",
              "      <th>PAY_TV</th>\n",
              "      <th>FIXED_PHONES</th>\n",
              "      <th>AREA</th>\n",
              "      <th>ESTIMATED_POP</th>\n",
              "      <th>GVA_AGROPEC</th>\n",
              "      <th>GVA_INDUSTRY</th>\n",
              "      <th>GVA_SERVICES</th>\n",
              "      <th>GVA_PUBLIC</th>\n",
              "      <th>GVA_TOTAL</th>\n",
              "      <th>TAXES</th>\n",
              "      <th>GDP</th>\n",
              "      <th>POP_GDP</th>\n",
              "      <th>GDP_CAPITA</th>\n",
              "      <th>MUN_EXPENDIT</th>\n",
              "      <th>COMP_TOT</th>\n",
              "      <th>COMP_A</th>\n",
              "      <th>COMP_B</th>\n",
              "      <th>COMP_C</th>\n",
              "      <th>COMP_D</th>\n",
              "      <th>COMP_E</th>\n",
              "      <th>COMP_F</th>\n",
              "      <th>COMP_G</th>\n",
              "      <th>COMP_H</th>\n",
              "      <th>COMP_I</th>\n",
              "      <th>COMP_J</th>\n",
              "      <th>COMP_K</th>\n",
              "      <th>COMP_L</th>\n",
              "      <th>COMP_M</th>\n",
              "      <th>COMP_N</th>\n",
              "      <th>COMP_O</th>\n",
              "      <th>COMP_P</th>\n",
              "      <th>COMP_Q</th>\n",
              "      <th>COMP_R</th>\n",
              "      <th>COMP_S</th>\n",
              "      <th>COMP_T</th>\n",
              "      <th>COMP_U</th>\n",
              "      <th>HOTELS</th>\n",
              "      <th>BEDS</th>\n",
              "      <th>Pr_Agencies</th>\n",
              "      <th>Pu_Agencies</th>\n",
              "      <th>Pr_Bank</th>\n",
              "      <th>Pu_Bank</th>\n",
              "      <th>Pr_Assets</th>\n",
              "      <th>Pu_Assets</th>\n",
              "      <th>Cars</th>\n",
              "      <th>Motorcycles</th>\n",
              "      <th>Wheeled_tractor</th>\n",
              "      <th>UBER</th>\n",
              "      <th>MAC</th>\n",
              "      <th>WAL-MART</th>\n",
              "      <th>POST_OFFICES</th>\n",
              "    </tr>\n",
              "  </thead>\n",
              "  <tbody>\n",
              "    <tr>\n",
              "      <th>count</th>\n",
              "      <td>5576.000000</td>\n",
              "      <td>5.568000e+03</td>\n",
              "      <td>5.568000e+03</td>\n",
              "      <td>5568.000000</td>\n",
              "      <td>5.566000e+03</td>\n",
              "      <td>5.566000e+03</td>\n",
              "      <td>5495.000000</td>\n",
              "      <td>5.568000e+03</td>\n",
              "      <td>5568.000000</td>\n",
              "      <td>5568.000000</td>\n",
              "      <td>5568.000000</td>\n",
              "      <td>5568.000000</td>\n",
              "      <td>5.568000e+03</td>\n",
              "      <td>5.568000e+03</td>\n",
              "      <td>5.573000e+03</td>\n",
              "      <td>5.573000e+03</td>\n",
              "      <td>5568.000000</td>\n",
              "      <td>5568.000000</td>\n",
              "      <td>5568.000000</td>\n",
              "      <td>5568.000000</td>\n",
              "      <td>5568.000000</td>\n",
              "      <td>5567.000000</td>\n",
              "      <td>5567.000000</td>\n",
              "      <td>5567.000000</td>\n",
              "      <td>5.573000e+03</td>\n",
              "      <td>5.573000e+03</td>\n",
              "      <td>5.574000e+03</td>\n",
              "      <td>5.573000e+03</td>\n",
              "      <td>5.573000e+03</td>\n",
              "      <td>5.573000e+03</td>\n",
              "      <td>5.573000e+03</td>\n",
              "      <td>5.573000e+03</td>\n",
              "      <td>5.573000e+03</td>\n",
              "      <td>5.573000e+03</td>\n",
              "      <td>5.573000e+03</td>\n",
              "      <td>5.573000e+03</td>\n",
              "      <td>5573.000000</td>\n",
              "      <td>4.082000e+03</td>\n",
              "      <td>5573.000000</td>\n",
              "      <td>5573.000000</td>\n",
              "      <td>5573.000000</td>\n",
              "      <td>5573.000000</td>\n",
              "      <td>5573.000000</td>\n",
              "      <td>5573.000000</td>\n",
              "      <td>5573.000000</td>\n",
              "      <td>5573.000000</td>\n",
              "      <td>5573.000000</td>\n",
              "      <td>5573.000000</td>\n",
              "      <td>5573.000000</td>\n",
              "      <td>5573.000000</td>\n",
              "      <td>5573.000000</td>\n",
              "      <td>5573.000000</td>\n",
              "      <td>5573.000000</td>\n",
              "      <td>5573.000000</td>\n",
              "      <td>5573.000000</td>\n",
              "      <td>5573.000000</td>\n",
              "      <td>5573.000000</td>\n",
              "      <td>5573.000000</td>\n",
              "      <td>5573.0</td>\n",
              "      <td>5573.000000</td>\n",
              "      <td>888.000000</td>\n",
              "      <td>888.000000</td>\n",
              "      <td>3345.000000</td>\n",
              "      <td>3345.000000</td>\n",
              "      <td>3345.000000</td>\n",
              "      <td>3345.000000</td>\n",
              "      <td>3.345000e+03</td>\n",
              "      <td>3.345000e+03</td>\n",
              "      <td>5.565000e+03</td>\n",
              "      <td>5.565000e+03</td>\n",
              "      <td>5565.000000</td>\n",
              "      <td>125.0</td>\n",
              "      <td>167.000000</td>\n",
              "      <td>103.000000</td>\n",
              "      <td>5456.000000</td>\n",
              "    </tr>\n",
              "    <tr>\n",
              "      <th>mean</th>\n",
              "      <td>0.004842</td>\n",
              "      <td>3.428459e+04</td>\n",
              "      <td>3.420705e+04</td>\n",
              "      <td>77.543642</td>\n",
              "      <td>1.030530e+04</td>\n",
              "      <td>8.861382e+03</td>\n",
              "      <td>1462.570337</td>\n",
              "      <td>2.760219e+04</td>\n",
              "      <td>383.356501</td>\n",
              "      <td>1544.858657</td>\n",
              "      <td>2069.675467</td>\n",
              "      <td>2381.876078</td>\n",
              "      <td>1.821685e+04</td>\n",
              "      <td>3.005576e+03</td>\n",
              "      <td>1.418350e+04</td>\n",
              "      <td>5.740766e+04</td>\n",
              "      <td>2782.284662</td>\n",
              "      <td>0.659223</td>\n",
              "      <td>0.642918</td>\n",
              "      <td>0.801586</td>\n",
              "      <td>0.559136</td>\n",
              "      <td>-46.227400</td>\n",
              "      <td>-16.447620</td>\n",
              "      <td>893.588998</td>\n",
              "      <td>3.095533e+03</td>\n",
              "      <td>6.568110e+03</td>\n",
              "      <td>1.241228e+06</td>\n",
              "      <td>3.743933e+04</td>\n",
              "      <td>4.725012e+04</td>\n",
              "      <td>1.758818e+05</td>\n",
              "      <td>4.895310e+05</td>\n",
              "      <td>1.237594e+05</td>\n",
              "      <td>8.332459e+05</td>\n",
              "      <td>1.188676e+05</td>\n",
              "      <td>9.546196e+05</td>\n",
              "      <td>3.700575e+04</td>\n",
              "      <td>21129.767244</td>\n",
              "      <td>1.042825e+08</td>\n",
              "      <td>907.253544</td>\n",
              "      <td>18.263772</td>\n",
              "      <td>1.853221</td>\n",
              "      <td>73.448233</td>\n",
              "      <td>0.425982</td>\n",
              "      <td>2.030684</td>\n",
              "      <td>43.273282</td>\n",
              "      <td>348.222322</td>\n",
              "      <td>41.007357</td>\n",
              "      <td>55.980800</td>\n",
              "      <td>24.749865</td>\n",
              "      <td>15.555715</td>\n",
              "      <td>15.143729</td>\n",
              "      <td>51.306298</td>\n",
              "      <td>83.718643</td>\n",
              "      <td>3.269693</td>\n",
              "      <td>30.973802</td>\n",
              "      <td>34.167055</td>\n",
              "      <td>12.184281</td>\n",
              "      <td>51.628566</td>\n",
              "      <td>0.0</td>\n",
              "      <td>0.050242</td>\n",
              "      <td>3.129505</td>\n",
              "      <td>257.483108</td>\n",
              "      <td>3.383558</td>\n",
              "      <td>2.828401</td>\n",
              "      <td>1.313303</td>\n",
              "      <td>1.579671</td>\n",
              "      <td>9.172327e+09</td>\n",
              "      <td>6.001000e+09</td>\n",
              "      <td>9.862797e+03</td>\n",
              "      <td>4.880992e+03</td>\n",
              "      <td>5.753279</td>\n",
              "      <td>1.0</td>\n",
              "      <td>4.257485</td>\n",
              "      <td>2.048544</td>\n",
              "      <td>2.080462</td>\n",
              "    </tr>\n",
              "    <tr>\n",
              "      <th>std</th>\n",
              "      <td>0.069423</td>\n",
              "      <td>2.030598e+05</td>\n",
              "      <td>2.014381e+05</td>\n",
              "      <td>1795.397085</td>\n",
              "      <td>6.475994e+04</td>\n",
              "      <td>6.435371e+04</td>\n",
              "      <td>1693.833786</td>\n",
              "      <td>1.859099e+05</td>\n",
              "      <td>2326.205751</td>\n",
              "      <td>9250.689121</td>\n",
              "      <td>12310.307735</td>\n",
              "      <td>14182.383292</td>\n",
              "      <td>1.251736e+05</td>\n",
              "      <td>2.324198e+04</td>\n",
              "      <td>4.404882e+04</td>\n",
              "      <td>1.481314e+05</td>\n",
              "      <td>1606.654986</td>\n",
              "      <td>0.071970</td>\n",
              "      <td>0.080668</td>\n",
              "      <td>0.044681</td>\n",
              "      <td>0.093351</td>\n",
              "      <td>6.408447</td>\n",
              "      <td>8.280170</td>\n",
              "      <td>17176.869857</td>\n",
              "      <td>3.578531e+04</td>\n",
              "      <td>8.797349e+04</td>\n",
              "      <td>4.991591e+06</td>\n",
              "      <td>2.199119e+05</td>\n",
              "      <td>8.863293e+04</td>\n",
              "      <td>1.262967e+06</td>\n",
              "      <td>7.120579e+06</td>\n",
              "      <td>6.929607e+05</td>\n",
              "      <td>9.291821e+06</td>\n",
              "      <td>1.708002e+06</td>\n",
              "      <td>1.121657e+07</td>\n",
              "      <td>2.169573e+05</td>\n",
              "      <td>20327.836119</td>\n",
              "      <td>8.644724e+08</td>\n",
              "      <td>8331.637406</td>\n",
              "      <td>81.029671</td>\n",
              "      <td>6.178546</td>\n",
              "      <td>499.733382</td>\n",
              "      <td>6.336557</td>\n",
              "      <td>11.751233</td>\n",
              "      <td>407.369084</td>\n",
              "      <td>2429.835487</td>\n",
              "      <td>300.450624</td>\n",
              "      <td>484.110972</td>\n",
              "      <td>547.443362</td>\n",
              "      <td>340.742105</td>\n",
              "      <td>212.640191</td>\n",
              "      <td>767.283706</td>\n",
              "      <td>1232.239175</td>\n",
              "      <td>6.056471</td>\n",
              "      <td>260.937133</td>\n",
              "      <td>366.179105</td>\n",
              "      <td>122.300106</td>\n",
              "      <td>429.601796</td>\n",
              "      <td>0.0</td>\n",
              "      <td>1.927245</td>\n",
              "      <td>6.576932</td>\n",
              "      <td>734.279574</td>\n",
              "      <td>34.214157</td>\n",
              "      <td>14.394513</td>\n",
              "      <td>2.143315</td>\n",
              "      <td>0.952681</td>\n",
              "      <td>3.584189e+11</td>\n",
              "      <td>1.503155e+11</td>\n",
              "      <td>9.186317e+04</td>\n",
              "      <td>2.093981e+04</td>\n",
              "      <td>55.365588</td>\n",
              "      <td>0.0</td>\n",
              "      <td>11.739627</td>\n",
              "      <td>3.376327</td>\n",
              "      <td>4.416694</td>\n",
              "    </tr>\n",
              "    <tr>\n",
              "      <th>min</th>\n",
              "      <td>0.000000</td>\n",
              "      <td>8.050000e+02</td>\n",
              "      <td>8.050000e+02</td>\n",
              "      <td>0.000000</td>\n",
              "      <td>2.390000e+02</td>\n",
              "      <td>6.000000e+01</td>\n",
              "      <td>3.000000</td>\n",
              "      <td>1.740000e+02</td>\n",
              "      <td>0.000000</td>\n",
              "      <td>5.000000</td>\n",
              "      <td>7.000000</td>\n",
              "      <td>12.000000</td>\n",
              "      <td>9.400000e+01</td>\n",
              "      <td>2.900000e+01</td>\n",
              "      <td>0.000000e+00</td>\n",
              "      <td>0.000000e+00</td>\n",
              "      <td>1.000000</td>\n",
              "      <td>0.418000</td>\n",
              "      <td>0.400000</td>\n",
              "      <td>0.672000</td>\n",
              "      <td>0.207000</td>\n",
              "      <td>-72.916501</td>\n",
              "      <td>-33.687567</td>\n",
              "      <td>0.000000</td>\n",
              "      <td>1.000000e+00</td>\n",
              "      <td>3.000000e+00</td>\n",
              "      <td>2.610000e+01</td>\n",
              "      <td>7.860000e+02</td>\n",
              "      <td>0.000000e+00</td>\n",
              "      <td>5.300000e-01</td>\n",
              "      <td>2.170000e+00</td>\n",
              "      <td>7.260000e+00</td>\n",
              "      <td>1.748000e+01</td>\n",
              "      <td>-1.415851e+04</td>\n",
              "      <td>1.496000e+01</td>\n",
              "      <td>8.150000e+02</td>\n",
              "      <td>3190.570000</td>\n",
              "      <td>1.420804e+06</td>\n",
              "      <td>6.000000</td>\n",
              "      <td>0.000000</td>\n",
              "      <td>0.000000</td>\n",
              "      <td>0.000000</td>\n",
              "      <td>0.000000</td>\n",
              "      <td>0.000000</td>\n",
              "      <td>0.000000</td>\n",
              "      <td>1.000000</td>\n",
              "      <td>0.000000</td>\n",
              "      <td>0.000000</td>\n",
              "      <td>0.000000</td>\n",
              "      <td>0.000000</td>\n",
              "      <td>0.000000</td>\n",
              "      <td>0.000000</td>\n",
              "      <td>0.000000</td>\n",
              "      <td>0.000000</td>\n",
              "      <td>0.000000</td>\n",
              "      <td>0.000000</td>\n",
              "      <td>0.000000</td>\n",
              "      <td>0.000000</td>\n",
              "      <td>0.0</td>\n",
              "      <td>0.000000</td>\n",
              "      <td>1.000000</td>\n",
              "      <td>2.000000</td>\n",
              "      <td>0.000000</td>\n",
              "      <td>0.000000</td>\n",
              "      <td>0.000000</td>\n",
              "      <td>0.000000</td>\n",
              "      <td>0.000000e+00</td>\n",
              "      <td>0.000000e+00</td>\n",
              "      <td>2.000000e+00</td>\n",
              "      <td>4.000000e+00</td>\n",
              "      <td>0.000000</td>\n",
              "      <td>1.0</td>\n",
              "      <td>1.000000</td>\n",
              "      <td>1.000000</td>\n",
              "      <td>1.000000</td>\n",
              "    </tr>\n",
              "    <tr>\n",
              "      <th>25%</th>\n",
              "      <td>0.000000</td>\n",
              "      <td>5.235750e+03</td>\n",
              "      <td>5.230750e+03</td>\n",
              "      <td>0.000000</td>\n",
              "      <td>1.573250e+03</td>\n",
              "      <td>8.740000e+02</td>\n",
              "      <td>487.000000</td>\n",
              "      <td>2.801750e+03</td>\n",
              "      <td>38.000000</td>\n",
              "      <td>158.000000</td>\n",
              "      <td>220.000000</td>\n",
              "      <td>259.750000</td>\n",
              "      <td>1.734750e+03</td>\n",
              "      <td>3.410000e+02</td>\n",
              "      <td>9.110000e+02</td>\n",
              "      <td>2.327000e+03</td>\n",
              "      <td>1391.750000</td>\n",
              "      <td>0.599000</td>\n",
              "      <td>0.572000</td>\n",
              "      <td>0.769000</td>\n",
              "      <td>0.490000</td>\n",
              "      <td>-50.863776</td>\n",
              "      <td>-22.839839</td>\n",
              "      <td>169.675000</td>\n",
              "      <td>8.800000e+01</td>\n",
              "      <td>1.190000e+02</td>\n",
              "      <td>1.139542e+05</td>\n",
              "      <td>5.454000e+03</td>\n",
              "      <td>4.171180e+03</td>\n",
              "      <td>1.725310e+03</td>\n",
              "      <td>1.011168e+04</td>\n",
              "      <td>1.725224e+04</td>\n",
              "      <td>4.225416e+04</td>\n",
              "      <td>1.305790e+03</td>\n",
              "      <td>4.370728e+04</td>\n",
              "      <td>5.488000e+03</td>\n",
              "      <td>9061.720000</td>\n",
              "      <td>1.573870e+07</td>\n",
              "      <td>68.000000</td>\n",
              "      <td>1.000000</td>\n",
              "      <td>0.000000</td>\n",
              "      <td>3.000000</td>\n",
              "      <td>0.000000</td>\n",
              "      <td>0.000000</td>\n",
              "      <td>1.000000</td>\n",
              "      <td>32.000000</td>\n",
              "      <td>1.000000</td>\n",
              "      <td>2.000000</td>\n",
              "      <td>0.000000</td>\n",
              "      <td>0.000000</td>\n",
              "      <td>0.000000</td>\n",
              "      <td>1.000000</td>\n",
              "      <td>1.000000</td>\n",
              "      <td>2.000000</td>\n",
              "      <td>2.000000</td>\n",
              "      <td>1.000000</td>\n",
              "      <td>0.000000</td>\n",
              "      <td>5.000000</td>\n",
              "      <td>0.0</td>\n",
              "      <td>0.000000</td>\n",
              "      <td>1.000000</td>\n",
              "      <td>40.000000</td>\n",
              "      <td>0.000000</td>\n",
              "      <td>1.000000</td>\n",
              "      <td>0.000000</td>\n",
              "      <td>1.000000</td>\n",
              "      <td>0.000000e+00</td>\n",
              "      <td>4.046850e+07</td>\n",
              "      <td>6.020000e+02</td>\n",
              "      <td>5.910000e+02</td>\n",
              "      <td>0.000000</td>\n",
              "      <td>1.0</td>\n",
              "      <td>1.000000</td>\n",
              "      <td>1.000000</td>\n",
              "      <td>1.000000</td>\n",
              "    </tr>\n",
              "    <tr>\n",
              "      <th>50%</th>\n",
              "      <td>0.000000</td>\n",
              "      <td>1.093500e+04</td>\n",
              "      <td>1.093000e+04</td>\n",
              "      <td>0.000000</td>\n",
              "      <td>3.175000e+03</td>\n",
              "      <td>1.850500e+03</td>\n",
              "      <td>931.000000</td>\n",
              "      <td>6.177000e+03</td>\n",
              "      <td>92.000000</td>\n",
              "      <td>376.500000</td>\n",
              "      <td>516.000000</td>\n",
              "      <td>589.000000</td>\n",
              "      <td>3.843000e+03</td>\n",
              "      <td>7.230000e+02</td>\n",
              "      <td>3.473000e+03</td>\n",
              "      <td>1.387200e+04</td>\n",
              "      <td>2781.500000</td>\n",
              "      <td>0.665000</td>\n",
              "      <td>0.654000</td>\n",
              "      <td>0.808000</td>\n",
              "      <td>0.560000</td>\n",
              "      <td>-46.515916</td>\n",
              "      <td>-18.091372</td>\n",
              "      <td>406.510000</td>\n",
              "      <td>2.470000e+02</td>\n",
              "      <td>3.280000e+02</td>\n",
              "      <td>2.960000e+05</td>\n",
              "      <td>1.159100e+04</td>\n",
              "      <td>2.042162e+04</td>\n",
              "      <td>7.424650e+03</td>\n",
              "      <td>3.121198e+04</td>\n",
              "      <td>3.586492e+04</td>\n",
              "      <td>1.195242e+05</td>\n",
              "      <td>5.108010e+03</td>\n",
              "      <td>1.251955e+05</td>\n",
              "      <td>1.158400e+04</td>\n",
              "      <td>15879.960000</td>\n",
              "      <td>2.745756e+07</td>\n",
              "      <td>162.000000</td>\n",
              "      <td>2.000000</td>\n",
              "      <td>0.000000</td>\n",
              "      <td>11.000000</td>\n",
              "      <td>0.000000</td>\n",
              "      <td>0.000000</td>\n",
              "      <td>4.000000</td>\n",
              "      <td>75.000000</td>\n",
              "      <td>7.000000</td>\n",
              "      <td>7.000000</td>\n",
              "      <td>1.000000</td>\n",
              "      <td>0.000000</td>\n",
              "      <td>0.000000</td>\n",
              "      <td>4.000000</td>\n",
              "      <td>4.000000</td>\n",
              "      <td>2.000000</td>\n",
              "      <td>6.000000</td>\n",
              "      <td>3.000000</td>\n",
              "      <td>2.000000</td>\n",
              "      <td>12.000000</td>\n",
              "      <td>0.0</td>\n",
              "      <td>0.000000</td>\n",
              "      <td>1.000000</td>\n",
              "      <td>82.000000</td>\n",
              "      <td>1.000000</td>\n",
              "      <td>2.000000</td>\n",
              "      <td>1.000000</td>\n",
              "      <td>2.000000</td>\n",
              "      <td>3.234047e+07</td>\n",
              "      <td>1.339333e+08</td>\n",
              "      <td>1.440000e+03</td>\n",
              "      <td>1.285000e+03</td>\n",
              "      <td>0.000000</td>\n",
              "      <td>1.0</td>\n",
              "      <td>2.000000</td>\n",
              "      <td>1.000000</td>\n",
              "      <td>1.000000</td>\n",
              "    </tr>\n",
              "    <tr>\n",
              "      <th>75%</th>\n",
              "      <td>0.000000</td>\n",
              "      <td>2.353975e+04</td>\n",
              "      <td>2.342100e+04</td>\n",
              "      <td>10.000000</td>\n",
              "      <td>6.727000e+03</td>\n",
              "      <td>4.627750e+03</td>\n",
              "      <td>1833.000000</td>\n",
              "      <td>1.530750e+04</td>\n",
              "      <td>232.000000</td>\n",
              "      <td>952.000000</td>\n",
              "      <td>1301.250000</td>\n",
              "      <td>1479.000000</td>\n",
              "      <td>9.634000e+03</td>\n",
              "      <td>1.725250e+03</td>\n",
              "      <td>1.120500e+04</td>\n",
              "      <td>5.572800e+04</td>\n",
              "      <td>4173.250000</td>\n",
              "      <td>0.718000</td>\n",
              "      <td>0.707000</td>\n",
              "      <td>0.836000</td>\n",
              "      <td>0.631000</td>\n",
              "      <td>-41.407596</td>\n",
              "      <td>-8.493215</td>\n",
              "      <td>628.965000</td>\n",
              "      <td>8.160000e+02</td>\n",
              "      <td>1.151000e+03</td>\n",
              "      <td>8.411508e+05</td>\n",
              "      <td>2.530500e+04</td>\n",
              "      <td>5.119468e+04</td>\n",
              "      <td>4.102607e+04</td>\n",
              "      <td>1.154475e+05</td>\n",
              "      <td>8.925593e+04</td>\n",
              "      <td>3.141897e+05</td>\n",
              "      <td>2.220852e+04</td>\n",
              "      <td>3.297172e+05</td>\n",
              "      <td>2.510200e+04</td>\n",
              "      <td>26156.990000</td>\n",
              "      <td>5.665979e+07</td>\n",
              "      <td>449.000000</td>\n",
              "      <td>8.000000</td>\n",
              "      <td>2.000000</td>\n",
              "      <td>39.000000</td>\n",
              "      <td>0.000000</td>\n",
              "      <td>1.000000</td>\n",
              "      <td>15.000000</td>\n",
              "      <td>200.000000</td>\n",
              "      <td>25.000000</td>\n",
              "      <td>24.000000</td>\n",
              "      <td>5.000000</td>\n",
              "      <td>2.000000</td>\n",
              "      <td>3.000000</td>\n",
              "      <td>13.000000</td>\n",
              "      <td>14.000000</td>\n",
              "      <td>3.000000</td>\n",
              "      <td>17.000000</td>\n",
              "      <td>12.000000</td>\n",
              "      <td>6.000000</td>\n",
              "      <td>31.000000</td>\n",
              "      <td>0.0</td>\n",
              "      <td>0.000000</td>\n",
              "      <td>3.000000</td>\n",
              "      <td>200.250000</td>\n",
              "      <td>2.000000</td>\n",
              "      <td>2.000000</td>\n",
              "      <td>2.000000</td>\n",
              "      <td>2.000000</td>\n",
              "      <td>1.150808e+08</td>\n",
              "      <td>4.975510e+08</td>\n",
              "      <td>4.090000e+03</td>\n",
              "      <td>3.299000e+03</td>\n",
              "      <td>1.000000</td>\n",
              "      <td>1.0</td>\n",
              "      <td>3.000000</td>\n",
              "      <td>1.500000</td>\n",
              "      <td>2.000000</td>\n",
              "    </tr>\n",
              "    <tr>\n",
              "      <th>max</th>\n",
              "      <td>1.000000</td>\n",
              "      <td>1.125350e+07</td>\n",
              "      <td>1.113378e+07</td>\n",
              "      <td>119727.000000</td>\n",
              "      <td>3.576148e+06</td>\n",
              "      <td>3.548433e+06</td>\n",
              "      <td>33809.000000</td>\n",
              "      <td>1.046364e+07</td>\n",
              "      <td>129464.000000</td>\n",
              "      <td>514794.000000</td>\n",
              "      <td>684443.000000</td>\n",
              "      <td>783702.000000</td>\n",
              "      <td>7.058221e+06</td>\n",
              "      <td>1.293012e+06</td>\n",
              "      <td>1.205669e+06</td>\n",
              "      <td>3.274885e+06</td>\n",
              "      <td>5565.000000</td>\n",
              "      <td>0.862000</td>\n",
              "      <td>0.891000</td>\n",
              "      <td>0.894000</td>\n",
              "      <td>0.825000</td>\n",
              "      <td>-32.435186</td>\n",
              "      <td>4.585440</td>\n",
              "      <td>874579.000000</td>\n",
              "      <td>2.047668e+06</td>\n",
              "      <td>5.543127e+06</td>\n",
              "      <td>1.595333e+08</td>\n",
              "      <td>1.217687e+07</td>\n",
              "      <td>1.402282e+06</td>\n",
              "      <td>6.330675e+07</td>\n",
              "      <td>4.646570e+08</td>\n",
              "      <td>4.190289e+07</td>\n",
              "      <td>5.699105e+08</td>\n",
              "      <td>1.171254e+08</td>\n",
              "      <td>6.870359e+08</td>\n",
              "      <td>1.203818e+07</td>\n",
              "      <td>314637.690000</td>\n",
              "      <td>4.577250e+10</td>\n",
              "      <td>530446.000000</td>\n",
              "      <td>1948.000000</td>\n",
              "      <td>274.000000</td>\n",
              "      <td>31566.000000</td>\n",
              "      <td>332.000000</td>\n",
              "      <td>657.000000</td>\n",
              "      <td>25222.000000</td>\n",
              "      <td>150633.000000</td>\n",
              "      <td>19515.000000</td>\n",
              "      <td>29290.000000</td>\n",
              "      <td>38720.000000</td>\n",
              "      <td>23738.000000</td>\n",
              "      <td>14003.000000</td>\n",
              "      <td>49181.000000</td>\n",
              "      <td>76757.000000</td>\n",
              "      <td>204.000000</td>\n",
              "      <td>16030.000000</td>\n",
              "      <td>22248.000000</td>\n",
              "      <td>6687.000000</td>\n",
              "      <td>24832.000000</td>\n",
              "      <td>0.0</td>\n",
              "      <td>123.000000</td>\n",
              "      <td>97.000000</td>\n",
              "      <td>13247.000000</td>\n",
              "      <td>1693.000000</td>\n",
              "      <td>626.000000</td>\n",
              "      <td>83.000000</td>\n",
              "      <td>8.000000</td>\n",
              "      <td>1.947077e+13</td>\n",
              "      <td>8.016164e+12</td>\n",
              "      <td>5.740995e+06</td>\n",
              "      <td>1.134570e+06</td>\n",
              "      <td>3236.000000</td>\n",
              "      <td>1.0</td>\n",
              "      <td>130.000000</td>\n",
              "      <td>26.000000</td>\n",
              "      <td>225.000000</td>\n",
              "    </tr>\n",
              "  </tbody>\n",
              "</table>\n",
              "</div>"
            ],
            "text/plain": [
              "           CAPITAL  IBGE_RES_POP  ...    WAL-MART  POST_OFFICES\n",
              "count  5576.000000  5.568000e+03  ...  103.000000   5456.000000\n",
              "mean      0.004842  3.428459e+04  ...    2.048544      2.080462\n",
              "std       0.069423  2.030598e+05  ...    3.376327      4.416694\n",
              "min       0.000000  8.050000e+02  ...    1.000000      1.000000\n",
              "25%       0.000000  5.235750e+03  ...    1.000000      1.000000\n",
              "50%       0.000000  1.093500e+04  ...    1.000000      1.000000\n",
              "75%       0.000000  2.353975e+04  ...    1.500000      2.000000\n",
              "max       1.000000  1.125350e+07  ...   26.000000    225.000000\n",
              "\n",
              "[8 rows x 75 columns]"
            ]
          },
          "metadata": {
            "tags": []
          },
          "execution_count": 8
        }
      ]
    },
    {
      "cell_type": "markdown",
      "metadata": {
        "id": "hO6FHWbef_in",
        "colab_type": "text"
      },
      "source": [
        "## Manipulação dos dados"
      ]
    },
    {
      "cell_type": "markdown",
      "metadata": {
        "id": "NljbHtnroCtZ",
        "colab_type": "text"
      },
      "source": [
        "### 01 - Top 5 cidades com paior população estimada"
      ]
    },
    {
      "cell_type": "code",
      "metadata": {
        "id": "Vpq1f2xDoBaK",
        "colab_type": "code",
        "colab": {
          "base_uri": "https://localhost:8080/",
          "height": 201
        },
        "outputId": "bf4ac80d-8516-468e-8cbd-67dedf8c2f42"
      },
      "source": [
        "br_cities[ [ 'CITY','STATE', 'ESTIMATED_POP']  ].sort_values( by = 'ESTIMATED_POP', ascending = False ).head()"
      ],
      "execution_count": 5,
      "outputs": [
        {
          "output_type": "execute_result",
          "data": {
            "text/html": [
              "<div>\n",
              "<style scoped>\n",
              "    .dataframe tbody tr th:only-of-type {\n",
              "        vertical-align: middle;\n",
              "    }\n",
              "\n",
              "    .dataframe tbody tr th {\n",
              "        vertical-align: top;\n",
              "    }\n",
              "\n",
              "    .dataframe thead th {\n",
              "        text-align: right;\n",
              "    }\n",
              "</style>\n",
              "<table border=\"1\" class=\"dataframe\">\n",
              "  <thead>\n",
              "    <tr style=\"text-align: right;\">\n",
              "      <th></th>\n",
              "      <th>CITY</th>\n",
              "      <th>STATE</th>\n",
              "      <th>ESTIMATED_POP</th>\n",
              "    </tr>\n",
              "  </thead>\n",
              "  <tbody>\n",
              "    <tr>\n",
              "      <th>0</th>\n",
              "      <td>São Paulo</td>\n",
              "      <td>SP</td>\n",
              "      <td>12176866.0</td>\n",
              "    </tr>\n",
              "    <tr>\n",
              "      <th>2</th>\n",
              "      <td>Rio De Janeiro</td>\n",
              "      <td>RJ</td>\n",
              "      <td>6688927.0</td>\n",
              "    </tr>\n",
              "    <tr>\n",
              "      <th>3</th>\n",
              "      <td>Brasília</td>\n",
              "      <td>DF</td>\n",
              "      <td>2974703.0</td>\n",
              "    </tr>\n",
              "    <tr>\n",
              "      <th>10</th>\n",
              "      <td>Salvador</td>\n",
              "      <td>BA</td>\n",
              "      <td>2857329.0</td>\n",
              "    </tr>\n",
              "    <tr>\n",
              "      <th>15</th>\n",
              "      <td>Fortaleza</td>\n",
              "      <td>CE</td>\n",
              "      <td>2643247.0</td>\n",
              "    </tr>\n",
              "  </tbody>\n",
              "</table>\n",
              "</div>"
            ],
            "text/plain": [
              "              CITY STATE  ESTIMATED_POP\n",
              "0        São Paulo    SP     12176866.0\n",
              "2   Rio De Janeiro    RJ      6688927.0\n",
              "3         Brasília    DF      2974703.0\n",
              "10        Salvador    BA      2857329.0\n",
              "15       Fortaleza    CE      2643247.0"
            ]
          },
          "metadata": {
            "tags": []
          },
          "execution_count": 5
        }
      ]
    },
    {
      "cell_type": "markdown",
      "metadata": {
        "id": "JMuZV3DuqUIk",
        "colab_type": "text"
      },
      "source": [
        "### 02 - Top 5 polulação média estimada de cada Estado\n",
        "\n"
      ]
    },
    {
      "cell_type": "code",
      "metadata": {
        "id": "EAvZHn46oBoW",
        "colab_type": "code",
        "colab": {
          "base_uri": "https://localhost:8080/",
          "height": 131
        },
        "outputId": "efa15db0-3de8-419f-ad73-979fc36bcdc7"
      },
      "source": [
        "br_cities.groupby( 'STATE' ).mean()['ESTIMATED_POP'].head()"
      ],
      "execution_count": 7,
      "outputs": [
        {
          "output_type": "execute_result",
          "data": {
            "text/plain": [
              "STATE\n",
              "AC    39512.045455\n",
              "AL    32576.666667\n",
              "AM    65816.306452\n",
              "AP    51843.375000\n",
              "BA    35521.863309\n",
              "Name: ESTIMATED_POP, dtype: float64"
            ]
          },
          "metadata": {
            "tags": []
          },
          "execution_count": 7
        }
      ]
    },
    {
      "cell_type": "markdown",
      "metadata": {
        "id": "qoPtddkDgRzZ",
        "colab_type": "text"
      },
      "source": [
        "### 03 - Cidades que possuem maior número de estrangeiros"
      ]
    },
    {
      "cell_type": "code",
      "metadata": {
        "id": "KsmJXGwwL-ym",
        "colab_type": "code",
        "colab": {
          "base_uri": "https://localhost:8080/",
          "height": 201
        },
        "outputId": "5b6a34c5-04a9-48c4-a04a-9f93e6eec26f"
      },
      "source": [
        "df_estrangeiros = br_cities[ [ 'CITY','STATE', 'IBGE_RES_POP_ESTR', 'IBGE_RES_POP'] ].sort_values( by = ['IBGE_RES_POP_ESTR'], ascending = False ).head()\n",
        "df_estrangeiros"
      ],
      "execution_count": 6,
      "outputs": [
        {
          "output_type": "execute_result",
          "data": {
            "text/html": [
              "<div>\n",
              "<style scoped>\n",
              "    .dataframe tbody tr th:only-of-type {\n",
              "        vertical-align: middle;\n",
              "    }\n",
              "\n",
              "    .dataframe tbody tr th {\n",
              "        vertical-align: top;\n",
              "    }\n",
              "\n",
              "    .dataframe thead th {\n",
              "        text-align: right;\n",
              "    }\n",
              "</style>\n",
              "<table border=\"1\" class=\"dataframe\">\n",
              "  <thead>\n",
              "    <tr style=\"text-align: right;\">\n",
              "      <th></th>\n",
              "      <th>CITY</th>\n",
              "      <th>STATE</th>\n",
              "      <th>IBGE_RES_POP_ESTR</th>\n",
              "      <th>IBGE_RES_POP</th>\n",
              "    </tr>\n",
              "  </thead>\n",
              "  <tbody>\n",
              "    <tr>\n",
              "      <th>0</th>\n",
              "      <td>São Paulo</td>\n",
              "      <td>SP</td>\n",
              "      <td>119727.0</td>\n",
              "      <td>11253503.0</td>\n",
              "    </tr>\n",
              "    <tr>\n",
              "      <th>2</th>\n",
              "      <td>Rio De Janeiro</td>\n",
              "      <td>RJ</td>\n",
              "      <td>55531.0</td>\n",
              "      <td>6320446.0</td>\n",
              "    </tr>\n",
              "    <tr>\n",
              "      <th>9</th>\n",
              "      <td>Curitiba</td>\n",
              "      <td>PR</td>\n",
              "      <td>8871.0</td>\n",
              "      <td>1751907.0</td>\n",
              "    </tr>\n",
              "    <tr>\n",
              "      <th>8</th>\n",
              "      <td>Santos</td>\n",
              "      <td>SP</td>\n",
              "      <td>6945.0</td>\n",
              "      <td>419400.0</td>\n",
              "    </tr>\n",
              "    <tr>\n",
              "      <th>5</th>\n",
              "      <td>Belo Horizonte</td>\n",
              "      <td>MG</td>\n",
              "      <td>6088.0</td>\n",
              "      <td>2375151.0</td>\n",
              "    </tr>\n",
              "  </tbody>\n",
              "</table>\n",
              "</div>"
            ],
            "text/plain": [
              "             CITY STATE  IBGE_RES_POP_ESTR  IBGE_RES_POP\n",
              "0       São Paulo    SP           119727.0    11253503.0\n",
              "2  Rio De Janeiro    RJ            55531.0     6320446.0\n",
              "9        Curitiba    PR             8871.0     1751907.0\n",
              "8          Santos    SP             6945.0      419400.0\n",
              "5  Belo Horizonte    MG             6088.0     2375151.0"
            ]
          },
          "metadata": {
            "tags": []
          },
          "execution_count": 6
        }
      ]
    },
    {
      "cell_type": "code",
      "metadata": {
        "id": "5PAgrP2tfZu0",
        "colab_type": "code",
        "colab": {
          "base_uri": "https://localhost:8080/",
          "height": 590
        },
        "outputId": "67238a59-3615-4caf-9c0e-fdf5e0065d74"
      },
      "source": [
        "df_estrangeiros.plot( kind = 'pie', y = 'IBGE_RES_POP', autopct='%1.1f%%' , labels = df_estrangeiros[ 'CITY'], figsize = (10,10), fontsize = 12 )"
      ],
      "execution_count": 7,
      "outputs": [
        {
          "output_type": "execute_result",
          "data": {
            "text/plain": [
              "<matplotlib.axes._subplots.AxesSubplot at 0x7ff5f72ae4e0>"
            ]
          },
          "metadata": {
            "tags": []
          },
          "execution_count": 7
        },
        {
          "output_type": "display_data",
          "data": {
            "image/png": "[encoded data removed]",
            "text/plain": [
              "<Figure size 720x720 with 1 Axes>"
            ]
          },
          "metadata": {
            "tags": []
          }
        }
      ]
    },
    {
      "cell_type": "markdown",
      "metadata": {
        "id": "7GNxTOiouSOw",
        "colab_type": "text"
      },
      "source": [
        "### 04 - Cidades que possuem maior longevidade considerando IDH"
      ]
    },
    {
      "cell_type": "code",
      "metadata": {
        "id": "yBn42N0ouGUJ",
        "colab_type": "code",
        "colab": {
          "base_uri": "https://localhost:8080/",
          "height": 352
        },
        "outputId": "a6cc64f9-d51e-46e9-cd2f-9af70dfa6bcf"
      },
      "source": [
        "df_longevidade = br_cities[ [ 'CITY','STATE','IBGE_60+', 'IBGE_RES_POP', 'IDHM_Longevidade' ] ].sort_values( by = ['IDHM_Longevidade', 'IBGE_60+'], ascending = False ).head(10)\n",
        "df_longevidade"
      ],
      "execution_count": 8,
      "outputs": [
        {
          "output_type": "execute_result",
          "data": {
            "text/html": [
              "<div>\n",
              "<style scoped>\n",
              "    .dataframe tbody tr th:only-of-type {\n",
              "        vertical-align: middle;\n",
              "    }\n",
              "\n",
              "    .dataframe tbody tr th {\n",
              "        vertical-align: top;\n",
              "    }\n",
              "\n",
              "    .dataframe thead th {\n",
              "        text-align: right;\n",
              "    }\n",
              "</style>\n",
              "<table border=\"1\" class=\"dataframe\">\n",
              "  <thead>\n",
              "    <tr style=\"text-align: right;\">\n",
              "      <th></th>\n",
              "      <th>CITY</th>\n",
              "      <th>STATE</th>\n",
              "      <th>IBGE_60+</th>\n",
              "      <th>IBGE_RES_POP</th>\n",
              "      <th>IDHM_Longevidade</th>\n",
              "    </tr>\n",
              "  </thead>\n",
              "  <tbody>\n",
              "    <tr>\n",
              "      <th>40</th>\n",
              "      <td>Blumenau</td>\n",
              "      <td>SC</td>\n",
              "      <td>26940.0</td>\n",
              "      <td>309011.0</td>\n",
              "      <td>0.894</td>\n",
              "    </tr>\n",
              "    <tr>\n",
              "      <th>158</th>\n",
              "      <td>Balneário Camboriú</td>\n",
              "      <td>SC</td>\n",
              "      <td>11490.0</td>\n",
              "      <td>108089.0</td>\n",
              "      <td>0.894</td>\n",
              "    </tr>\n",
              "    <tr>\n",
              "      <th>139</th>\n",
              "      <td>Brusque</td>\n",
              "      <td>SC</td>\n",
              "      <td>9082.0</td>\n",
              "      <td>105503.0</td>\n",
              "      <td>0.894</td>\n",
              "    </tr>\n",
              "    <tr>\n",
              "      <th>249</th>\n",
              "      <td>Rio Do Sul</td>\n",
              "      <td>SC</td>\n",
              "      <td>6185.0</td>\n",
              "      <td>61198.0</td>\n",
              "      <td>0.894</td>\n",
              "    </tr>\n",
              "    <tr>\n",
              "      <th>3071</th>\n",
              "      <td>Rancho Queimado</td>\n",
              "      <td>SC</td>\n",
              "      <td>160.0</td>\n",
              "      <td>2748.0</td>\n",
              "      <td>0.893</td>\n",
              "    </tr>\n",
              "    <tr>\n",
              "      <th>2732</th>\n",
              "      <td>Rio Do Oeste</td>\n",
              "      <td>SC</td>\n",
              "      <td>469.0</td>\n",
              "      <td>7090.0</td>\n",
              "      <td>0.892</td>\n",
              "    </tr>\n",
              "    <tr>\n",
              "      <th>786</th>\n",
              "      <td>Porto União</td>\n",
              "      <td>SC</td>\n",
              "      <td>3348.0</td>\n",
              "      <td>33493.0</td>\n",
              "      <td>0.891</td>\n",
              "    </tr>\n",
              "    <tr>\n",
              "      <th>203</th>\n",
              "      <td>Joaçaba</td>\n",
              "      <td>SC</td>\n",
              "      <td>1989.0</td>\n",
              "      <td>27020.0</td>\n",
              "      <td>0.891</td>\n",
              "    </tr>\n",
              "    <tr>\n",
              "      <th>2398</th>\n",
              "      <td>Nova Trento</td>\n",
              "      <td>SC</td>\n",
              "      <td>1042.0</td>\n",
              "      <td>12190.0</td>\n",
              "      <td>0.891</td>\n",
              "    </tr>\n",
              "    <tr>\n",
              "      <th>3929</th>\n",
              "      <td>Iomerê</td>\n",
              "      <td>SC</td>\n",
              "      <td>162.0</td>\n",
              "      <td>2739.0</td>\n",
              "      <td>0.891</td>\n",
              "    </tr>\n",
              "  </tbody>\n",
              "</table>\n",
              "</div>"
            ],
            "text/plain": [
              "                    CITY STATE  IBGE_60+  IBGE_RES_POP  IDHM_Longevidade\n",
              "40              Blumenau    SC   26940.0      309011.0             0.894\n",
              "158   Balneário Camboriú    SC   11490.0      108089.0             0.894\n",
              "139              Brusque    SC    9082.0      105503.0             0.894\n",
              "249           Rio Do Sul    SC    6185.0       61198.0             0.894\n",
              "3071     Rancho Queimado    SC     160.0        2748.0             0.893\n",
              "2732        Rio Do Oeste    SC     469.0        7090.0             0.892\n",
              "786          Porto União    SC    3348.0       33493.0             0.891\n",
              "203              Joaçaba    SC    1989.0       27020.0             0.891\n",
              "2398         Nova Trento    SC    1042.0       12190.0             0.891\n",
              "3929              Iomerê    SC     162.0        2739.0             0.891"
            ]
          },
          "metadata": {
            "tags": []
          },
          "execution_count": 8
        }
      ]
    },
    {
      "cell_type": "code",
      "metadata": {
        "id": "Bwgebt3tNCNk",
        "colab_type": "code",
        "colab": {
          "base_uri": "https://localhost:8080/",
          "height": 590
        },
        "outputId": "3ed6845e-1fef-4162-c83d-732dc0262333"
      },
      "source": [
        "df_longevidade.plot( kind = 'pie', y = 'IBGE_RES_POP', autopct='%1.1f%%' , labels = df_longevidade[ 'CITY'], figsize = (10,10), fontsize = 12 )"
      ],
      "execution_count": 7,
      "outputs": [
        {
          "output_type": "execute_result",
          "data": {
            "text/plain": [
              "<matplotlib.axes._subplots.AxesSubplot at 0x7fb9c9bf9588>"
            ]
          },
          "metadata": {
            "tags": []
          },
          "execution_count": 7
        },
        {
          "output_type": "display_data",
          "data": {
            "image/png": "[encoded data removed]",
            "text/plain": [
              "<Figure size 720x720 with 1 Axes>"
            ]
          },
          "metadata": {
            "tags": []
          }
        }
      ]
    },
    {
      "cell_type": "markdown",
      "metadata": {
        "id": "eDfrM0nozcyc",
        "colab_type": "text"
      },
      "source": [
        "### 05 - Quais são as top 5 cidades com a melhor classificação turistica?"
      ]
    },
    {
      "cell_type": "code",
      "metadata": {
        "id": "vXegQTy_8iZT",
        "colab_type": "code",
        "colab": {
          "base_uri": "https://localhost:8080/",
          "height": 234
        },
        "outputId": "43880205-07e2-49b3-e08a-ae2b809a6215"
      },
      "source": [
        "categorias = br_cities[ 'CATEGORIA_TUR' ].notna()\n",
        "br_cities[ categorias ][ br_cities['CATEGORIA_TUR'] == 'A' ][['CITY','STATE','CATEGORIA_TUR']].head(5)"
      ],
      "execution_count": 37,
      "outputs": [
        {
          "output_type": "stream",
          "text": [
            "/usr/local/lib/python3.6/dist-packages/ipykernel_launcher.py:2: UserWarning: Boolean Series key will be reindexed to match DataFrame index.\n",
            "  \n"
          ],
          "name": "stderr"
        },
        {
          "output_type": "execute_result",
          "data": {
            "text/html": [
              "<div>\n",
              "<style scoped>\n",
              "    .dataframe tbody tr th:only-of-type {\n",
              "        vertical-align: middle;\n",
              "    }\n",
              "\n",
              "    .dataframe tbody tr th {\n",
              "        vertical-align: top;\n",
              "    }\n",
              "\n",
              "    .dataframe thead th {\n",
              "        text-align: right;\n",
              "    }\n",
              "</style>\n",
              "<table border=\"1\" class=\"dataframe\">\n",
              "  <thead>\n",
              "    <tr style=\"text-align: right;\">\n",
              "      <th></th>\n",
              "      <th>CITY</th>\n",
              "      <th>STATE</th>\n",
              "      <th>CATEGORIA_TUR</th>\n",
              "    </tr>\n",
              "  </thead>\n",
              "  <tbody>\n",
              "    <tr>\n",
              "      <th>0</th>\n",
              "      <td>São Paulo</td>\n",
              "      <td>SP</td>\n",
              "      <td>A</td>\n",
              "    </tr>\n",
              "    <tr>\n",
              "      <th>2</th>\n",
              "      <td>Rio De Janeiro</td>\n",
              "      <td>RJ</td>\n",
              "      <td>A</td>\n",
              "    </tr>\n",
              "    <tr>\n",
              "      <th>3</th>\n",
              "      <td>Brasília</td>\n",
              "      <td>DF</td>\n",
              "      <td>A</td>\n",
              "    </tr>\n",
              "    <tr>\n",
              "      <th>4</th>\n",
              "      <td>Porto Alegre</td>\n",
              "      <td>RS</td>\n",
              "      <td>A</td>\n",
              "    </tr>\n",
              "    <tr>\n",
              "      <th>5</th>\n",
              "      <td>Belo Horizonte</td>\n",
              "      <td>MG</td>\n",
              "      <td>A</td>\n",
              "    </tr>\n",
              "  </tbody>\n",
              "</table>\n",
              "</div>"
            ],
            "text/plain": [
              "             CITY STATE CATEGORIA_TUR\n",
              "0       São Paulo    SP             A\n",
              "2  Rio De Janeiro    RJ             A\n",
              "3        Brasília    DF             A\n",
              "4    Porto Alegre    RS             A\n",
              "5  Belo Horizonte    MG             A"
            ]
          },
          "metadata": {
            "tags": []
          },
          "execution_count": 37
        }
      ]
    },
    {
      "cell_type": "markdown",
      "metadata": {
        "id": "ym7xXe3C9Nok",
        "colab_type": "text"
      },
      "source": [
        "### 06 - Quantas cidades possuem categoria turistica A?"
      ]
    },
    {
      "cell_type": "markdown",
      "metadata": {
        "id": "8L424avIBIrQ",
        "colab_type": "text"
      },
      "source": [
        "##### Forma bonita"
      ]
    },
    {
      "cell_type": "code",
      "metadata": {
        "id": "uA6fetOumQMd",
        "colab_type": "code",
        "colab": {
          "base_uri": "https://localhost:8080/",
          "height": 32
        },
        "outputId": "5fabde46-507f-4981-c70a-6c88aa706f4d"
      },
      "source": [
        "quantidade = list( filter( lambda x: 'a' in str(x).lower(), br_cities[ categorias ]['CATEGORIA_TUR'].tolist() ) )\n",
        "len(quantidade)"
      ],
      "execution_count": 38,
      "outputs": [
        {
          "output_type": "execute_result",
          "data": {
            "text/plain": [
              "52"
            ]
          },
          "metadata": {
            "tags": []
          },
          "execution_count": 38
        }
      ]
    },
    {
      "cell_type": "markdown",
      "metadata": {
        "id": "UsvZNq0cnWme",
        "colab_type": "text"
      },
      "source": [
        "###### Forma Simples"
      ]
    },
    {
      "cell_type": "code",
      "metadata": {
        "id": "50r5H7wPmQbs",
        "colab_type": "code",
        "colab": {
          "base_uri": "https://localhost:8080/",
          "height": 115
        },
        "outputId": "e26ef9a9-a384-4dce-9eac-0f9050bad5b6"
      },
      "source": [
        "br_cities['CATEGORIA_TUR'].value_counts()"
      ],
      "execution_count": 17,
      "outputs": [
        {
          "output_type": "execute_result",
          "data": {
            "text/plain": [
              "D    1893\n",
              "E     653\n",
              "C     522\n",
              "B     168\n",
              "A      52\n",
              "Name: CATEGORIA_TUR, dtype: int64"
            ]
          },
          "metadata": {
            "tags": []
          },
          "execution_count": 17
        }
      ]
    },
    {
      "cell_type": "markdown",
      "metadata": {
        "id": "PvUaF-0W24XF",
        "colab_type": "text"
      },
      "source": [
        "### 07 - Quantidade de municípios para cada Estado com Uber e número total de carros"
      ]
    },
    {
      "cell_type": "code",
      "metadata": {
        "id": "HO2GBJTz6RQW",
        "colab_type": "code",
        "colab": {
          "base_uri": "https://localhost:8080/",
          "height": 231
        },
        "outputId": "9e4c68b2-fca1-4bf9-9663-d267901817b1"
      },
      "source": [
        "br_cities[ [ 'UBER','Cars' ] ] = br_cities[ [ 'UBER','Cars' ] ].fillna( value = 0 )\n",
        "\n",
        "df_uber = br_cities.groupby( 'STATE' )[ [ 'UBER','Cars' ] ].sum().sort_values( by = [ 'UBER','Cars' ], ascending = False ).head()\n",
        "df_uber"
      ],
      "execution_count": 7,
      "outputs": [
        {
          "output_type": "execute_result",
          "data": {
            "text/html": [
              "<div>\n",
              "<style scoped>\n",
              "    .dataframe tbody tr th:only-of-type {\n",
              "        vertical-align: middle;\n",
              "    }\n",
              "\n",
              "    .dataframe tbody tr th {\n",
              "        vertical-align: top;\n",
              "    }\n",
              "\n",
              "    .dataframe thead th {\n",
              "        text-align: right;\n",
              "    }\n",
              "</style>\n",
              "<table border=\"1\" class=\"dataframe\">\n",
              "  <thead>\n",
              "    <tr style=\"text-align: right;\">\n",
              "      <th></th>\n",
              "      <th>UBER</th>\n",
              "      <th>Cars</th>\n",
              "    </tr>\n",
              "    <tr>\n",
              "      <th>STATE</th>\n",
              "      <th></th>\n",
              "      <th></th>\n",
              "    </tr>\n",
              "  </thead>\n",
              "  <tbody>\n",
              "    <tr>\n",
              "      <th>SP</th>\n",
              "      <td>17.0</td>\n",
              "      <td>18314825.0</td>\n",
              "    </tr>\n",
              "    <tr>\n",
              "      <th>MG</th>\n",
              "      <td>17.0</td>\n",
              "      <td>6182231.0</td>\n",
              "    </tr>\n",
              "    <tr>\n",
              "      <th>RJ</th>\n",
              "      <td>11.0</td>\n",
              "      <td>4526405.0</td>\n",
              "    </tr>\n",
              "    <tr>\n",
              "      <th>PR</th>\n",
              "      <td>11.0</td>\n",
              "      <td>4438392.0</td>\n",
              "    </tr>\n",
              "    <tr>\n",
              "      <th>BA</th>\n",
              "      <td>10.0</td>\n",
              "      <td>1835913.0</td>\n",
              "    </tr>\n",
              "  </tbody>\n",
              "</table>\n",
              "</div>"
            ],
            "text/plain": [
              "       UBER        Cars\n",
              "STATE                  \n",
              "SP     17.0  18314825.0\n",
              "MG     17.0   6182231.0\n",
              "RJ     11.0   4526405.0\n",
              "PR     11.0   4438392.0\n",
              "BA     10.0   1835913.0"
            ]
          },
          "metadata": {
            "tags": []
          },
          "execution_count": 7
        }
      ]
    },
    {
      "cell_type": "code",
      "metadata": {
        "id": "nJ7dz0rauN_e",
        "colab_type": "code",
        "colab": {
          "base_uri": "https://localhost:8080/",
          "height": 523
        },
        "outputId": "c4339cff-e609-4f19-89af-2691bf029420"
      },
      "source": [
        "#df_uber.plot( kind = 'pie', y = 'Cars', autopct='%1.1f%%' , labels = df_uber.index, figsize = (10,10), fontsize = 12 )\n",
        "\n",
        "plt.figure( figsize = (10, 8) )\n",
        "sns.barplot( x = df_uber.index, y = df_uber['Cars'] )"
      ],
      "execution_count": 32,
      "outputs": [
        {
          "output_type": "execute_result",
          "data": {
            "text/plain": [
              "<matplotlib.axes._subplots.AxesSubplot at 0x7fb9bce27e80>"
            ]
          },
          "metadata": {
            "tags": []
          },
          "execution_count": 32
        },
        {
          "output_type": "display_data",
          "data": {
            "image/png": "[encoded data removed]",
            "text/plain": [
              "<Figure size 720x576 with 1 Axes>"
            ]
          },
          "metadata": {
            "tags": []
          }
        }
      ]
    },
    {
      "cell_type": "markdown",
      "metadata": {
        "id": "uPQ4ULkONnEM",
        "colab_type": "text"
      },
      "source": [
        "### 08 - Quantidade de municípios com Uber\n"
      ]
    },
    {
      "cell_type": "code",
      "metadata": {
        "id": "aKSMZYSgNVJs",
        "colab_type": "code",
        "colab": {
          "base_uri": "https://localhost:8080/",
          "height": 131
        },
        "outputId": "2567a3f8-ddbb-4bb3-d83f-47a98dbcd988"
      },
      "source": [
        "df_uber2 = br_cities.groupby( 'STATE' ).apply( lambda x: (x.UBER == 1).sum() ).sort_values( ascending = False ).head()\n",
        "df_uber2"
      ],
      "execution_count": 13,
      "outputs": [
        {
          "output_type": "execute_result",
          "data": {
            "text/plain": [
              "STATE\n",
              "MG    17\n",
              "SP    17\n",
              "PR    11\n",
              "RJ    11\n",
              "BA    10\n",
              "dtype: int64"
            ]
          },
          "metadata": {
            "tags": []
          },
          "execution_count": 13
        }
      ]
    },
    {
      "cell_type": "markdown",
      "metadata": {
        "id": "E4kvDwVZD8lD",
        "colab_type": "text"
      },
      "source": [
        "### 09 - Média de carros por Estado"
      ]
    },
    {
      "cell_type": "code",
      "metadata": {
        "id": "pqJ_946UAZzT",
        "colab_type": "code",
        "colab": {
          "base_uri": "https://localhost:8080/",
          "height": 131
        },
        "outputId": "cde65df3-e62c-4d8c-9fff-b3ebe4d980cb"
      },
      "source": [
        "br_cities.groupby( 'STATE' )['Cars'].mean().sort_values( ascending = False ).head()"
      ],
      "execution_count": 8,
      "outputs": [
        {
          "output_type": "execute_result",
          "data": {
            "text/plain": [
              "STATE\n",
              "DF    1.288107e+06\n",
              "RJ    4.867102e+04\n",
              "SP    2.835112e+04\n",
              "ES    1.232264e+04\n",
              "PR    1.112379e+04\n",
              "Name: Cars, dtype: float64"
            ]
          },
          "metadata": {
            "tags": []
          },
          "execution_count": 8
        }
      ]
    },
    {
      "cell_type": "markdown",
      "metadata": {
        "id": "xdvVOqBfVVj_",
        "colab_type": "text"
      },
      "source": [
        "### 10 - Quais são as Cidades com maior número de Wal-Mart e Mc Donald's"
      ]
    },
    {
      "cell_type": "code",
      "metadata": {
        "id": "NuMfETL0PGz3",
        "colab_type": "code",
        "colab": {
          "base_uri": "https://localhost:8080/",
          "height": 201
        },
        "outputId": "ed7954b8-f764-46e5-95cb-f2d8a28e9b11"
      },
      "source": [
        "br_cities[ [ 'CITY', 'MAC', 'WAL-MART' ] ].sort_values( by = ['MAC','WAL-MART'], ascending = False ).head()"
      ],
      "execution_count": 18,
      "outputs": [
        {
          "output_type": "execute_result",
          "data": {
            "text/html": [
              "<div>\n",
              "<style scoped>\n",
              "    .dataframe tbody tr th:only-of-type {\n",
              "        vertical-align: middle;\n",
              "    }\n",
              "\n",
              "    .dataframe tbody tr th {\n",
              "        vertical-align: top;\n",
              "    }\n",
              "\n",
              "    .dataframe thead th {\n",
              "        text-align: right;\n",
              "    }\n",
              "</style>\n",
              "<table border=\"1\" class=\"dataframe\">\n",
              "  <thead>\n",
              "    <tr style=\"text-align: right;\">\n",
              "      <th></th>\n",
              "      <th>CITY</th>\n",
              "      <th>MAC</th>\n",
              "      <th>WAL-MART</th>\n",
              "    </tr>\n",
              "  </thead>\n",
              "  <tbody>\n",
              "    <tr>\n",
              "      <th>0</th>\n",
              "      <td>São Paulo</td>\n",
              "      <td>130.0</td>\n",
              "      <td>7.0</td>\n",
              "    </tr>\n",
              "    <tr>\n",
              "      <th>2</th>\n",
              "      <td>Rio De Janeiro</td>\n",
              "      <td>68.0</td>\n",
              "      <td>1.0</td>\n",
              "    </tr>\n",
              "    <tr>\n",
              "      <th>3</th>\n",
              "      <td>Brasília</td>\n",
              "      <td>28.0</td>\n",
              "      <td>1.0</td>\n",
              "    </tr>\n",
              "    <tr>\n",
              "      <th>5</th>\n",
              "      <td>Belo Horizonte</td>\n",
              "      <td>21.0</td>\n",
              "      <td>2.0</td>\n",
              "    </tr>\n",
              "    <tr>\n",
              "      <th>9</th>\n",
              "      <td>Curitiba</td>\n",
              "      <td>20.0</td>\n",
              "      <td>16.0</td>\n",
              "    </tr>\n",
              "  </tbody>\n",
              "</table>\n",
              "</div>"
            ],
            "text/plain": [
              "             CITY    MAC  WAL-MART\n",
              "0       São Paulo  130.0       7.0\n",
              "2  Rio De Janeiro   68.0       1.0\n",
              "3        Brasília   28.0       1.0\n",
              "5  Belo Horizonte   21.0       2.0\n",
              "9        Curitiba   20.0      16.0"
            ]
          },
          "metadata": {
            "tags": []
          },
          "execution_count": 18
        }
      ]
    },
    {
      "cell_type": "markdown",
      "metadata": {
        "id": "DIhexc3PeQnI",
        "colab_type": "text"
      },
      "source": [
        "### 11 - Quais são os Estados com maior número de Wal-Mart e Mc Donald's"
      ]
    },
    {
      "cell_type": "code",
      "metadata": {
        "id": "uC5UzbGoPHh4",
        "colab_type": "code",
        "colab": {
          "base_uri": "https://localhost:8080/",
          "height": 231
        },
        "outputId": "901a02be-f348-4c78-c2de-7f87d8a2448c"
      },
      "source": [
        "df_WalMc = br_cities.groupby( 'STATE' )[ [ 'WAL-MART', 'MAC' ] ].count().sort_values( by = [ 'WAL-MART', 'MAC' ] , ascending = False ).head()\n",
        "df_WalMc"
      ],
      "execution_count": 10,
      "outputs": [
        {
          "output_type": "execute_result",
          "data": {
            "text/html": [
              "<div>\n",
              "<style scoped>\n",
              "    .dataframe tbody tr th:only-of-type {\n",
              "        vertical-align: middle;\n",
              "    }\n",
              "\n",
              "    .dataframe tbody tr th {\n",
              "        vertical-align: top;\n",
              "    }\n",
              "\n",
              "    .dataframe thead th {\n",
              "        text-align: right;\n",
              "    }\n",
              "</style>\n",
              "<table border=\"1\" class=\"dataframe\">\n",
              "  <thead>\n",
              "    <tr style=\"text-align: right;\">\n",
              "      <th></th>\n",
              "      <th>WAL-MART</th>\n",
              "      <th>MAC</th>\n",
              "    </tr>\n",
              "    <tr>\n",
              "      <th>STATE</th>\n",
              "      <th></th>\n",
              "      <th></th>\n",
              "    </tr>\n",
              "  </thead>\n",
              "  <tbody>\n",
              "    <tr>\n",
              "      <th>RS</th>\n",
              "      <td>31</td>\n",
              "      <td>16</td>\n",
              "    </tr>\n",
              "    <tr>\n",
              "      <th>SP</th>\n",
              "      <td>26</td>\n",
              "      <td>64</td>\n",
              "    </tr>\n",
              "    <tr>\n",
              "      <th>BA</th>\n",
              "      <td>7</td>\n",
              "      <td>6</td>\n",
              "    </tr>\n",
              "    <tr>\n",
              "      <th>SC</th>\n",
              "      <td>6</td>\n",
              "      <td>13</td>\n",
              "    </tr>\n",
              "    <tr>\n",
              "      <th>PE</th>\n",
              "      <td>6</td>\n",
              "      <td>4</td>\n",
              "    </tr>\n",
              "  </tbody>\n",
              "</table>\n",
              "</div>"
            ],
            "text/plain": [
              "       WAL-MART  MAC\n",
              "STATE               \n",
              "RS           31   16\n",
              "SP           26   64\n",
              "BA            7    6\n",
              "SC            6   13\n",
              "PE            6    4"
            ]
          },
          "metadata": {
            "tags": []
          },
          "execution_count": 10
        }
      ]
    },
    {
      "cell_type": "markdown",
      "metadata": {
        "id": "G8AqEezNsu82",
        "colab_type": "text"
      },
      "source": [
        "### 12 - Cidades com IDH para educação acima de 0.800"
      ]
    },
    {
      "cell_type": "code",
      "metadata": {
        "id": "yziifLNjvQ_d",
        "colab_type": "code",
        "colab": {
          "base_uri": "https://localhost:8080/",
          "height": 170
        },
        "outputId": "6f58d5f5-c77e-4715-81a5-d9558fd27156"
      },
      "source": [
        "br_cities['IDHM_Educacao'] = br_cities['IDHM_Educacao'].fillna( value = 0 )\n",
        "\n",
        "br_cities[ br_cities['IDHM_Educacao'].map( lambda x: x > 0.800 ) ][ ['CITY','STATE','IDHM_Educacao','IDHM_Longevidade'] ]"
      ],
      "execution_count": 27,
      "outputs": [
        {
          "output_type": "execute_result",
          "data": {
            "text/html": [
              "<div>\n",
              "<style scoped>\n",
              "    .dataframe tbody tr th:only-of-type {\n",
              "        vertical-align: middle;\n",
              "    }\n",
              "\n",
              "    .dataframe tbody tr th {\n",
              "        vertical-align: top;\n",
              "    }\n",
              "\n",
              "    .dataframe thead th {\n",
              "        text-align: right;\n",
              "    }\n",
              "</style>\n",
              "<table border=\"1\" class=\"dataframe\">\n",
              "  <thead>\n",
              "    <tr style=\"text-align: right;\">\n",
              "      <th></th>\n",
              "      <th>CITY</th>\n",
              "      <th>STATE</th>\n",
              "      <th>IDHM_Educacao</th>\n",
              "      <th>IDHM_Longevidade</th>\n",
              "    </tr>\n",
              "  </thead>\n",
              "  <tbody>\n",
              "    <tr>\n",
              "      <th>8</th>\n",
              "      <td>Santos</td>\n",
              "      <td>SP</td>\n",
              "      <td>0.807</td>\n",
              "      <td>0.852</td>\n",
              "    </tr>\n",
              "    <tr>\n",
              "      <th>28</th>\n",
              "      <td>São Caetano Do Sul</td>\n",
              "      <td>SP</td>\n",
              "      <td>0.811</td>\n",
              "      <td>0.887</td>\n",
              "    </tr>\n",
              "    <tr>\n",
              "      <th>42</th>\n",
              "      <td>Vitória</td>\n",
              "      <td>ES</td>\n",
              "      <td>0.805</td>\n",
              "      <td>0.855</td>\n",
              "    </tr>\n",
              "    <tr>\n",
              "      <th>1739</th>\n",
              "      <td>Águas De São Pedro</td>\n",
              "      <td>SP</td>\n",
              "      <td>0.825</td>\n",
              "      <td>0.890</td>\n",
              "    </tr>\n",
              "  </tbody>\n",
              "</table>\n",
              "</div>"
            ],
            "text/plain": [
              "                    CITY STATE  IDHM_Educacao  IDHM_Longevidade\n",
              "8                 Santos    SP          0.807             0.852\n",
              "28    São Caetano Do Sul    SP          0.811             0.887\n",
              "42               Vitória    ES          0.805             0.855\n",
              "1739  Águas De São Pedro    SP          0.825             0.890"
            ]
          },
          "metadata": {
            "tags": []
          },
          "execution_count": 27
        }
      ]
    },
    {
      "cell_type": "markdown",
      "metadata": {
        "id": "Q-pTjJOP0Pxd",
        "colab_type": "text"
      },
      "source": [
        "### 13 - Existe correlação entre os melhores IDH para educação e Longevidade?"
      ]
    },
    {
      "cell_type": "code",
      "metadata": {
        "id": "oBHRg5nnvRKC",
        "colab_type": "code",
        "colab": {
          "base_uri": "https://localhost:8080/",
          "height": 201
        },
        "outputId": "03233454-4c32-4097-8bdc-e1785dd18db8"
      },
      "source": [
        "br_cities[ ['CITY','IDHM_Longevidade'] ].sort_values( by = 'IDHM_Longevidade', ascending = False ).head()"
      ],
      "execution_count": 37,
      "outputs": [
        {
          "output_type": "execute_result",
          "data": {
            "text/html": [
              "<div>\n",
              "<style scoped>\n",
              "    .dataframe tbody tr th:only-of-type {\n",
              "        vertical-align: middle;\n",
              "    }\n",
              "\n",
              "    .dataframe tbody tr th {\n",
              "        vertical-align: top;\n",
              "    }\n",
              "\n",
              "    .dataframe thead th {\n",
              "        text-align: right;\n",
              "    }\n",
              "</style>\n",
              "<table border=\"1\" class=\"dataframe\">\n",
              "  <thead>\n",
              "    <tr style=\"text-align: right;\">\n",
              "      <th></th>\n",
              "      <th>CITY</th>\n",
              "      <th>IDHM_Longevidade</th>\n",
              "    </tr>\n",
              "  </thead>\n",
              "  <tbody>\n",
              "    <tr>\n",
              "      <th>40</th>\n",
              "      <td>Blumenau</td>\n",
              "      <td>0.894</td>\n",
              "    </tr>\n",
              "    <tr>\n",
              "      <th>158</th>\n",
              "      <td>Balneário Camboriú</td>\n",
              "      <td>0.894</td>\n",
              "    </tr>\n",
              "    <tr>\n",
              "      <th>249</th>\n",
              "      <td>Rio Do Sul</td>\n",
              "      <td>0.894</td>\n",
              "    </tr>\n",
              "    <tr>\n",
              "      <th>139</th>\n",
              "      <td>Brusque</td>\n",
              "      <td>0.894</td>\n",
              "    </tr>\n",
              "    <tr>\n",
              "      <th>3071</th>\n",
              "      <td>Rancho Queimado</td>\n",
              "      <td>0.893</td>\n",
              "    </tr>\n",
              "  </tbody>\n",
              "</table>\n",
              "</div>"
            ],
            "text/plain": [
              "                    CITY  IDHM_Longevidade\n",
              "40              Blumenau             0.894\n",
              "158   Balneário Camboriú             0.894\n",
              "249           Rio Do Sul             0.894\n",
              "139              Brusque             0.894\n",
              "3071     Rancho Queimado             0.893"
            ]
          },
          "metadata": {
            "tags": []
          },
          "execution_count": 37
        }
      ]
    },
    {
      "cell_type": "code",
      "metadata": {
        "id": "6nqyrubu0cMH",
        "colab_type": "code",
        "colab": {
          "base_uri": "https://localhost:8080/"
        },
        "outputId": "883e4375-1bf5-4275-da1e-c459d67ac33b"
      },
      "source": [
        "br_cities[ [ 'IDHM_Educacao','IDHM_Longevidade' ] ].corr()"
      ],
      "execution_count": 25,
      "outputs": [
        {
          "output_type": "execute_result",
          "data": {
            "text/html": [
              "<div>\n",
              "<style scoped>\n",
              "    .dataframe tbody tr th:only-of-type {\n",
              "        vertical-align: middle;\n",
              "    }\n",
              "\n",
              "    .dataframe tbody tr th {\n",
              "        vertical-align: top;\n",
              "    }\n",
              "\n",
              "    .dataframe thead th {\n",
              "        text-align: right;\n",
              "    }\n",
              "</style>\n",
              "<table border=\"1\" class=\"dataframe\">\n",
              "  <thead>\n",
              "    <tr style=\"text-align: right;\">\n",
              "      <th></th>\n",
              "      <th>IDHM_Educacao</th>\n",
              "      <th>IDHM_Longevidade</th>\n",
              "    </tr>\n",
              "  </thead>\n",
              "  <tbody>\n",
              "    <tr>\n",
              "      <th>IDHM_Educacao</th>\n",
              "      <td>1.000000</td>\n",
              "      <td>0.704506</td>\n",
              "    </tr>\n",
              "    <tr>\n",
              "      <th>IDHM_Longevidade</th>\n",
              "      <td>0.704506</td>\n",
              "      <td>1.000000</td>\n",
              "    </tr>\n",
              "  </tbody>\n",
              "</table>\n",
              "</div>"
            ],
            "text/plain": [
              "                  IDHM_Educacao  IDHM_Longevidade\n",
              "IDHM_Educacao          1.000000          0.704506\n",
              "IDHM_Longevidade       0.704506          1.000000"
            ]
          },
          "metadata": {
            "tags": []
          },
          "execution_count": 25
        }
      ]
    },
    {
      "cell_type": "markdown",
      "metadata": {
        "id": "02cZ-ZsU1aTq",
        "colab_type": "text"
      },
      "source": [
        "### 14 - Número de cidades que possuem mais do que 700.000,0 em áreas plantadas"
      ]
    },
    {
      "cell_type": "code",
      "metadata": {
        "id": "V4ONVct7vRUc",
        "colab_type": "code",
        "colab": {
          "base_uri": "https://localhost:8080/"
        },
        "outputId": "37e7c3ec-89f4-4890-d728-aa01c3400d30"
      },
      "source": [
        "br_cities['IBGE_PLANTED_AREA'] = br_cities['IBGE_PLANTED_AREA'].fillna( value = 0 )\n",
        "\n",
        "len( list( filter( lambda x: x > 700000.0, br_cities[ 'IBGE_PLANTED_AREA' ].tolist() ) ) )"
      ],
      "execution_count": 24,
      "outputs": [
        {
          "output_type": "execute_result",
          "data": {
            "text/plain": [
              "3"
            ]
          },
          "metadata": {
            "tags": []
          },
          "execution_count": 24
        }
      ]
    },
    {
      "cell_type": "markdown",
      "metadata": {
        "id": "DiFp8kYN7Jbs",
        "colab_type": "text"
      },
      "source": [
        "### 15 - Quais são as cidades que possuem maior área plantadas"
      ]
    },
    {
      "cell_type": "code",
      "metadata": {
        "id": "D93Nu8XBvRhY",
        "colab_type": "code",
        "colab": {
          "base_uri": "https://localhost:8080/",
          "height": 201
        },
        "outputId": "f0050eec-90ba-463e-cea3-00c051181966"
      },
      "source": [
        "df_plant = br_cities[ ['CITY', 'IBGE_PLANTED_AREA'] ].sort_values( by = 'IBGE_PLANTED_AREA', ascending = False ).head()\n",
        "df_plant"
      ],
      "execution_count": 17,
      "outputs": [
        {
          "output_type": "execute_result",
          "data": {
            "text/html": [
              "<div>\n",
              "<style scoped>\n",
              "    .dataframe tbody tr th:only-of-type {\n",
              "        vertical-align: middle;\n",
              "    }\n",
              "\n",
              "    .dataframe tbody tr th {\n",
              "        vertical-align: top;\n",
              "    }\n",
              "\n",
              "    .dataframe thead th {\n",
              "        text-align: right;\n",
              "    }\n",
              "</style>\n",
              "<table border=\"1\" class=\"dataframe\">\n",
              "  <thead>\n",
              "    <tr style=\"text-align: right;\">\n",
              "      <th></th>\n",
              "      <th>CITY</th>\n",
              "      <th>IBGE_PLANTED_AREA</th>\n",
              "    </tr>\n",
              "  </thead>\n",
              "  <tbody>\n",
              "    <tr>\n",
              "      <th>110</th>\n",
              "      <td>Sorriso</td>\n",
              "      <td>1205669.0</td>\n",
              "    </tr>\n",
              "    <tr>\n",
              "      <th>946</th>\n",
              "      <td>Campo Novo Do Parecis</td>\n",
              "      <td>725170.0</td>\n",
              "    </tr>\n",
              "    <tr>\n",
              "      <th>1206</th>\n",
              "      <td>Sapezal</td>\n",
              "      <td>700837.0</td>\n",
              "    </tr>\n",
              "    <tr>\n",
              "      <th>1086</th>\n",
              "      <td>Nova Mutum</td>\n",
              "      <td>695636.0</td>\n",
              "    </tr>\n",
              "    <tr>\n",
              "      <th>34</th>\n",
              "      <td>Rio Verde</td>\n",
              "      <td>621420.0</td>\n",
              "    </tr>\n",
              "  </tbody>\n",
              "</table>\n",
              "</div>"
            ],
            "text/plain": [
              "                       CITY  IBGE_PLANTED_AREA\n",
              "110                 Sorriso          1205669.0\n",
              "946   Campo Novo Do Parecis           725170.0\n",
              "1206                Sapezal           700837.0\n",
              "1086             Nova Mutum           695636.0\n",
              "34                Rio Verde           621420.0"
            ]
          },
          "metadata": {
            "tags": []
          },
          "execution_count": 17
        }
      ]
    },
    {
      "cell_type": "code",
      "metadata": {
        "id": "a47wThiKvRfg",
        "colab_type": "code",
        "colab": {
          "base_uri": "https://localhost:8080/",
          "height": 590
        },
        "outputId": "0ca982a8-099f-4fd2-cd8f-f2d0502ea617"
      },
      "source": [
        "df_plant.plot( kind = 'pie', y = 'IBGE_PLANTED_AREA', autopct='%1.1f%%' , labels = df_plant[ 'CITY' ], figsize = (10,10), fontsize = 12 )"
      ],
      "execution_count": 8,
      "outputs": [
        {
          "output_type": "execute_result",
          "data": {
            "text/plain": [
              "<matplotlib.axes._subplots.AxesSubplot at 0x7f5ae37ef748>"
            ]
          },
          "metadata": {
            "tags": []
          },
          "execution_count": 8
        },
        {
          "output_type": "display_data",
          "data": {
            "image/png": "[encoded data removed]",
            "text/plain": [
              "<Figure size 720x720 with 1 Axes>"
            ]
          },
          "metadata": {
            "tags": []
          }
        }
      ]
    },
    {
      "cell_type": "markdown",
      "metadata": {
        "id": "7PybGT_g8GhP",
        "colab_type": "text"
      },
      "source": [
        "### 16 - Cidades com maior quantidade de veiulos e postos policiais"
      ]
    },
    {
      "cell_type": "code",
      "metadata": {
        "id": "6njMBT4bvRdo",
        "colab_type": "code",
        "colab": {
          "base_uri": "https://localhost:8080/",
          "height": 201
        },
        "outputId": "ba0f08ca-cd5a-44c1-cdf7-60621ba95cc1"
      },
      "source": [
        "br_cities[ [ 'Motorcycles', 'POST_OFFICES' ] ] = br_cities[ [ 'Motorcycles', 'POST_OFFICES' ] ].apply( lambda x: x.fillna( value = 0 ) )\n",
        "\n",
        "br_cities['Total Veiculos'] = br_cities[ 'Motorcycles' ] + br_cities[ 'Cars' ]\n",
        "\n",
        "df_Vei = br_cities[ [ 'CITY','Total Veiculos', 'Cars', 'Motorcycles' ] ].sort_values( by = 'Total Veiculos', ascending = False ).head()\n",
        "\n",
        "df_Vei"
      ],
      "execution_count": 10,
      "outputs": [
        {
          "output_type": "execute_result",
          "data": {
            "text/html": [
              "<div>\n",
              "<style scoped>\n",
              "    .dataframe tbody tr th:only-of-type {\n",
              "        vertical-align: middle;\n",
              "    }\n",
              "\n",
              "    .dataframe tbody tr th {\n",
              "        vertical-align: top;\n",
              "    }\n",
              "\n",
              "    .dataframe thead th {\n",
              "        text-align: right;\n",
              "    }\n",
              "</style>\n",
              "<table border=\"1\" class=\"dataframe\">\n",
              "  <thead>\n",
              "    <tr style=\"text-align: right;\">\n",
              "      <th></th>\n",
              "      <th>CITY</th>\n",
              "      <th>Total Veiculos</th>\n",
              "      <th>Cars</th>\n",
              "      <th>Motorcycles</th>\n",
              "    </tr>\n",
              "  </thead>\n",
              "  <tbody>\n",
              "    <tr>\n",
              "      <th>0</th>\n",
              "      <td>São Paulo</td>\n",
              "      <td>6875565.0</td>\n",
              "      <td>5740995.0</td>\n",
              "      <td>1134570.0</td>\n",
              "    </tr>\n",
              "    <tr>\n",
              "      <th>2</th>\n",
              "      <td>Rio De Janeiro</td>\n",
              "      <td>2403416.0</td>\n",
              "      <td>2039930.0</td>\n",
              "      <td>363486.0</td>\n",
              "    </tr>\n",
              "    <tr>\n",
              "      <th>5</th>\n",
              "      <td>Belo Horizonte</td>\n",
              "      <td>1687511.0</td>\n",
              "      <td>1439055.0</td>\n",
              "      <td>248456.0</td>\n",
              "    </tr>\n",
              "    <tr>\n",
              "      <th>3</th>\n",
              "      <td>Brasília</td>\n",
              "      <td>1499499.0</td>\n",
              "      <td>1288107.0</td>\n",
              "      <td>211392.0</td>\n",
              "    </tr>\n",
              "    <tr>\n",
              "      <th>9</th>\n",
              "      <td>Curitiba</td>\n",
              "      <td>1235858.0</td>\n",
              "      <td>1062063.0</td>\n",
              "      <td>173795.0</td>\n",
              "    </tr>\n",
              "  </tbody>\n",
              "</table>\n",
              "</div>"
            ],
            "text/plain": [
              "             CITY  Total Veiculos       Cars  Motorcycles\n",
              "0       São Paulo       6875565.0  5740995.0    1134570.0\n",
              "2  Rio De Janeiro       2403416.0  2039930.0     363486.0\n",
              "5  Belo Horizonte       1687511.0  1439055.0     248456.0\n",
              "3        Brasília       1499499.0  1288107.0     211392.0\n",
              "9        Curitiba       1235858.0  1062063.0     173795.0"
            ]
          },
          "metadata": {
            "tags": []
          },
          "execution_count": 10
        }
      ]
    },
    {
      "cell_type": "markdown",
      "metadata": {
        "id": "TeWIjcn1J0YM",
        "colab_type": "text"
      },
      "source": [
        "### 17 - Dentre essas cidades qual a relação de carros e motos"
      ]
    },
    {
      "cell_type": "code",
      "metadata": {
        "id": "cYPGWbdQqVce",
        "colab_type": "code",
        "colab": {
          "base_uri": "https://localhost:8080/",
          "height": 507
        },
        "outputId": "088b5a67-0900-4e1a-a380-f11937507aa8"
      },
      "source": [
        "#df_Vei.plot( kind = 'pie', y = 'Total Veiculos', autopct='%1.1f%%' , labels = df_Vei[ 'CITY' ], figsize = (10,10), fontsize = 12 )\n",
        "\n",
        "f, ax = plt.subplots(figsize=(8, 8))\n",
        "\n",
        "# Plot Número de carros\n",
        "sns.set_color_codes( 'pastel' )\n",
        "\n",
        "sns.barplot( x = 'CITY', y = 'Cars', data = df_Vei, label = 'Carros', color = 'b',  )\n",
        "\n",
        "# Plot Número de Motos\n",
        "sns.set_color_codes( 'muted' ) \n",
        "\n",
        "sns.barplot( x = 'CITY', y = 'Motorcycles', data = df_Vei, label = 'Motos', color = 'b' )\n",
        "\n",
        "\n",
        "# Legendas \n",
        "ax.legend( ncol=2, loc = \"upper right\", frameon=True )\n",
        "\n",
        "ax.set( xlim=(-0.5, 5),ylabel=\"Quantidade de Carros e Motos em milhões\" )\n",
        "\n",
        "sns.despine(left=True, bottom=True)"
      ],
      "execution_count": 29,
      "outputs": [
        {
          "output_type": "display_data",
          "data": {
            "image/png": "[encoded data removed]",
            "text/plain": [
              "<Figure size 576x576 with 1 Axes>"
            ]
          },
          "metadata": {
            "tags": []
          }
        }
      ]
    },
    {
      "cell_type": "markdown",
      "metadata": {
        "id": "eTQYl_QJtrI6",
        "colab_type": "text"
      },
      "source": [
        "### 18 - Quais capitais arrecadam mais imposto"
      ]
    },
    {
      "cell_type": "code",
      "metadata": {
        "id": "xhsI_nu9uk2V",
        "colab_type": "code",
        "colab": {
          "base_uri": "https://localhost:8080/",
          "height": 201
        },
        "outputId": "3cf6b9e8-3507-4b86-ea42-15672e4f7e8f"
      },
      "source": [
        "br_cities[ br_cities['CAPITAL'].apply( lambda x: x == 1 ) ][[ 'CITY','TAXES' ]].sort_values( by = 'TAXES', ascending = False ).head()"
      ],
      "execution_count": 58,
      "outputs": [
        {
          "output_type": "execute_result",
          "data": {
            "text/html": [
              "<div>\n",
              "<style scoped>\n",
              "    .dataframe tbody tr th:only-of-type {\n",
              "        vertical-align: middle;\n",
              "    }\n",
              "\n",
              "    .dataframe tbody tr th {\n",
              "        vertical-align: top;\n",
              "    }\n",
              "\n",
              "    .dataframe thead th {\n",
              "        text-align: right;\n",
              "    }\n",
              "</style>\n",
              "<table border=\"1\" class=\"dataframe\">\n",
              "  <thead>\n",
              "    <tr style=\"text-align: right;\">\n",
              "      <th></th>\n",
              "      <th>CITY</th>\n",
              "      <th>TAXES</th>\n",
              "    </tr>\n",
              "  </thead>\n",
              "  <tbody>\n",
              "    <tr>\n",
              "      <th>0</th>\n",
              "      <td>São Paulo</td>\n",
              "      <td>1.171254e+08</td>\n",
              "    </tr>\n",
              "    <tr>\n",
              "      <th>3</th>\n",
              "      <td>Brasília</td>\n",
              "      <td>2.914559e+07</td>\n",
              "    </tr>\n",
              "    <tr>\n",
              "      <th>21</th>\n",
              "      <td>Manaus</td>\n",
              "      <td>1.243323e+07</td>\n",
              "    </tr>\n",
              "    <tr>\n",
              "      <th>4</th>\n",
              "      <td>Porto Alegre</td>\n",
              "      <td>1.098603e+07</td>\n",
              "    </tr>\n",
              "    <tr>\n",
              "      <th>15</th>\n",
              "      <td>Fortaleza</td>\n",
              "      <td>8.004144e+06</td>\n",
              "    </tr>\n",
              "  </tbody>\n",
              "</table>\n",
              "</div>"
            ],
            "text/plain": [
              "            CITY         TAXES\n",
              "0      São Paulo  1.171254e+08\n",
              "3       Brasília  2.914559e+07\n",
              "21        Manaus  1.243323e+07\n",
              "4   Porto Alegre  1.098603e+07\n",
              "15     Fortaleza  8.004144e+06"
            ]
          },
          "metadata": {
            "tags": []
          },
          "execution_count": 58
        }
      ]
    },
    {
      "cell_type": "markdown",
      "metadata": {
        "id": "9qeSPbU9yD-a",
        "colab_type": "text"
      },
      "source": [
        "### 19 - Imposto Médio arrecado por pessoa nas Capitais"
      ]
    },
    {
      "cell_type": "code",
      "metadata": {
        "id": "JmsXQs94uuLU",
        "colab_type": "code",
        "colab": {
          "base_uri": "https://localhost:8080/",
          "height": 201
        },
        "outputId": "0ccbbfac-cadd-499d-fe73-3fd351c0eba4"
      },
      "source": [
        "df_imposto = br_cities[ br_cities['CAPITAL'].apply( lambda x: x == 1 ) ][[ 'CITY','TAXES','IBGE_RES_POP' ]].sort_values( by = 'TAXES', ascending = False ).head()\n",
        "\n",
        "df_imposto['TAX/PERSON'] = df_imposto[ 'TAXES' ]  / df_imposto[ 'IBGE_RES_POP' ]\n",
        "\n",
        "df_imposto"
      ],
      "execution_count": 61,
      "outputs": [
        {
          "output_type": "execute_result",
          "data": {
            "text/html": [
              "<div>\n",
              "<style scoped>\n",
              "    .dataframe tbody tr th:only-of-type {\n",
              "        vertical-align: middle;\n",
              "    }\n",
              "\n",
              "    .dataframe tbody tr th {\n",
              "        vertical-align: top;\n",
              "    }\n",
              "\n",
              "    .dataframe thead th {\n",
              "        text-align: right;\n",
              "    }\n",
              "</style>\n",
              "<table border=\"1\" class=\"dataframe\">\n",
              "  <thead>\n",
              "    <tr style=\"text-align: right;\">\n",
              "      <th></th>\n",
              "      <th>CITY</th>\n",
              "      <th>TAXES</th>\n",
              "      <th>IBGE_RES_POP</th>\n",
              "      <th>TAX/PERSON</th>\n",
              "    </tr>\n",
              "  </thead>\n",
              "  <tbody>\n",
              "    <tr>\n",
              "      <th>0</th>\n",
              "      <td>São Paulo</td>\n",
              "      <td>1.171254e+08</td>\n",
              "      <td>11253503.0</td>\n",
              "      <td>10.407905</td>\n",
              "    </tr>\n",
              "    <tr>\n",
              "      <th>3</th>\n",
              "      <td>Brasília</td>\n",
              "      <td>2.914559e+07</td>\n",
              "      <td>2570160.0</td>\n",
              "      <td>11.339989</td>\n",
              "    </tr>\n",
              "    <tr>\n",
              "      <th>21</th>\n",
              "      <td>Manaus</td>\n",
              "      <td>1.243323e+07</td>\n",
              "      <td>1802014.0</td>\n",
              "      <td>6.899631</td>\n",
              "    </tr>\n",
              "    <tr>\n",
              "      <th>4</th>\n",
              "      <td>Porto Alegre</td>\n",
              "      <td>1.098603e+07</td>\n",
              "      <td>1409351.0</td>\n",
              "      <td>7.795102</td>\n",
              "    </tr>\n",
              "    <tr>\n",
              "      <th>15</th>\n",
              "      <td>Fortaleza</td>\n",
              "      <td>8.004144e+06</td>\n",
              "      <td>2452185.0</td>\n",
              "      <td>3.264087</td>\n",
              "    </tr>\n",
              "  </tbody>\n",
              "</table>\n",
              "</div>"
            ],
            "text/plain": [
              "            CITY         TAXES  IBGE_RES_POP  TAX/PERSON\n",
              "0      São Paulo  1.171254e+08    11253503.0   10.407905\n",
              "3       Brasília  2.914559e+07     2570160.0   11.339989\n",
              "21        Manaus  1.243323e+07     1802014.0    6.899631\n",
              "4   Porto Alegre  1.098603e+07     1409351.0    7.795102\n",
              "15     Fortaleza  8.004144e+06     2452185.0    3.264087"
            ]
          },
          "metadata": {
            "tags": []
          },
          "execution_count": 61
        }
      ]
    },
    {
      "cell_type": "markdown",
      "metadata": {
        "id": "oT2WcfZR0DxD",
        "colab_type": "text"
      },
      "source": [
        "### 20 - Quantas Capitais "
      ]
    },
    {
      "cell_type": "code",
      "metadata": {
        "id": "wTH2jqsp0CNO",
        "colab_type": "code",
        "colab": {
          "base_uri": "https://localhost:8080/",
          "height": 32
        },
        "outputId": "ddfdc4ad-0e67-4701-99c1-986513cb813a"
      },
      "source": [
        "cap = list( filter( lambda x: x == 1 , br_cities['CAPITAL'].tolist() ) )\n",
        "len( cap )"
      ],
      "execution_count": 63,
      "outputs": [
        {
          "output_type": "execute_result",
          "data": {
            "text/plain": [
              "27"
            ]
          },
          "metadata": {
            "tags": []
          },
          "execution_count": 63
        }
      ]
    }
  ]
}